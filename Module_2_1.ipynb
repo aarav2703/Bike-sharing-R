{
  "nbformat": 4,
  "nbformat_minor": 0,
  "metadata": {
    "colab": {
      "provenance": [],
      "authorship_tag": "ABX9TyMNTLpKnJfFNzz86UvqEBYn",
      "include_colab_link": true
    },
    "kernelspec": {
      "name": "ir",
      "display_name": "R"
    },
    "language_info": {
      "name": "R"
    }
  },
  "cells": [
    {
      "cell_type": "markdown",
      "metadata": {
        "id": "view-in-github",
        "colab_type": "text"
      },
      "source": [
        "<a href=\"https://colab.research.google.com/github/aarav2703/Bike-sharing-R/blob/main/Module_2_1.ipynb\" target=\"_parent\"><img src=\"https://colab.research.google.com/assets/colab-badge.svg\" alt=\"Open In Colab\"/></a>"
      ]
    },
    {
      "cell_type": "markdown",
      "source": [
        "WIKIPEDIA PAGE HAS BEEN UPDATED AND COLUMNS HAVE BEEN REMOVED-BICYCLES, RIDERSHIP AND STATIONS\n",
        "\n",
        "raw_bike_sharing.csv is different from raw_bike_sharing_systems.csv\n",
        "\n",
        "CITY HAS BEEN RENAMED TO CITY/REGIONS\n",
        "\n",
        "\n",
        "To avoid errors csv files have been downloaded from the links provided by coursera\n"
      ],
      "metadata": {
        "id": "5ie4lMRjaHb0"
      }
    },
    {
      "cell_type": "code",
      "source": [
        "library(tidyverse)"
      ],
      "metadata": {
        "colab": {
          "base_uri": "https://localhost:8080/"
        },
        "id": "pLVnIjTReuhn",
        "outputId": "95777465-fbd5-45c2-9e28-9ca568bc2742"
      },
      "execution_count": null,
      "outputs": [
        {
          "output_type": "stream",
          "name": "stderr",
          "text": [
            "── \u001b[1mAttaching core tidyverse packages\u001b[22m ──────────────────────── tidyverse 2.0.0 ──\n",
            "\u001b[32m✔\u001b[39m \u001b[34mdplyr    \u001b[39m 1.1.4     \u001b[32m✔\u001b[39m \u001b[34mreadr    \u001b[39m 2.1.5\n",
            "\u001b[32m✔\u001b[39m \u001b[34mforcats  \u001b[39m 1.0.0     \u001b[32m✔\u001b[39m \u001b[34mstringr  \u001b[39m 1.5.1\n",
            "\u001b[32m✔\u001b[39m \u001b[34mggplot2  \u001b[39m 3.4.4     \u001b[32m✔\u001b[39m \u001b[34mtibble   \u001b[39m 3.2.1\n",
            "\u001b[32m✔\u001b[39m \u001b[34mlubridate\u001b[39m 1.9.3     \u001b[32m✔\u001b[39m \u001b[34mtidyr    \u001b[39m 1.3.1\n",
            "\u001b[32m✔\u001b[39m \u001b[34mpurrr    \u001b[39m 1.0.2     \n",
            "── \u001b[1mConflicts\u001b[22m ────────────────────────────────────────── tidyverse_conflicts() ──\n",
            "\u001b[31m✖\u001b[39m \u001b[34mpurrr\u001b[39m::\u001b[32m%||%()\u001b[39m   masks \u001b[34mbase\u001b[39m::%||%()\n",
            "\u001b[31m✖\u001b[39m \u001b[34mdplyr\u001b[39m::\u001b[32mfilter()\u001b[39m masks \u001b[34mstats\u001b[39m::filter()\n",
            "\u001b[31m✖\u001b[39m \u001b[34mdplyr\u001b[39m::\u001b[32mlag()\u001b[39m    masks \u001b[34mstats\u001b[39m::lag()\n",
            "\u001b[36mℹ\u001b[39m Use the conflicted package (\u001b[3m\u001b[34m<http://conflicted.r-lib.org/>\u001b[39m\u001b[23m) to force all conflicts to become errors\n"
          ]
        }
      ]
    },
    {
      "cell_type": "code",
      "source": [
        "# Download raw_bike_sharing_systems.csv\n",
        "url <- \"https://cf-courses-data.s3.us.cloud-object-storage.appdomain.cloud/IBMDeveloperSkillsNetwork-RP0321EN-SkillsNetwork/labs/datasets/raw_bike_sharing_systems.csv\"\n",
        "download.file(url, destfile = \"raw_bike_sharing_systems.csv\")\n",
        "\n",
        "# Download raw_cities_weather_forecast.csv\n",
        "url <- \"https://cf-courses-data.s3.us.cloud-object-storage.appdomain.cloud/IBMDeveloperSkillsNetwork-RP0321EN-SkillsNetwork/labs/datasets/raw_cities_weather_forecast.csv\"\n",
        "download.file(url, destfile = \"raw_cities_weather_forecast.csv\")\n",
        "\n",
        "# Download raw_worldcities.csv\n",
        "url <- \"https://cf-courses-data.s3.us.cloud-object-storage.appdomain.cloud/IBMDeveloperSkillsNetwork-RP0321EN-SkillsNetwork/labs/datasets/raw_worldcities.csv\"\n",
        "download.file(url, destfile = \"raw_worldcities.csv\")\n",
        "\n",
        "# Download raw_seoul_bike_sharing.csv\n",
        "url <- \"https://cf-courses-data.s3.us.cloud-object-storage.appdomain.cloud/IBMDeveloperSkillsNetwork-RP0321EN-SkillsNetwork/labs/datasets/raw_seoul_bike_sharing.csv\"\n",
        "download.file(url, destfile = \"raw_seoul_bike_sharing.csv\")"
      ],
      "metadata": {
        "id": "--SwYsdFfMP8"
      },
      "execution_count": null,
      "outputs": []
    },
    {
      "cell_type": "code",
      "source": [
        "# Define paths for each dataset\n",
        "path_raw_bike_sharing_systems <- \"/content/raw_bike_sharing_systems.csv\"\n",
        "path_raw_seoul_bike_sharing <- \"/content/raw_seoul_bike_sharing.csv\"\n",
        "path_raw_cities_weather_forecast <- \"/content/raw_cities_weather_forecast.csv\"\n",
        "path_raw_worldcities <- \"/content/raw_worldcities.csv\"\n",
        "\n",
        "# List of dataset names with paths\n",
        "dataset_list <- c(path_raw_bike_sharing_systems,\n",
        "                  path_raw_seoul_bike_sharing,\n",
        "                  path_raw_cities_weather_forecast,\n",
        "                  path_raw_worldcities)\n",
        "\n",
        "# Function to standardize column names\n",
        "standardize_column_names <- function(dataset_name) {\n",
        "  # Read dataset using read_csv\n",
        "  dataset <- read_csv(dataset_name)\n",
        "\n",
        "  # Standardize column names\n",
        "  colnames(dataset) <- toupper(gsub(\" \", \"_\", colnames(dataset)))\n",
        "\n",
        "  # Write back to CSV\n",
        "  write_csv(dataset, dataset_name, col_names = TRUE)\n",
        "}\n",
        "\n",
        "# Apply the function to each dataset\n",
        "lapply(dataset_list, standardize_column_names)\n",
        "\n",
        "# Read the resulting datasets back and check column names\n",
        "for (dataset_name in dataset_list) {\n",
        "  # Read CSV to check column names\n",
        "  dataset <- read_csv(dataset_name)\n",
        "\n",
        "  # Print dataset name and column names\n",
        "  cat(\"\\nDataset:\", dataset_name, \"\\n\")\n",
        "  print(names(dataset))\n",
        "}\n"
      ],
      "metadata": {
        "colab": {
          "base_uri": "https://localhost:8080/",
          "height": 1000
        },
        "id": "-98U1ZfVex5G",
        "outputId": "82624b3e-1038-4fc6-93ac-fc21d47ef616"
      },
      "execution_count": null,
      "outputs": [
        {
          "output_type": "stream",
          "name": "stderr",
          "text": [
            "\u001b[1mRows: \u001b[22m\u001b[34m480\u001b[39m \u001b[1mColumns: \u001b[22m\u001b[34m10\u001b[39m\n",
            "\u001b[36m──\u001b[39m \u001b[1mColumn specification\u001b[22m \u001b[36m────────────────────────────────────────────────────────\u001b[39m\n",
            "\u001b[1mDelimiter:\u001b[22m \",\"\n",
            "\u001b[31mchr\u001b[39m (10): COUNTRY, City, Name, SYSTEM, OPERATOR, LAUNCHED, DISCONTINUED, STA...\n",
            "\n",
            "\u001b[36mℹ\u001b[39m Use `spec()` to retrieve the full column specification for this data.\n",
            "\u001b[36mℹ\u001b[39m Specify the column types or set `show_col_types = FALSE` to quiet this message.\n",
            "\u001b[1mRows: \u001b[22m\u001b[34m8760\u001b[39m \u001b[1mColumns: \u001b[22m\u001b[34m14\u001b[39m\n",
            "\u001b[36m──\u001b[39m \u001b[1mColumn specification\u001b[22m \u001b[36m────────────────────────────────────────────────────────\u001b[39m\n",
            "\u001b[1mDelimiter:\u001b[22m \",\"\n",
            "\u001b[31mchr\u001b[39m  (4): Date, SEASONS, HOLIDAY, FUNCTIONING_DAY\n",
            "\u001b[32mdbl\u001b[39m (10): RENTED_BIKE_COUNT, Hour, TEMPERATURE, HUMIDITY, WIND_SPEED, Visibi...\n",
            "\n",
            "\u001b[36mℹ\u001b[39m Use `spec()` to retrieve the full column specification for this data.\n",
            "\u001b[36mℹ\u001b[39m Specify the column types or set `show_col_types = FALSE` to quiet this message.\n",
            "\u001b[1mRows: \u001b[22m\u001b[34m160\u001b[39m \u001b[1mColumns: \u001b[22m\u001b[34m12\u001b[39m\n",
            "\u001b[36m──\u001b[39m \u001b[1mColumn specification\u001b[22m \u001b[36m────────────────────────────────────────────────────────\u001b[39m\n",
            "\u001b[1mDelimiter:\u001b[22m \",\"\n",
            "\u001b[31mchr\u001b[39m  (3): city, weather, season\n",
            "\u001b[32mdbl\u001b[39m  (8): visibility, temp, temp_min, temp_max, pressure, humidity, wind_spe...\n",
            "\u001b[34mdttm\u001b[39m (1): forecast_datetime\n",
            "\n",
            "\u001b[36mℹ\u001b[39m Use `spec()` to retrieve the full column specification for this data.\n",
            "\u001b[36mℹ\u001b[39m Specify the column types or set `show_col_types = FALSE` to quiet this message.\n",
            "\u001b[1mRows: \u001b[22m\u001b[34m26569\u001b[39m \u001b[1mColumns: \u001b[22m\u001b[34m11\u001b[39m\n",
            "\u001b[36m──\u001b[39m \u001b[1mColumn specification\u001b[22m \u001b[36m────────────────────────────────────────────────────────\u001b[39m\n",
            "\u001b[1mDelimiter:\u001b[22m \",\"\n",
            "\u001b[31mchr\u001b[39m (7): City, CITY_ASCII, COUNTRY, ISO2, ISO3, ADMIN_NAME, CAPITAL\n",
            "\u001b[32mdbl\u001b[39m (4): LAT, LNG, POPULATION, ID\n",
            "\n",
            "\u001b[36mℹ\u001b[39m Use `spec()` to retrieve the full column specification for this data.\n",
            "\u001b[36mℹ\u001b[39m Specify the column types or set `show_col_types = FALSE` to quiet this message.\n"
          ]
        },
        {
          "output_type": "display_data",
          "data": {
            "text/html": [
              "<ol>\n",
              "\t<li><table class=\"dataframe\">\n",
              "<caption>A spec_tbl_df: 480 × 10</caption>\n",
              "<thead>\n",
              "\t<tr><th scope=col>COUNTRY</th><th scope=col>CITY</th><th scope=col>NAME</th><th scope=col>SYSTEM</th><th scope=col>OPERATOR</th><th scope=col>LAUNCHED</th><th scope=col>DISCONTINUED</th><th scope=col>STATIONS</th><th scope=col>BICYCLES</th><th scope=col>DAILY_RIDERSHIP</th></tr>\n",
              "\t<tr><th scope=col>&lt;chr&gt;</th><th scope=col>&lt;chr&gt;</th><th scope=col>&lt;chr&gt;</th><th scope=col>&lt;chr&gt;</th><th scope=col>&lt;chr&gt;</th><th scope=col>&lt;chr&gt;</th><th scope=col>&lt;chr&gt;</th><th scope=col>&lt;chr&gt;</th><th scope=col>&lt;chr&gt;</th><th scope=col>&lt;chr&gt;</th></tr>\n",
              "</thead>\n",
              "<tbody>\n",
              "\t<tr><td>Albania   </td><td>Tirana               </td><td>Ecovolis            </td><td>NA              </td><td>NA                            </td><td>March 2011                             </td><td>NA                  </td><td>8       </td><td>200     </td><td>NA      </td></tr>\n",
              "\t<tr><td>Argentina </td><td>Mendoza              </td><td>Metrobici           </td><td>NA              </td><td>NA                            </td><td>2014                                   </td><td>NA                  </td><td>2       </td><td>40      </td><td>NA      </td></tr>\n",
              "\t<tr><td>Argentina </td><td>San Lorenzo, Santa Fe</td><td>Biciudad            </td><td>Biciudad        </td><td>NA                            </td><td>27 November 2016                       </td><td>NA                  </td><td>8       </td><td>80      </td><td>NA      </td></tr>\n",
              "\t<tr><td>Argentina </td><td>Buenos Aires         </td><td>Ecobici             </td><td>Serttel Brasil  </td><td>Bike In Baires Consortium.[10]</td><td>2010                                   </td><td>NA                  </td><td>400     </td><td>4000    </td><td>21917   </td></tr>\n",
              "\t<tr><td>Argentina </td><td>Rosario              </td><td>Mi Bici Tu Bici[11] </td><td>NA              </td><td>NA                            </td><td>2 December 2015                        </td><td>NA                  </td><td>47      </td><td>480     </td><td>NA      </td></tr>\n",
              "\t<tr><td>Australia </td><td><span style=white-space:pre-wrap>Melbourne[12]        </span></td><td>Melbourne Bike Share</td><td><span style=white-space:pre-wrap>PBSC &amp; 8D       </span></td><td><span style=white-space:pre-wrap>Motivate                      </span></td><td><span style=white-space:pre-wrap>June 2010                              </span></td><td>30 November 2019[13]</td><td><span style=white-space:pre-wrap>53      </span></td><td><span style=white-space:pre-wrap>676     </span></td><td><span style=white-space:pre-wrap>NA      </span></td></tr>\n",
              "\t<tr><td>Australia </td><td>Brisbane[14][15]     </td><td>CityCycle           </td><td>3 Gen. Cyclocity</td><td>JCDecaux                      </td><td>September 2010                         </td><td>NA                  </td><td>150     </td><td>2000    </td><td>NA      </td></tr>\n",
              "\t<tr><td>Australia </td><td>Melbourne            </td><td>oBike               </td><td>4 Gen. oBike    </td><td>NA                            </td><td>July 2017                              </td><td>July 2018           </td><td>dockless</td><td>1250    </td><td>NA      </td></tr>\n",
              "\t<tr><td>Australia </td><td>Sydney               </td><td>oBike               </td><td>4 Gen. oBike    </td><td>NA                            </td><td>July 2017                              </td><td>July 2018           </td><td>dockless</td><td>1250    </td><td>NA      </td></tr>\n",
              "\t<tr><td>Australia </td><td>Sydney               </td><td>Ofo                 </td><td>4 Gen. Ofo      </td><td>NA                            </td><td>October 2017                           </td><td>NA                  </td><td>dockless</td><td>600     </td><td>NA      </td></tr>\n",
              "\t<tr><td>Australia </td><td>Sydney               </td><td>Reddy Go            </td><td>Reddy Go        </td><td>NA                            </td><td>July 2017                              </td><td>NA                  </td><td>NA      </td><td>2000    </td><td>NA      </td></tr>\n",
              "\t<tr><td>Austria   </td><td>Vienna               </td><td>Citybike Wien [16]  </td><td>3 Gen. Cyclocity</td><td>JCDecaux Gewista              </td><td>June 2003                              </td><td>NA                  </td><td>121     </td><td>1500    </td><td>2800[17]</td></tr>\n",
              "\t<tr><td>Austria   </td><td>Burgenland           </td><td>LEIHRADL nextbike   </td><td>3 Gen. nextbike </td><td>NA                            </td><td>2009                                   </td><td>NA                  </td><td>40      </td><td>NA      </td><td>NA      </td></tr>\n",
              "\t<tr><td>Austria   </td><td>Lower Austria[18]    </td><td>LEIHRADL nextbike   </td><td>3 Gen. nextbike </td><td>NA                            </td><td>2009                                   </td><td>NA                  </td><td>295     </td><td>1300    </td><td>NA      </td></tr>\n",
              "\t<tr><td>Austria   </td><td>Salzburg             </td><td>nextbike            </td><td>3 Gen. nextbike </td><td>NA                            </td><td>2011                                   </td><td>NA                  </td><td>NA      </td><td>NA      </td><td>NA      </td></tr>\n",
              "\t<tr><td>Austria   </td><td>Vienna               </td><td>Viennabike          </td><td>2 Gen.          </td><td>Association and city council  </td><td>April 2002                             </td><td>November 2002       </td><td>200     </td><td>1500    </td><td>NA      </td></tr>\n",
              "\t<tr><td>Austria   </td><td>Vorarlberg           </td><td>NA                  </td><td>3 Gen. nextbike </td><td>NA                            </td><td>2009                                   </td><td>NA                  </td><td>14      </td><td>70      </td><td>NA      </td></tr>\n",
              "\t<tr><td>Bangladesh</td><td>Dhaka                </td><td>JoBike              </td><td>JoBike          </td><td>NA                            </td><td>2018                                   </td><td>NA                  </td><td>05      </td><td>300     </td><td>NA      </td></tr>\n",
              "\t<tr><td>Belgium   </td><td>Namur[19]            </td><td>Libiavelo           </td><td>3 Gen. Cyclocity</td><td>JCDecaux                      </td><td>21 April 2012                          </td><td>NA                  </td><td>24      </td><td>200     </td><td>NA      </td></tr>\n",
              "\t<tr><td>Belgium   </td><td>Antwerp              </td><td>Velo                </td><td>3 Gen. Clear CC </td><td>NA                            </td><td>9 June 2011                            </td><td>NA                  </td><td>302     </td><td>3600    </td><td>7010[20]</td></tr>\n",
              "\t<tr><td>Belgium   </td><td>Brussels[21]         </td><td>Villo!              </td><td>3 Gen. Cyclocity</td><td>JCDecaux                      </td><td>19 May 2009 (earlier system since 2006)</td><td>NA                  </td><td>346     </td><td>4115[22]</td><td>NA      </td></tr>\n",
              "\t<tr><td>Brazil    </td><td>Salvador[23]         </td><td>Bike Salvador       </td><td>tembici         </td><td>NA                            </td><td>2013                                   </td><td>NA                  </td><td>23      </td><td>NA      </td><td>NA      </td></tr>\n",
              "\t<tr><td>Brazil    </td><td>Belo Horizonte[24]   </td><td>Bikebh              </td><td>Mobilicidade    </td><td>NA                            </td><td>2014                                   </td><td>NA                  </td><td>40      </td><td>400     </td><td>NA      </td></tr>\n",
              "\t<tr><td>Brazil    </td><td>Fortaleza            </td><td>Bicicletar          </td><td>Mobilicidade    </td><td>NA                            </td><td>15 December 2014                       </td><td>NA                  </td><td>80      </td><td>800     </td><td>NA      </td></tr>\n",
              "\t<tr><td>Brazil    </td><td>João Pessoa[25]      </td><td>SAMBA               </td><td>Mobilicidade    </td><td>NA                            </td><td>NA                                     </td><td>NA                  </td><td>3       </td><td>20      </td><td>NA      </td></tr>\n",
              "\t<tr><td>Brazil    </td><td>(Pedro de) Toledo[26]</td><td>Toopedalando        </td><td>Toopedalando    </td><td>NA                            </td><td>2011                                   </td><td>NA                  </td><td>6       </td><td>60      </td><td>NA      </td></tr>\n",
              "\t<tr><td>Brazil    </td><td>Rio de Janeiro[27]   </td><td>Bike Rio            </td><td>tembici         </td><td>NA                            </td><td>2011                                   </td><td>NA                  </td><td>60      </td><td>300     </td><td>NA      </td></tr>\n",
              "\t<tr><td>Brazil    </td><td>São Paulo[28]        </td><td>Bikesampa           </td><td>tembici         </td><td>NA                            </td><td>2012                                   </td><td>NA                  </td><td>241     </td><td>600     </td><td>NA      </td></tr>\n",
              "\t<tr><td>Brazil    </td><td>Sorocaba[29]         </td><td>Integrabike         </td><td>tembici         </td><td>NA                            </td><td>2012                                   </td><td>NA                  </td><td>15      </td><td>120     </td><td>NA      </td></tr>\n",
              "\t<tr><td>Bulgaria  </td><td>Burgas               </td><td>VeloBurgas          </td><td>Mobilicidade    </td><td>NA                            </td><td>2012                                   </td><td>NA                  </td><td>10      </td><td>120     </td><td>NA      </td></tr>\n",
              "\t<tr><td>⋮</td><td>⋮</td><td>⋮</td><td>⋮</td><td>⋮</td><td>⋮</td><td>⋮</td><td>⋮</td><td>⋮</td><td>⋮</td></tr>\n",
              "\t<tr><td>United States</td><td>Fullerton, California                                     </td><td>OCTA BikeShare             </td><td>Bike Nation                        </td><td>NA                         </td><td>6 January 2014  </td><td>NA           </td><td>10     </td><td>75  </td><td>NA         </td></tr>\n",
              "\t<tr><td>United States</td><td>Hoboken, New Jersey[288]                                  </td><td>Hudson Bike Share          </td><td>3 Gen. nextbike                    </td><td>NA                         </td><td>September 2015  </td><td>NA           </td><td>29     </td><td>250 </td><td>NA         </td></tr>\n",
              "\t<tr><td>United States</td><td>Houston, Texas[289][290]                                  </td><td>Houston B-cycle            </td><td>3 Gen. B-Cycle                     </td><td>NA                         </td><td>2012            </td><td>NA           </td><td>51[291]</td><td>400 </td><td>NA         </td></tr>\n",
              "\t<tr><td>United States</td><td>Jersey City[292]                                          </td><td>Citi Bike                  </td><td>8D                                 </td><td>Motivate                   </td><td>September 2015  </td><td>NA           </td><td>50     </td><td>500 </td><td>NA         </td></tr>\n",
              "\t<tr><td>United States</td><td>Kailua, Hawaii[293][294]                                  </td><td>Hawaii B-cycle             </td><td>3 Gen. B-Cycle                     </td><td>NA                         </td><td>2011            </td><td>NA           </td><td>2      </td><td>12  </td><td>NA         </td></tr>\n",
              "\t<tr><td>United States</td><td>Kansas City, Missouri[295]                                </td><td>Kansas City B-cycle        </td><td>3 Gen. B-Cycle                     </td><td>NA                         </td><td>2012            </td><td>NA           </td><td>30     </td><td>300 </td><td>NA         </td></tr>\n",
              "\t<tr><td>United States</td><td>Kona District, Hawaii                                     </td><td>NA                         </td><td>PBSC                               </td><td>NA                         </td><td>2016            </td><td>NA           </td><td>3      </td><td>30  </td><td>NA         </td></tr>\n",
              "\t<tr><td>United States</td><td>Lansing, MI                                               </td><td>Capital Community Bikeshare</td><td>A2B Bikeshare                      </td><td>NA                         </td><td>2014            </td><td>NA           </td><td>8      </td><td>20  </td><td>Closed[296]</td></tr>\n",
              "\t<tr><td>United States</td><td>Lincoln, Nebraska[297]                                    </td><td>BikeLNK                    </td><td>3 Gen. B-Cycle                     </td><td>NA                         </td><td>2018            </td><td>NA           </td><td>19     </td><td>100 </td><td>NA         </td></tr>\n",
              "\t<tr><td>United States</td><td>Los Angeles                                               </td><td>Metro Bike Share           </td><td>3 Gen. B-Cycle                     </td><td>NA                         </td><td>7 July 2016     </td><td>NA           </td><td>65     </td><td>1000</td><td>NA         </td></tr>\n",
              "\t<tr><td>United States</td><td>Madison, Wisconsin[298]                                   </td><td>Madison B-Cycle            </td><td>3 Gen. B-Cycle                     </td><td>NA                         </td><td>2011            </td><td>NA           </td><td>39     </td><td>350 </td><td>NA         </td></tr>\n",
              "\t<tr><td>United States</td><td>Milwaukee, Wisconsin[299][300]                            </td><td>Bublr Bikes                </td><td>3 Gen. B-Cycle                     </td><td>NA                         </td><td>2014            </td><td>NA           </td><td>87     </td><td>400+</td><td>NA         </td></tr>\n",
              "\t<tr><td>United States</td><td>Minneapolis, Minnesota and Saint Paul, Minnesota[301][302]</td><td><span style=white-space:pre-wrap>Nice Ride                  </span></td><td><span style=white-space:pre-wrap>PBSC &amp; 8D                          </span></td><td><span style=white-space:pre-wrap>NA                         </span></td><td><span style=white-space:pre-wrap>2010            </span></td><td><span style=white-space:pre-wrap>NA           </span></td><td><span style=white-space:pre-wrap>171    </span></td><td>1833</td><td><span style=white-space:pre-wrap>NA         </span></td></tr>\n",
              "\t<tr><td>United States</td><td>Oklahoma City, Oklahoma[303]                              </td><td>Spokies                    </td><td>Spokies                            </td><td>NA                         </td><td>2012            </td><td>NA           </td><td>7      </td><td>100 </td><td>NA         </td></tr>\n",
              "\t<tr><td>United States</td><td>Omaha, Nebraska[304]                                      </td><td>Omaha B-Cycle              </td><td>3 Gen. B-Cycle                     </td><td>NA                         </td><td>2011            </td><td>NA           </td><td>5      </td><td>35  </td><td>NA         </td></tr>\n",
              "\t<tr><td>United States</td><td>Philadelphia, Pennsylvania[305][306]                      </td><td>Indego                     </td><td>3 Gen. B-Cycle                     </td><td>NA                         </td><td>23 April 2015   </td><td>NA           </td><td>105    </td><td>1000</td><td>NA         </td></tr>\n",
              "\t<tr><td>United States</td><td>Phoenix, Arizona                                          </td><td>Grid Bike Share            </td><td>3 Gen. CycleHop and Social Bicycles</td><td>NA                         </td><td>25 November 2014</td><td>NA           </td><td>40     </td><td>500 </td><td>NA         </td></tr>\n",
              "\t<tr><td>United States</td><td>Pittsburgh, Pennsylvania                                  </td><td>Healthy Ride PGH           </td><td>3 Gen. nextbike                    </td><td>NA                         </td><td>2015            </td><td>NA           </td><td>50     </td><td>500 </td><td>NA         </td></tr>\n",
              "\t<tr><td>United States</td><td>Portland, Oregon                                          </td><td>Biketown                   </td><td>NA                                 </td><td>NA                         </td><td>19 July 2016    </td><td>NA           </td><td>100    </td><td>1000</td><td>NA         </td></tr>\n",
              "\t<tr><td>United States</td><td>Portland, Oregon                                          </td><td>Yellow Bike Project        </td><td>1 Gen. WhiteBikes                  </td><td>Yellow Bike Project        </td><td>1994[307]       </td><td>1997[308]    </td><td>NA     </td><td>1000</td><td>NA         </td></tr>\n",
              "\t<tr><td>United States</td><td>Salt Lake City, Utah[309]                                 </td><td>SLC Bike Share             </td><td>3 Gen. B-Cycle                     </td><td>NA                         </td><td>2013            </td><td>NA           </td><td>12     </td><td>100 </td><td>NA         </td></tr>\n",
              "\t<tr><td>United States</td><td>San Antonio, Texas[310]                                   </td><td>San Antonio B-Cycle        </td><td>3 Gen. B-Cycle                     </td><td>NA                         </td><td>2011            </td><td>NA           </td><td>68     </td><td>600 </td><td>NA         </td></tr>\n",
              "\t<tr><td>United States</td><td>San Diego[311]                                            </td><td>DecoBike                   </td><td>DecoBike                           </td><td>JCDecaux                   </td><td>February 2015   </td><td>NA           </td><td>180    </td><td>1800</td><td>NA         </td></tr>\n",
              "\t<tr><td>United States</td><td>San Francisco Bay Area                                    </td><td>NA                         </td><td>NA                                 </td><td>NA                         </td><td>2013            </td><td>NA           </td><td>NA     </td><td>NA  </td><td>NA         </td></tr>\n",
              "\t<tr><td>United States</td><td>San Francisco Bay Area[312]                               </td><td>Baywheels                  </td><td>8D                                 </td><td>Motivate                   </td><td>June 2017       </td><td>NA           </td><td>550    </td><td>7000</td><td>NA         </td></tr>\n",
              "\t<tr><td>United States</td><td>Santa Monica, California[313]                             </td><td>Breeze Bike Share          </td><td>3 Gen. CycleHop and Social Bicycles</td><td>NA                         </td><td>13 August 2015  </td><td>NA           </td><td>80     </td><td>500 </td><td>NA         </td></tr>\n",
              "\t<tr><td>United States</td><td>Savannah, Georgia[314]                                    </td><td>CAT Bike                   </td><td>3 Gen. B-Cycle                     </td><td>NA                         </td><td>24 January 2014 </td><td>NA           </td><td>2      </td><td>16  </td><td>NA         </td></tr>\n",
              "\t<tr><td>United States</td><td>Seattle, Washington[315]                                  </td><td>Pronto Cycle Share         </td><td>8D                                 </td><td>Motivate                   </td><td>13 October 2014 </td><td>31 March 2017</td><td>50     </td><td>500 </td><td>NA         </td></tr>\n",
              "\t<tr><td>United States</td><td>Spartanburg, South Carolina[316]                          </td><td>Spartanburg B-Cycle        </td><td>3 Gen. B-Cycle                     </td><td>NA                         </td><td>2011            </td><td>NA           </td><td>5      </td><td>40  </td><td>NA         </td></tr>\n",
              "\t<tr><td>United States</td><td>St. Paul                                                  </td><td>Yellow Bike Project        </td><td>1 Gen. w/ BikeCard                 </td><td>volunteers and city council</td><td>1997            </td><td>NA           </td><td>NA     </td><td>NA  </td><td>NA         </td></tr>\n",
              "</tbody>\n",
              "</table>\n",
              "</li>\n",
              "\t<li><table class=\"dataframe\">\n",
              "<caption>A spec_tbl_df: 8760 × 14</caption>\n",
              "<thead>\n",
              "\t<tr><th scope=col>DATE</th><th scope=col>RENTED_BIKE_COUNT</th><th scope=col>HOUR</th><th scope=col>TEMPERATURE</th><th scope=col>HUMIDITY</th><th scope=col>WIND_SPEED</th><th scope=col>VISIBILITY</th><th scope=col>DEW_POINT_TEMPERATURE</th><th scope=col>SOLAR_RADIATION</th><th scope=col>RAINFALL</th><th scope=col>SNOWFALL</th><th scope=col>SEASONS</th><th scope=col>HOLIDAY</th><th scope=col>FUNCTIONING_DAY</th></tr>\n",
              "\t<tr><th scope=col>&lt;chr&gt;</th><th scope=col>&lt;dbl&gt;</th><th scope=col>&lt;dbl&gt;</th><th scope=col>&lt;dbl&gt;</th><th scope=col>&lt;dbl&gt;</th><th scope=col>&lt;dbl&gt;</th><th scope=col>&lt;dbl&gt;</th><th scope=col>&lt;dbl&gt;</th><th scope=col>&lt;dbl&gt;</th><th scope=col>&lt;dbl&gt;</th><th scope=col>&lt;dbl&gt;</th><th scope=col>&lt;chr&gt;</th><th scope=col>&lt;chr&gt;</th><th scope=col>&lt;chr&gt;</th></tr>\n",
              "</thead>\n",
              "<tbody>\n",
              "\t<tr><td>01/12/2017</td><td>254</td><td> 0</td><td>-5.2</td><td>37</td><td>2.2</td><td>2000</td><td>-17.6</td><td>0.00</td><td>0</td><td>0</td><td>Winter</td><td>No Holiday</td><td>Yes</td></tr>\n",
              "\t<tr><td>01/12/2017</td><td>204</td><td> 1</td><td>-5.5</td><td>38</td><td>0.8</td><td>2000</td><td>-17.6</td><td>0.00</td><td>0</td><td>0</td><td>Winter</td><td>No Holiday</td><td>Yes</td></tr>\n",
              "\t<tr><td>01/12/2017</td><td>173</td><td> 2</td><td>-6.0</td><td>39</td><td>1.0</td><td>2000</td><td>-17.7</td><td>0.00</td><td>0</td><td>0</td><td>Winter</td><td>No Holiday</td><td>Yes</td></tr>\n",
              "\t<tr><td>01/12/2017</td><td>107</td><td> 3</td><td>-6.2</td><td>40</td><td>0.9</td><td>2000</td><td>-17.6</td><td>0.00</td><td>0</td><td>0</td><td>Winter</td><td>No Holiday</td><td>Yes</td></tr>\n",
              "\t<tr><td>01/12/2017</td><td> 78</td><td> 4</td><td>-6.0</td><td>36</td><td>2.3</td><td>2000</td><td>-18.6</td><td>0.00</td><td>0</td><td>0</td><td>Winter</td><td>No Holiday</td><td>Yes</td></tr>\n",
              "\t<tr><td>01/12/2017</td><td>100</td><td> 5</td><td>-6.4</td><td>37</td><td>1.5</td><td>2000</td><td>-18.7</td><td>0.00</td><td>0</td><td>0</td><td>Winter</td><td>No Holiday</td><td>Yes</td></tr>\n",
              "\t<tr><td>01/12/2017</td><td>181</td><td> 6</td><td>-6.6</td><td>35</td><td>1.3</td><td>2000</td><td>-19.5</td><td>0.00</td><td>0</td><td>0</td><td>Winter</td><td>No Holiday</td><td>Yes</td></tr>\n",
              "\t<tr><td>01/12/2017</td><td>460</td><td> 7</td><td>-7.4</td><td>38</td><td>0.9</td><td>2000</td><td>-19.3</td><td>0.00</td><td>0</td><td>0</td><td>Winter</td><td>No Holiday</td><td>Yes</td></tr>\n",
              "\t<tr><td>01/12/2017</td><td>930</td><td> 8</td><td>-7.6</td><td>37</td><td>1.1</td><td>2000</td><td>-19.8</td><td>0.01</td><td>0</td><td>0</td><td>Winter</td><td>No Holiday</td><td>Yes</td></tr>\n",
              "\t<tr><td>01/12/2017</td><td>490</td><td> 9</td><td>-6.5</td><td>27</td><td>0.5</td><td>1928</td><td>-22.4</td><td>0.23</td><td>0</td><td>0</td><td>Winter</td><td>No Holiday</td><td>Yes</td></tr>\n",
              "\t<tr><td>01/12/2017</td><td>339</td><td>10</td><td>-3.5</td><td>24</td><td>1.2</td><td>1996</td><td>-21.2</td><td>0.65</td><td>0</td><td>0</td><td>Winter</td><td>No Holiday</td><td>Yes</td></tr>\n",
              "\t<tr><td>01/12/2017</td><td>360</td><td>11</td><td>-0.5</td><td>21</td><td>1.3</td><td>1936</td><td>-20.2</td><td>0.94</td><td>0</td><td>0</td><td>Winter</td><td>No Holiday</td><td>Yes</td></tr>\n",
              "\t<tr><td>01/12/2017</td><td>449</td><td>12</td><td> 1.7</td><td>23</td><td>1.4</td><td>2000</td><td>-17.2</td><td>1.11</td><td>0</td><td>0</td><td>Winter</td><td>No Holiday</td><td>Yes</td></tr>\n",
              "\t<tr><td>01/12/2017</td><td>451</td><td>13</td><td> 2.4</td><td>25</td><td>1.6</td><td>2000</td><td>-15.6</td><td>1.16</td><td>0</td><td>0</td><td>Winter</td><td>No Holiday</td><td>Yes</td></tr>\n",
              "\t<tr><td>01/12/2017</td><td>447</td><td>14</td><td> 3.0</td><td>26</td><td>2.0</td><td>2000</td><td>-14.6</td><td>1.01</td><td>0</td><td>0</td><td>Winter</td><td>No Holiday</td><td>Yes</td></tr>\n",
              "\t<tr><td>01/12/2017</td><td>463</td><td>15</td><td> 2.1</td><td>36</td><td>3.2</td><td>2000</td><td>-11.4</td><td>0.54</td><td>0</td><td>0</td><td>Winter</td><td>No Holiday</td><td>Yes</td></tr>\n",
              "\t<tr><td>01/12/2017</td><td>484</td><td>16</td><td> 1.2</td><td>54</td><td>4.2</td><td> 793</td><td> -7.0</td><td>0.24</td><td>0</td><td>0</td><td>Winter</td><td>No Holiday</td><td>Yes</td></tr>\n",
              "\t<tr><td>01/12/2017</td><td>555</td><td>17</td><td> 0.8</td><td>58</td><td>1.6</td><td>2000</td><td> -6.5</td><td>0.08</td><td>0</td><td>0</td><td>Winter</td><td>No Holiday</td><td>Yes</td></tr>\n",
              "\t<tr><td>01/12/2017</td><td>862</td><td>18</td><td> 0.6</td><td>66</td><td>1.4</td><td>2000</td><td> -5.0</td><td>0.00</td><td>0</td><td>0</td><td>Winter</td><td>No Holiday</td><td>Yes</td></tr>\n",
              "\t<tr><td>01/12/2017</td><td>600</td><td>19</td><td> 0.0</td><td>77</td><td>1.7</td><td>2000</td><td> -3.5</td><td>0.00</td><td>0</td><td>0</td><td>Winter</td><td>No Holiday</td><td>Yes</td></tr>\n",
              "\t<tr><td>01/12/2017</td><td>426</td><td>20</td><td>-0.3</td><td>79</td><td>1.5</td><td>1913</td><td> -3.5</td><td>0.00</td><td>0</td><td>0</td><td>Winter</td><td>No Holiday</td><td>Yes</td></tr>\n",
              "\t<tr><td>01/12/2017</td><td>405</td><td>21</td><td>-0.8</td><td>81</td><td>0.8</td><td>1687</td><td> -3.6</td><td>0.00</td><td>0</td><td>0</td><td>Winter</td><td>No Holiday</td><td>Yes</td></tr>\n",
              "\t<tr><td>01/12/2017</td><td>398</td><td>22</td><td>-0.9</td><td>83</td><td>1.5</td><td>1380</td><td> -3.4</td><td>0.00</td><td>0</td><td>0</td><td>Winter</td><td>No Holiday</td><td>Yes</td></tr>\n",
              "\t<tr><td>01/12/2017</td><td>323</td><td>23</td><td>-1.3</td><td>84</td><td>1.0</td><td>1265</td><td> -3.6</td><td>0.00</td><td>0</td><td>0</td><td>Winter</td><td>No Holiday</td><td>Yes</td></tr>\n",
              "\t<tr><td>02/12/2017</td><td>328</td><td> 0</td><td>-1.8</td><td>87</td><td>1.1</td><td> 994</td><td> -3.6</td><td>0.00</td><td>0</td><td>0</td><td>Winter</td><td>No Holiday</td><td>Yes</td></tr>\n",
              "\t<tr><td>02/12/2017</td><td>308</td><td> 1</td><td>-2.2</td><td>86</td><td>0.6</td><td> 990</td><td> -4.2</td><td>0.00</td><td>0</td><td>0</td><td>Winter</td><td>No Holiday</td><td>Yes</td></tr>\n",
              "\t<tr><td>02/12/2017</td><td>262</td><td> 2</td><td>-2.9</td><td>86</td><td>1.5</td><td>1256</td><td> -4.9</td><td>0.00</td><td>0</td><td>0</td><td>Winter</td><td>No Holiday</td><td>Yes</td></tr>\n",
              "\t<tr><td>02/12/2017</td><td>167</td><td> 3</td><td>-3.5</td><td>81</td><td>2.2</td><td>1221</td><td> -6.2</td><td>0.00</td><td>0</td><td>0</td><td>Winter</td><td>No Holiday</td><td>Yes</td></tr>\n",
              "\t<tr><td>02/12/2017</td><td> 89</td><td> 4</td><td>-3.8</td><td>79</td><td>2.0</td><td>1167</td><td> -6.9</td><td>0.00</td><td>0</td><td>0</td><td>Winter</td><td>No Holiday</td><td>Yes</td></tr>\n",
              "\t<tr><td>02/12/2017</td><td> 79</td><td> 5</td><td>-4.0</td><td>79</td><td>1.5</td><td>1202</td><td> -7.1</td><td>0.00</td><td>0</td><td>0</td><td>Winter</td><td>No Holiday</td><td>Yes</td></tr>\n",
              "\t<tr><td>⋮</td><td>⋮</td><td>⋮</td><td>⋮</td><td>⋮</td><td>⋮</td><td>⋮</td><td>⋮</td><td>⋮</td><td>⋮</td><td>⋮</td><td>⋮</td><td>⋮</td><td>⋮</td></tr>\n",
              "\t<tr><td>29/11/2018</td><td>1577</td><td>18</td><td> 0.0</td><td>46</td><td>0.9</td><td>1566</td><td> -4.8</td><td>0.00</td><td>0</td><td>0</td><td>Autumn</td><td>No Holiday</td><td>Yes</td></tr>\n",
              "\t<tr><td>29/11/2018</td><td>1026</td><td>19</td><td> 5.2</td><td>48</td><td>1.9</td><td>1590</td><td> -4.9</td><td>0.00</td><td>0</td><td>0</td><td>Autumn</td><td>No Holiday</td><td>Yes</td></tr>\n",
              "\t<tr><td>29/11/2018</td><td> 818</td><td>20</td><td> 4.1</td><td>54</td><td>1.3</td><td>1434</td><td> -4.3</td><td>0.00</td><td>0</td><td>0</td><td>Autumn</td><td>No Holiday</td><td>Yes</td></tr>\n",
              "\t<tr><td>29/11/2018</td><td> 792</td><td>21</td><td> 3.8</td><td>55</td><td>2.1</td><td>1231</td><td> -4.4</td><td>0.00</td><td>0</td><td>0</td><td>Autumn</td><td>No Holiday</td><td>Yes</td></tr>\n",
              "\t<tr><td>29/11/2018</td><td> 726</td><td>22</td><td> 3.0</td><td>59</td><td>1.1</td><td>1218</td><td> -4.2</td><td>0.00</td><td>0</td><td>0</td><td>Autumn</td><td>No Holiday</td><td>Yes</td></tr>\n",
              "\t<tr><td>29/11/2018</td><td> 559</td><td>23</td><td> 2.6</td><td>56</td><td>1.9</td><td>1394</td><td> -5.3</td><td>0.00</td><td>0</td><td>0</td><td>Autumn</td><td>No Holiday</td><td>Yes</td></tr>\n",
              "\t<tr><td>30/11/2018</td><td> 474</td><td> 0</td><td> 1.8</td><td>62</td><td>1.6</td><td>1411</td><td> -4.7</td><td>0.00</td><td>0</td><td>0</td><td>Autumn</td><td>No Holiday</td><td>Yes</td></tr>\n",
              "\t<tr><td>30/11/2018</td><td> 456</td><td> 1</td><td> 1.3</td><td>63</td><td>2.0</td><td>1379</td><td> -4.9</td><td>0.00</td><td>0</td><td>0</td><td>Autumn</td><td>No Holiday</td><td>Yes</td></tr>\n",
              "\t<tr><td>30/11/2018</td><td> 300</td><td> 2</td><td> 0.6</td><td>66</td><td>0.5</td><td>1368</td><td> -5.0</td><td>0.00</td><td>0</td><td>0</td><td>Autumn</td><td>No Holiday</td><td>Yes</td></tr>\n",
              "\t<tr><td>30/11/2018</td><td> 213</td><td> 3</td><td>-0.1</td><td>69</td><td>0.9</td><td>1338</td><td> -5.1</td><td>0.00</td><td>0</td><td>0</td><td>Autumn</td><td>No Holiday</td><td>Yes</td></tr>\n",
              "\t<tr><td>30/11/2018</td><td> 116</td><td> 4</td><td>-0.5</td><td>71</td><td>0.4</td><td>1345</td><td> -5.1</td><td>0.00</td><td>0</td><td>0</td><td>Autumn</td><td>No Holiday</td><td>Yes</td></tr>\n",
              "\t<tr><td>30/11/2018</td><td> 149</td><td> 5</td><td>-0.7</td><td>66</td><td>0.5</td><td>1336</td><td> -6.2</td><td>0.00</td><td>0</td><td>0</td><td>Autumn</td><td>No Holiday</td><td>Yes</td></tr>\n",
              "\t<tr><td>30/11/2018</td><td> 293</td><td> 6</td><td>-0.8</td><td>68</td><td>0.8</td><td>1322</td><td> -5.9</td><td>0.00</td><td>0</td><td>0</td><td>Autumn</td><td>No Holiday</td><td>Yes</td></tr>\n",
              "\t<tr><td>30/11/2018</td><td> 750</td><td> 7</td><td>-1.2</td><td>70</td><td>0.8</td><td>1351</td><td> -5.9</td><td>0.00</td><td>0</td><td>0</td><td>Autumn</td><td>No Holiday</td><td>Yes</td></tr>\n",
              "\t<tr><td>30/11/2018</td><td>1527</td><td> 8</td><td>-1.5</td><td>68</td><td>1.1</td><td>1286</td><td> -6.6</td><td>0.02</td><td>0</td><td>0</td><td>Autumn</td><td>No Holiday</td><td>Yes</td></tr>\n",
              "\t<tr><td>30/11/2018</td><td> 809</td><td> 9</td><td>-0.4</td><td>57</td><td>0.6</td><td>1270</td><td> -7.8</td><td>0.45</td><td>0</td><td>0</td><td>Autumn</td><td>No Holiday</td><td>Yes</td></tr>\n",
              "\t<tr><td>30/11/2018</td><td> 554</td><td>10</td><td> 1.9</td><td>51</td><td>0.8</td><td>1029</td><td> -7.1</td><td>1.01</td><td>0</td><td>0</td><td>Autumn</td><td>No Holiday</td><td>Yes</td></tr>\n",
              "\t<tr><td>30/11/2018</td><td> 642</td><td>11</td><td> 5.3</td><td>43</td><td>1.8</td><td>1177</td><td> -6.2</td><td>1.38</td><td>0</td><td>0</td><td>Autumn</td><td>No Holiday</td><td>Yes</td></tr>\n",
              "\t<tr><td>30/11/2018</td><td> 720</td><td>12</td><td> 6.6</td><td>35</td><td>1.3</td><td>1409</td><td> -7.8</td><td>1.70</td><td>0</td><td>0</td><td>Autumn</td><td>No Holiday</td><td>Yes</td></tr>\n",
              "\t<tr><td>30/11/2018</td><td> 740</td><td>13</td><td> 7.1</td><td>24</td><td>2.8</td><td>1838</td><td>-12.1</td><td>1.83</td><td>0</td><td>0</td><td>Autumn</td><td>No Holiday</td><td>Yes</td></tr>\n",
              "\t<tr><td>30/11/2018</td><td> 761</td><td>14</td><td> 7.8</td><td>20</td><td>2.2</td><td>2000</td><td>-13.8</td><td>1.67</td><td>0</td><td>0</td><td>Autumn</td><td>No Holiday</td><td>Yes</td></tr>\n",
              "\t<tr><td>30/11/2018</td><td> 768</td><td>15</td><td> 7.0</td><td>20</td><td>3.3</td><td>1994</td><td>-14.4</td><td>1.21</td><td>0</td><td>0</td><td>Autumn</td><td>No Holiday</td><td>Yes</td></tr>\n",
              "\t<tr><td>30/11/2018</td><td> 837</td><td>16</td><td> 7.2</td><td>23</td><td>1.5</td><td>1945</td><td>-12.6</td><td>0.72</td><td>0</td><td>0</td><td>Autumn</td><td>No Holiday</td><td>Yes</td></tr>\n",
              "\t<tr><td>30/11/2018</td><td>1047</td><td>17</td><td> 6.0</td><td>29</td><td>2.1</td><td>1877</td><td>-10.7</td><td>0.23</td><td>0</td><td>0</td><td>Autumn</td><td>No Holiday</td><td>Yes</td></tr>\n",
              "\t<tr><td>30/11/2018</td><td>1384</td><td>18</td><td> 4.7</td><td>34</td><td>1.9</td><td>1661</td><td> -9.8</td><td>0.00</td><td>0</td><td>0</td><td>Autumn</td><td>No Holiday</td><td>Yes</td></tr>\n",
              "\t<tr><td>30/11/2018</td><td>1003</td><td>19</td><td> 4.2</td><td>34</td><td>2.6</td><td>1894</td><td>-10.3</td><td>0.00</td><td>0</td><td>0</td><td>Autumn</td><td>No Holiday</td><td>Yes</td></tr>\n",
              "\t<tr><td>30/11/2018</td><td> 764</td><td>20</td><td> 3.4</td><td>37</td><td>2.3</td><td>2000</td><td> -9.9</td><td>0.00</td><td>0</td><td>0</td><td>Autumn</td><td>No Holiday</td><td>Yes</td></tr>\n",
              "\t<tr><td>30/11/2018</td><td> 694</td><td>21</td><td> 2.6</td><td>39</td><td>0.3</td><td>1968</td><td> -9.9</td><td>0.00</td><td>0</td><td>0</td><td>Autumn</td><td>No Holiday</td><td>Yes</td></tr>\n",
              "\t<tr><td>30/11/2018</td><td> 712</td><td>22</td><td> 2.1</td><td>41</td><td>1.0</td><td>1859</td><td> -9.8</td><td>0.00</td><td>0</td><td>0</td><td>Autumn</td><td>No Holiday</td><td>Yes</td></tr>\n",
              "\t<tr><td>30/11/2018</td><td> 584</td><td>23</td><td> 1.9</td><td>43</td><td>1.3</td><td>1909</td><td> -9.3</td><td>0.00</td><td>0</td><td>0</td><td>Autumn</td><td>No Holiday</td><td>Yes</td></tr>\n",
              "</tbody>\n",
              "</table>\n",
              "</li>\n",
              "\t<li><table class=\"dataframe\">\n",
              "<caption>A spec_tbl_df: 160 × 12</caption>\n",
              "<thead>\n",
              "\t<tr><th scope=col>CITY</th><th scope=col>WEATHER</th><th scope=col>VISIBILITY</th><th scope=col>TEMP</th><th scope=col>TEMP_MIN</th><th scope=col>TEMP_MAX</th><th scope=col>PRESSURE</th><th scope=col>HUMIDITY</th><th scope=col>WIND_SPEED</th><th scope=col>WIND_DEG</th><th scope=col>SEASON</th><th scope=col>FORECAST_DATETIME</th></tr>\n",
              "\t<tr><th scope=col>&lt;chr&gt;</th><th scope=col>&lt;chr&gt;</th><th scope=col>&lt;dbl&gt;</th><th scope=col>&lt;dbl&gt;</th><th scope=col>&lt;dbl&gt;</th><th scope=col>&lt;dbl&gt;</th><th scope=col>&lt;dbl&gt;</th><th scope=col>&lt;dbl&gt;</th><th scope=col>&lt;dbl&gt;</th><th scope=col>&lt;dbl&gt;</th><th scope=col>&lt;chr&gt;</th><th scope=col>&lt;dttm&gt;</th></tr>\n",
              "</thead>\n",
              "<tbody>\n",
              "\t<tr><td>Seoul</td><td>Clear </td><td>10000</td><td>12.32</td><td>10.91</td><td>12.32</td><td>1015</td><td>50</td><td>2.18</td><td>248</td><td>Spring</td><td>2021-04-16 12:00:00</td></tr>\n",
              "\t<tr><td>Seoul</td><td>Clear </td><td>10000</td><td>11.48</td><td> 9.81</td><td>11.48</td><td>1016</td><td>48</td><td>1.25</td><td>142</td><td>Spring</td><td>2021-04-16 15:00:00</td></tr>\n",
              "\t<tr><td>Seoul</td><td>Clouds</td><td>10000</td><td> 9.99</td><td> 8.82</td><td> 9.99</td><td>1015</td><td>46</td><td>0.94</td><td>130</td><td>Spring</td><td>2021-04-16 18:00:00</td></tr>\n",
              "\t<tr><td>Seoul</td><td>Clouds</td><td>10000</td><td> 7.87</td><td> 7.87</td><td> 7.87</td><td>1014</td><td>46</td><td>0.83</td><td> 31</td><td>Spring</td><td>2021-04-16 21:00:00</td></tr>\n",
              "\t<tr><td>Seoul</td><td>Clouds</td><td>10000</td><td>10.09</td><td>10.09</td><td>10.09</td><td>1014</td><td>37</td><td>1.96</td><td>309</td><td>Spring</td><td>2021-04-17 00:00:00</td></tr>\n",
              "\t<tr><td>Seoul</td><td>Rain  </td><td>10000</td><td> 9.74</td><td> 9.74</td><td> 9.74</td><td>1014</td><td>48</td><td>3.24</td><td>267</td><td>Spring</td><td>2021-04-17 03:00:00</td></tr>\n",
              "\t<tr><td>Seoul</td><td>Clouds</td><td>10000</td><td>11.39</td><td>11.39</td><td>11.39</td><td>1012</td><td>44</td><td>5.65</td><td>275</td><td>Spring</td><td>2021-04-17 06:00:00</td></tr>\n",
              "\t<tr><td>Seoul</td><td>Rain  </td><td>10000</td><td> 9.75</td><td> 9.75</td><td> 9.75</td><td>1012</td><td>57</td><td>5.63</td><td>267</td><td>Spring</td><td>2021-04-17 09:00:00</td></tr>\n",
              "\t<tr><td>Seoul</td><td>Rain  </td><td>10000</td><td> 9.11</td><td> 9.11</td><td> 9.11</td><td>1013</td><td>51</td><td>4.91</td><td>280</td><td>Spring</td><td>2021-04-17 12:00:00</td></tr>\n",
              "\t<tr><td>Seoul</td><td>Clear </td><td>10000</td><td> 8.33</td><td> 8.33</td><td> 8.33</td><td>1013</td><td>62</td><td>4.49</td><td>284</td><td>Spring</td><td>2021-04-17 15:00:00</td></tr>\n",
              "\t<tr><td>Seoul</td><td>Clear </td><td>10000</td><td> 7.57</td><td> 7.57</td><td> 7.57</td><td>1013</td><td>69</td><td>4.72</td><td>290</td><td>Spring</td><td>2021-04-17 18:00:00</td></tr>\n",
              "\t<tr><td>Seoul</td><td>Clear </td><td>10000</td><td> 7.13</td><td> 7.13</td><td> 7.13</td><td>1014</td><td>65</td><td>5.06</td><td>301</td><td>Spring</td><td>2021-04-17 21:00:00</td></tr>\n",
              "\t<tr><td>Seoul</td><td>Clear </td><td>10000</td><td>10.49</td><td>10.49</td><td>10.49</td><td>1015</td><td>45</td><td>6.89</td><td>318</td><td>Spring</td><td>2021-04-18 00:00:00</td></tr>\n",
              "\t<tr><td>Seoul</td><td>Clear </td><td>10000</td><td>15.05</td><td>15.05</td><td>15.05</td><td>1014</td><td>30</td><td>5.92</td><td>309</td><td>Spring</td><td>2021-04-18 03:00:00</td></tr>\n",
              "\t<tr><td>Seoul</td><td>Clear </td><td>10000</td><td>17.37</td><td>17.37</td><td>17.37</td><td>1012</td><td>24</td><td>5.84</td><td>295</td><td>Spring</td><td>2021-04-18 06:00:00</td></tr>\n",
              "\t<tr><td>Seoul</td><td>Clear </td><td>10000</td><td>16.14</td><td>16.14</td><td>16.14</td><td>1013</td><td>30</td><td>5.61</td><td>291</td><td>Spring</td><td>2021-04-18 09:00:00</td></tr>\n",
              "\t<tr><td>Seoul</td><td>Clear </td><td>10000</td><td>13.27</td><td>13.27</td><td>13.27</td><td>1015</td><td>42</td><td>3.78</td><td>286</td><td>Spring</td><td>2021-04-18 12:00:00</td></tr>\n",
              "\t<tr><td>Seoul</td><td>Clear </td><td>10000</td><td>11.56</td><td>11.56</td><td>11.56</td><td>1016</td><td>46</td><td>1.76</td><td>253</td><td>Spring</td><td>2021-04-18 15:00:00</td></tr>\n",
              "\t<tr><td>Seoul</td><td>Clear </td><td>10000</td><td>10.01</td><td>10.01</td><td>10.01</td><td>1016</td><td>52</td><td>1.90</td><td>210</td><td>Spring</td><td>2021-04-18 18:00:00</td></tr>\n",
              "\t<tr><td>Seoul</td><td>Clear </td><td>10000</td><td> 8.74</td><td> 8.74</td><td> 8.74</td><td>1016</td><td>62</td><td>1.78</td><td>195</td><td>Spring</td><td>2021-04-18 21:00:00</td></tr>\n",
              "\t<tr><td>Seoul</td><td>Clear </td><td>10000</td><td>12.37</td><td>12.37</td><td>12.37</td><td>1017</td><td>40</td><td>2.20</td><td>215</td><td>Spring</td><td>2021-04-19 00:00:00</td></tr>\n",
              "\t<tr><td>Seoul</td><td>Clear </td><td>10000</td><td>17.40</td><td>17.40</td><td>17.40</td><td>1016</td><td>23</td><td>3.91</td><td>248</td><td>Spring</td><td>2021-04-19 03:00:00</td></tr>\n",
              "\t<tr><td>Seoul</td><td>Clouds</td><td>10000</td><td>18.72</td><td>18.72</td><td>18.72</td><td>1014</td><td>20</td><td>4.71</td><td>255</td><td>Spring</td><td>2021-04-19 06:00:00</td></tr>\n",
              "\t<tr><td>Seoul</td><td>Clouds</td><td>10000</td><td>16.95</td><td>16.95</td><td>16.95</td><td>1014</td><td>28</td><td>3.75</td><td>250</td><td>Spring</td><td>2021-04-19 09:00:00</td></tr>\n",
              "\t<tr><td>Seoul</td><td>Clouds</td><td>10000</td><td>13.74</td><td>13.74</td><td>13.74</td><td>1016</td><td>48</td><td>2.15</td><td>235</td><td>Spring</td><td>2021-04-19 12:00:00</td></tr>\n",
              "\t<tr><td>Seoul</td><td>Clear </td><td>10000</td><td>12.35</td><td>12.35</td><td>12.35</td><td>1018</td><td>59</td><td>1.62</td><td>206</td><td>Spring</td><td>2021-04-19 15:00:00</td></tr>\n",
              "\t<tr><td>Seoul</td><td>Clear </td><td>10000</td><td>11.26</td><td>11.26</td><td>11.26</td><td>1018</td><td>63</td><td>1.43</td><td>196</td><td>Spring</td><td>2021-04-19 18:00:00</td></tr>\n",
              "\t<tr><td>Seoul</td><td>Clear </td><td>10000</td><td>10.40</td><td>10.40</td><td>10.40</td><td>1019</td><td>64</td><td>1.27</td><td>168</td><td>Spring</td><td>2021-04-19 21:00:00</td></tr>\n",
              "\t<tr><td>Seoul</td><td>Clear </td><td>10000</td><td>14.50</td><td>14.50</td><td>14.50</td><td>1020</td><td>44</td><td>1.52</td><td>187</td><td>Spring</td><td>2021-04-20 00:00:00</td></tr>\n",
              "\t<tr><td>Seoul</td><td>Clouds</td><td>10000</td><td>19.78</td><td>19.78</td><td>19.78</td><td>1020</td><td>28</td><td>1.90</td><td>248</td><td>Spring</td><td>2021-04-20 03:00:00</td></tr>\n",
              "\t<tr><td>⋮</td><td>⋮</td><td>⋮</td><td>⋮</td><td>⋮</td><td>⋮</td><td>⋮</td><td>⋮</td><td>⋮</td><td>⋮</td><td>⋮</td><td>⋮</td></tr>\n",
              "\t<tr><td>Suzhou</td><td>Clouds</td><td>10000</td><td>10.49</td><td>10.49</td><td>10.49</td><td>1024</td><td>52</td><td>1.42</td><td>193</td><td>Spring</td><td>2021-04-17 18:00:00</td></tr>\n",
              "\t<tr><td>Suzhou</td><td>Clouds</td><td>10000</td><td> 9.61</td><td> 9.61</td><td> 9.61</td><td>1023</td><td>61</td><td>1.44</td><td>202</td><td>Spring</td><td>2021-04-17 21:00:00</td></tr>\n",
              "\t<tr><td>Suzhou</td><td>Clouds</td><td>10000</td><td>13.69</td><td>13.69</td><td>13.69</td><td>1024</td><td>55</td><td>1.38</td><td>222</td><td>Spring</td><td>2021-04-18 00:00:00</td></tr>\n",
              "\t<tr><td>Suzhou</td><td>Clouds</td><td>10000</td><td>18.19</td><td>18.19</td><td>18.19</td><td>1023</td><td>30</td><td>0.95</td><td>167</td><td>Spring</td><td>2021-04-18 03:00:00</td></tr>\n",
              "\t<tr><td>Suzhou</td><td>Clouds</td><td>10000</td><td>19.42</td><td>19.42</td><td>19.42</td><td>1020</td><td>27</td><td>0.34</td><td>215</td><td>Spring</td><td>2021-04-18 06:00:00</td></tr>\n",
              "\t<tr><td>Suzhou</td><td>Clouds</td><td>10000</td><td>17.81</td><td>17.81</td><td>17.81</td><td>1019</td><td>37</td><td>0.43</td><td>249</td><td>Spring</td><td>2021-04-18 09:00:00</td></tr>\n",
              "\t<tr><td>Suzhou</td><td>Clouds</td><td>10000</td><td>14.54</td><td>14.54</td><td>14.54</td><td>1021</td><td>48</td><td>2.60</td><td>148</td><td>Spring</td><td>2021-04-18 12:00:00</td></tr>\n",
              "\t<tr><td>Suzhou</td><td>Clouds</td><td>10000</td><td>13.12</td><td>13.12</td><td>13.12</td><td>1020</td><td>46</td><td>2.82</td><td>148</td><td>Spring</td><td>2021-04-18 15:00:00</td></tr>\n",
              "\t<tr><td>Suzhou</td><td>Clouds</td><td>10000</td><td>11.56</td><td>11.56</td><td>11.56</td><td>1019</td><td>50</td><td>2.84</td><td>150</td><td>Spring</td><td>2021-04-18 18:00:00</td></tr>\n",
              "\t<tr><td>Suzhou</td><td>Clouds</td><td>10000</td><td>10.34</td><td>10.34</td><td>10.34</td><td>1019</td><td>59</td><td>2.10</td><td>126</td><td>Spring</td><td>2021-04-18 21:00:00</td></tr>\n",
              "\t<tr><td>Suzhou</td><td>Clouds</td><td>10000</td><td>15.17</td><td>15.17</td><td>15.17</td><td>1019</td><td>41</td><td>2.61</td><td>133</td><td>Spring</td><td>2021-04-19 00:00:00</td></tr>\n",
              "\t<tr><td>Suzhou</td><td>Clear </td><td>10000</td><td>19.98</td><td>19.98</td><td>19.98</td><td>1019</td><td>28</td><td>2.36</td><td>140</td><td>Spring</td><td>2021-04-19 03:00:00</td></tr>\n",
              "\t<tr><td>Suzhou</td><td>Clear </td><td>10000</td><td>21.85</td><td>21.85</td><td>21.85</td><td>1017</td><td>27</td><td>1.80</td><td>144</td><td>Spring</td><td>2021-04-19 06:00:00</td></tr>\n",
              "\t<tr><td>Suzhou</td><td>Clear </td><td>10000</td><td>19.97</td><td>19.97</td><td>19.97</td><td>1016</td><td>37</td><td>3.73</td><td>133</td><td>Spring</td><td>2021-04-19 09:00:00</td></tr>\n",
              "\t<tr><td>Suzhou</td><td>Clear </td><td>10000</td><td>13.22</td><td>13.22</td><td>13.22</td><td>1018</td><td>56</td><td>3.71</td><td>134</td><td>Spring</td><td>2021-04-19 12:00:00</td></tr>\n",
              "\t<tr><td>Suzhou</td><td>Clear </td><td>10000</td><td>11.66</td><td>11.66</td><td>11.66</td><td>1018</td><td>65</td><td>3.39</td><td>120</td><td>Spring</td><td>2021-04-19 15:00:00</td></tr>\n",
              "\t<tr><td>Suzhou</td><td>Clear </td><td>10000</td><td>10.67</td><td>10.67</td><td>10.67</td><td>1018</td><td>69</td><td>3.13</td><td>108</td><td>Spring</td><td>2021-04-19 18:00:00</td></tr>\n",
              "\t<tr><td>Suzhou</td><td>Clear </td><td>10000</td><td> 9.90</td><td> 9.90</td><td> 9.90</td><td>1018</td><td>73</td><td>3.20</td><td>118</td><td>Spring</td><td>2021-04-19 21:00:00</td></tr>\n",
              "\t<tr><td>Suzhou</td><td>Clouds</td><td>10000</td><td>15.28</td><td>15.28</td><td>15.28</td><td>1019</td><td>51</td><td>4.97</td><td>122</td><td>Spring</td><td>2021-04-20 00:00:00</td></tr>\n",
              "\t<tr><td>Suzhou</td><td>Clouds</td><td>10000</td><td>20.53</td><td>20.53</td><td>20.53</td><td>1019</td><td>30</td><td>5.86</td><td>126</td><td>Spring</td><td>2021-04-20 03:00:00</td></tr>\n",
              "\t<tr><td>Suzhou</td><td>Clouds</td><td>10000</td><td>21.66</td><td>21.66</td><td>21.66</td><td>1018</td><td>26</td><td>6.58</td><td>128</td><td>Spring</td><td>2021-04-20 06:00:00</td></tr>\n",
              "\t<tr><td>Suzhou</td><td>Clear </td><td>10000</td><td>18.17</td><td>18.17</td><td>18.17</td><td>1018</td><td>33</td><td>6.11</td><td>123</td><td>Spring</td><td>2021-04-20 09:00:00</td></tr>\n",
              "\t<tr><td>Suzhou</td><td>Clear </td><td>10000</td><td>13.30</td><td>13.30</td><td>13.30</td><td>1020</td><td>48</td><td>5.67</td><td>118</td><td>Spring</td><td>2021-04-20 12:00:00</td></tr>\n",
              "\t<tr><td>Suzhou</td><td>Clouds</td><td>10000</td><td>12.17</td><td>12.17</td><td>12.17</td><td>1020</td><td>62</td><td>5.42</td><td>118</td><td>Spring</td><td>2021-04-20 15:00:00</td></tr>\n",
              "\t<tr><td>Suzhou</td><td>Clouds</td><td>10000</td><td>11.55</td><td>11.55</td><td>11.55</td><td>1019</td><td>68</td><td>5.47</td><td>117</td><td>Spring</td><td>2021-04-20 18:00:00</td></tr>\n",
              "\t<tr><td>Suzhou</td><td>Clouds</td><td>10000</td><td>11.53</td><td>11.53</td><td>11.53</td><td>1018</td><td>76</td><td>5.75</td><td>121</td><td>Spring</td><td>2021-04-20 21:00:00</td></tr>\n",
              "\t<tr><td>Suzhou</td><td>Clouds</td><td>10000</td><td>16.21</td><td>16.21</td><td>16.21</td><td>1019</td><td>63</td><td>7.15</td><td>127</td><td>Spring</td><td>2021-04-21 00:00:00</td></tr>\n",
              "\t<tr><td>Suzhou</td><td>Clear </td><td>10000</td><td>21.09</td><td>21.09</td><td>21.09</td><td>1019</td><td>42</td><td>8.12</td><td>133</td><td>Spring</td><td>2021-04-21 03:00:00</td></tr>\n",
              "\t<tr><td>Suzhou</td><td>Clouds</td><td>10000</td><td>22.23</td><td>22.23</td><td>22.23</td><td>1016</td><td>43</td><td>8.18</td><td>134</td><td>Spring</td><td>2021-04-21 06:00:00</td></tr>\n",
              "\t<tr><td>Suzhou</td><td>Clouds</td><td>10000</td><td>19.83</td><td>19.83</td><td>19.83</td><td>1015</td><td>58</td><td>7.25</td><td>127</td><td>Spring</td><td>2021-04-21 09:00:00</td></tr>\n",
              "</tbody>\n",
              "</table>\n",
              "</li>\n",
              "\t<li><table class=\"dataframe\">\n",
              "<caption>A spec_tbl_df: 26569 × 11</caption>\n",
              "<thead>\n",
              "\t<tr><th scope=col>CITY</th><th scope=col>CITY_ASCII</th><th scope=col>LAT</th><th scope=col>LNG</th><th scope=col>COUNTRY</th><th scope=col>ISO2</th><th scope=col>ISO3</th><th scope=col>ADMIN_NAME</th><th scope=col>CAPITAL</th><th scope=col>POPULATION</th><th scope=col>ID</th></tr>\n",
              "\t<tr><th scope=col>&lt;chr&gt;</th><th scope=col>&lt;chr&gt;</th><th scope=col>&lt;dbl&gt;</th><th scope=col>&lt;dbl&gt;</th><th scope=col>&lt;chr&gt;</th><th scope=col>&lt;chr&gt;</th><th scope=col>&lt;chr&gt;</th><th scope=col>&lt;chr&gt;</th><th scope=col>&lt;chr&gt;</th><th scope=col>&lt;dbl&gt;</th><th scope=col>&lt;dbl&gt;</th></tr>\n",
              "</thead>\n",
              "<tbody>\n",
              "\t<tr><td>Tokyo           </td><td>Tokyo           </td><td> 35.6897</td><td> 139.6922</td><td>Japan           </td><td>JP</td><td>JPN</td><td>Tōkyō                           </td><td>primary</td><td>37977000</td><td>1392685764</td></tr>\n",
              "\t<tr><td>Jakarta         </td><td>Jakarta         </td><td> -6.2146</td><td> 106.8451</td><td>Indonesia       </td><td>ID</td><td>IDN</td><td>Jakarta                         </td><td>primary</td><td>34540000</td><td>1360771077</td></tr>\n",
              "\t<tr><td>Delhi           </td><td>Delhi           </td><td> 28.6600</td><td>  77.2300</td><td>India           </td><td>IN</td><td>IND</td><td>Delhi                           </td><td>admin  </td><td>29617000</td><td>1356872604</td></tr>\n",
              "\t<tr><td>Mumbai          </td><td>Mumbai          </td><td> 18.9667</td><td>  72.8333</td><td>India           </td><td>IN</td><td>IND</td><td>Mahārāshtra                     </td><td>admin  </td><td>23355000</td><td>1356226629</td></tr>\n",
              "\t<tr><td>Manila          </td><td>Manila          </td><td> 14.5958</td><td> 120.9772</td><td>Philippines     </td><td>PH</td><td>PHL</td><td>Manila                          </td><td>primary</td><td>23088000</td><td>1608618140</td></tr>\n",
              "\t<tr><td>Shanghai        </td><td>Shanghai        </td><td> 31.1667</td><td> 121.4667</td><td>China           </td><td>CN</td><td>CHN</td><td>Shanghai                        </td><td>admin  </td><td>22120000</td><td>1156073548</td></tr>\n",
              "\t<tr><td>São Paulo       </td><td>Sao Paulo       </td><td>-23.5504</td><td> -46.6339</td><td>Brazil          </td><td>BR</td><td>BRA</td><td>São Paulo                       </td><td>admin  </td><td>22046000</td><td>1076532519</td></tr>\n",
              "\t<tr><td>Seoul           </td><td>Seoul           </td><td> 37.5833</td><td> 127.0000</td><td>Korea, South    </td><td>KR</td><td>KOR</td><td>Seoul                           </td><td>primary</td><td>21794000</td><td>1410836482</td></tr>\n",
              "\t<tr><td>Mexico City     </td><td>Mexico City     </td><td> 19.4333</td><td> -99.1333</td><td>Mexico          </td><td>MX</td><td>MEX</td><td>Ciudad de México                </td><td>primary</td><td>20996000</td><td>1484247881</td></tr>\n",
              "\t<tr><td>Guangzhou       </td><td>Guangzhou       </td><td> 23.1288</td><td> 113.2590</td><td>China           </td><td>CN</td><td>CHN</td><td>Guangdong                       </td><td>admin  </td><td>20902000</td><td>1156237133</td></tr>\n",
              "\t<tr><td>Beijing         </td><td>Beijing         </td><td> 39.9050</td><td> 116.3914</td><td>China           </td><td>CN</td><td>CHN</td><td>Beijing                         </td><td>primary</td><td>19433000</td><td>1156228865</td></tr>\n",
              "\t<tr><td>Cairo           </td><td>Cairo           </td><td> 30.0561</td><td>  31.2394</td><td>Egypt           </td><td>EG</td><td>EGY</td><td>Al Qāhirah                      </td><td>primary</td><td>19372000</td><td>1818253931</td></tr>\n",
              "\t<tr><td>New York        </td><td>New York        </td><td> 40.6943</td><td> -73.9249</td><td>United States   </td><td>US</td><td>USA</td><td>New York                        </td><td>NA     </td><td>18713220</td><td>1840034016</td></tr>\n",
              "\t<tr><td>Kolkāta         </td><td>Kolkata         </td><td> 22.5411</td><td>  88.3378</td><td>India           </td><td>IN</td><td>IND</td><td>West Bengal                     </td><td>admin  </td><td>17560000</td><td>1356060520</td></tr>\n",
              "\t<tr><td>Moscow          </td><td>Moscow          </td><td> 55.7558</td><td>  37.6178</td><td>Russia          </td><td>RU</td><td>RUS</td><td>Moskva                          </td><td>primary</td><td>17125000</td><td>1643318494</td></tr>\n",
              "\t<tr><td>Bangkok         </td><td>Bangkok         </td><td> 13.7500</td><td> 100.5167</td><td>Thailand        </td><td>TH</td><td>THA</td><td>Krung Thep Maha Nakhon          </td><td>primary</td><td>17066000</td><td>1764068610</td></tr>\n",
              "\t<tr><td>Buenos Aires    </td><td>Buenos Aires    </td><td>-34.5997</td><td> -58.3819</td><td>Argentina       </td><td>AR</td><td>ARG</td><td>Buenos Aires, Ciudad Autónoma de</td><td>primary</td><td>16157000</td><td>1032717330</td></tr>\n",
              "\t<tr><td>Shenzhen        </td><td>Shenzhen        </td><td> 22.5350</td><td> 114.0540</td><td>China           </td><td>CN</td><td>CHN</td><td>Guangdong                       </td><td>minor  </td><td>15929000</td><td>1156158707</td></tr>\n",
              "\t<tr><td>Dhaka           </td><td>Dhaka           </td><td> 23.7161</td><td>  90.3961</td><td>Bangladesh      </td><td>BD</td><td>BGD</td><td>Dhaka                           </td><td>primary</td><td>15443000</td><td>1050529279</td></tr>\n",
              "\t<tr><td>Lagos           </td><td>Lagos           </td><td>  6.4500</td><td>   3.4000</td><td>Nigeria         </td><td>NG</td><td>NGA</td><td>Lagos                           </td><td>minor  </td><td>15279000</td><td>1566593751</td></tr>\n",
              "\t<tr><td>Istanbul        </td><td>Istanbul        </td><td> 41.0100</td><td>  28.9603</td><td>Turkey          </td><td>TR</td><td>TUR</td><td>İstanbul                        </td><td>admin  </td><td>15154000</td><td>1792756324</td></tr>\n",
              "\t<tr><td>Ōsaka           </td><td>Osaka           </td><td> 34.6936</td><td> 135.5019</td><td>Japan           </td><td>JP</td><td>JPN</td><td>Ōsaka                           </td><td>admin  </td><td>14977000</td><td>1392419823</td></tr>\n",
              "\t<tr><td>Karachi         </td><td>Karachi         </td><td> 24.8600</td><td>  67.0100</td><td>Pakistan        </td><td>PK</td><td>PAK</td><td>Sindh                           </td><td>admin  </td><td>14835000</td><td>1586129469</td></tr>\n",
              "\t<tr><td>Bangalore       </td><td>Bangalore       </td><td> 12.9699</td><td>  77.5980</td><td>India           </td><td>IN</td><td>IND</td><td>Karnātaka                       </td><td>admin  </td><td>13707000</td><td>1356410365</td></tr>\n",
              "\t<tr><td>Tehran          </td><td>Tehran          </td><td> 35.7000</td><td>  51.4167</td><td>Iran            </td><td>IR</td><td>IRN</td><td>Tehrān                          </td><td>primary</td><td>13633000</td><td>1364305026</td></tr>\n",
              "\t<tr><td>Kinshasa        </td><td>Kinshasa        </td><td> -4.3317</td><td>  15.3139</td><td>Congo (Kinshasa)</td><td>CD</td><td>COD</td><td>Kinshasa                        </td><td>primary</td><td>13528000</td><td>1180000363</td></tr>\n",
              "\t<tr><td>Ho Chi Minh City</td><td>Ho Chi Minh City</td><td> 10.8167</td><td> 106.6333</td><td>Vietnam         </td><td>VN</td><td>VNM</td><td>Hồ Chí Minh                     </td><td>admin  </td><td>13312000</td><td>1704774326</td></tr>\n",
              "\t<tr><td>Los Angeles     </td><td>Los Angeles     </td><td> 34.1139</td><td>-118.4068</td><td>United States   </td><td>US</td><td>USA</td><td>California                      </td><td>NA     </td><td>12750807</td><td>1840020491</td></tr>\n",
              "\t<tr><td>Rio de Janeiro  </td><td>Rio de Janeiro  </td><td>-22.9083</td><td> -43.1964</td><td>Brazil          </td><td>BR</td><td>BRA</td><td>Rio de Janeiro                  </td><td>admin  </td><td>12272000</td><td>1076887657</td></tr>\n",
              "\t<tr><td>Nanyang         </td><td>Nanyang         </td><td> 32.9987</td><td> 112.5292</td><td>China           </td><td>CN</td><td>CHN</td><td>Henan                           </td><td>NA     </td><td>12010000</td><td>1156192287</td></tr>\n",
              "\t<tr><td>⋮</td><td>⋮</td><td>⋮</td><td>⋮</td><td>⋮</td><td>⋮</td><td>⋮</td><td>⋮</td><td>⋮</td><td>⋮</td><td>⋮</td></tr>\n",
              "\t<tr><td>Omchak               </td><td>Omchak               </td><td>61.6333</td><td> 147.9167</td><td>Russia   </td><td>RU</td><td>RUS</td><td>Magadanskaya Oblast’                    </td><td>NA</td><td>10</td><td>1643827519</td></tr>\n",
              "\t<tr><td>Shalaurova           </td><td>Shalaurova           </td><td>73.2204</td><td> 143.1833</td><td>Russia   </td><td>RU</td><td>RUS</td><td>Sakha (Yakutiya)                        </td><td>NA</td><td>10</td><td>1643617349</td></tr>\n",
              "\t<tr><td>Khorgo               </td><td>Khorgo               </td><td>73.4833</td><td> 113.6300</td><td>Russia   </td><td>RU</td><td>RUS</td><td>Sakha (Yakutiya)                        </td><td>NA</td><td>10</td><td>1643550363</td></tr>\n",
              "\t<tr><td>Komsa                </td><td>Komsa                </td><td>61.8680</td><td>  89.2577</td><td>Russia   </td><td>RU</td><td>RUS</td><td>Krasnoyarskiy Kray                      </td><td>NA</td><td>10</td><td>1643255641</td></tr>\n",
              "\t<tr><td>Pakhachi             </td><td>Pakhachi             </td><td>60.5816</td><td> 169.0500</td><td>Russia   </td><td>RU</td><td>RUS</td><td>Kamchatskiy Kray                        </td><td>NA</td><td>10</td><td>1643406349</td></tr>\n",
              "\t<tr><td>Indiga               </td><td>Indiga               </td><td>67.6898</td><td>  49.0166</td><td>Russia   </td><td>RU</td><td>RUS</td><td>Nenetskiy Avtonomnyy Okrug              </td><td>NA</td><td>10</td><td>1643522900</td></tr>\n",
              "\t<tr><td>Sagastyr             </td><td>Sagastyr             </td><td>73.3779</td><td> 126.5924</td><td>Russia   </td><td>RU</td><td>RUS</td><td>Sakha (Yakutiya)                        </td><td>NA</td><td>10</td><td>1643535665</td></tr>\n",
              "\t<tr><td>Chagda               </td><td>Chagda               </td><td>60.1000</td><td> 133.9000</td><td>Russia   </td><td>RU</td><td>RUS</td><td>Sakha (Yakutiya)                        </td><td>NA</td><td>10</td><td>1643773533</td></tr>\n",
              "\t<tr><td>Il’pyrskiy           </td><td>Il'pyrskiy           </td><td>59.9674</td><td> 164.1720</td><td>Russia   </td><td>RU</td><td>RUS</td><td>Kamchatskiy Kray                        </td><td>NA</td><td>10</td><td>1643660854</td></tr>\n",
              "\t<tr><td>Tunguskhaya          </td><td>Tunguskhaya          </td><td>64.9004</td><td> 125.2500</td><td>Russia   </td><td>RU</td><td>RUS</td><td>Sakha (Yakutiya)                        </td><td>NA</td><td>10</td><td>1643610062</td></tr>\n",
              "\t<tr><td>Podkamennaya Tunguska</td><td>Podkamennaya Tunguska</td><td>61.5995</td><td>  90.1236</td><td>Russia   </td><td>RU</td><td>RUS</td><td>Krasnoyarskiy Kray                      </td><td>NA</td><td>10</td><td>1643764711</td></tr>\n",
              "\t<tr><td>Siglan               </td><td>Siglan               </td><td>59.0337</td><td> 152.4166</td><td>Russia   </td><td>RU</td><td>RUS</td><td>Magadanskaya Oblast’                    </td><td>NA</td><td>10</td><td>1643408923</td></tr>\n",
              "\t<tr><td>Utkholok             </td><td>Utkholok             </td><td>57.5504</td><td> 157.2333</td><td>Russia   </td><td>RU</td><td>RUS</td><td>Kamchatskiy Kray                        </td><td>NA</td><td>10</td><td>1643251905</td></tr>\n",
              "\t<tr><td>Varnek               </td><td>Varnek               </td><td>69.7301</td><td>  60.0636</td><td>Russia   </td><td>RU</td><td>RUS</td><td>Nenetskiy Avtonomnyy Okrug              </td><td>NA</td><td>10</td><td>1643378778</td></tr>\n",
              "\t<tr><td>Trofimovsk           </td><td>Trofimovsk           </td><td>72.5997</td><td> 127.0337</td><td>Russia   </td><td>RU</td><td>RUS</td><td>Sakha (Yakutiya)                        </td><td>NA</td><td>10</td><td>1643214114</td></tr>\n",
              "\t<tr><td>Matochkin Shar       </td><td>Matochkin Shar       </td><td>73.2700</td><td>  56.4497</td><td>Russia   </td><td>RU</td><td>RUS</td><td>Arkhangel’skaya Oblast’                 </td><td>NA</td><td>10</td><td>1643843865</td></tr>\n",
              "\t<tr><td>Menkerya             </td><td>Menkerya             </td><td>67.9886</td><td> 123.3505</td><td>Russia   </td><td>RU</td><td>RUS</td><td>Sakha (Yakutiya)                        </td><td>NA</td><td>10</td><td>1643637503</td></tr>\n",
              "\t<tr><td>Khakhar              </td><td>Khakhar              </td><td>57.6666</td><td> 135.4300</td><td>Russia   </td><td>RU</td><td>RUS</td><td>Khabarovskiy Kray                       </td><td>NA</td><td>10</td><td>1643315253</td></tr>\n",
              "\t<tr><td>Zvëzdnyy             </td><td>Zvezdnyy             </td><td>70.9566</td><td>-179.5900</td><td>Russia   </td><td>RU</td><td>RUS</td><td>Chukotskiy Avtonomnyy Okrug             </td><td>NA</td><td>10</td><td>1643877771</td></tr>\n",
              "\t<tr><td>Zemlya Bunge         </td><td>Zemlya Bunge         </td><td>74.8983</td><td> 142.1050</td><td>Russia   </td><td>RU</td><td>RUS</td><td>Sakha (Yakutiya)                        </td><td>NA</td><td>10</td><td>1643720805</td></tr>\n",
              "\t<tr><td>Starorybnoye         </td><td>Starorybnoye         </td><td>72.7666</td><td> 104.8000</td><td>Russia   </td><td>RU</td><td>RUS</td><td>Krasnoyarskiy Kray                      </td><td>NA</td><td>10</td><td>1643724242</td></tr>\n",
              "\t<tr><td>Agapa                </td><td>Agapa                </td><td>71.4504</td><td>  89.2500</td><td>Russia   </td><td>RU</td><td>RUS</td><td>Krasnoyarskiy Kray                      </td><td>NA</td><td>10</td><td>1643009087</td></tr>\n",
              "\t<tr><td>Tukchi               </td><td>Tukchi               </td><td>57.3670</td><td> 139.5000</td><td>Russia   </td><td>RU</td><td>RUS</td><td>Khabarovskiy Kray                       </td><td>NA</td><td>10</td><td>1643472801</td></tr>\n",
              "\t<tr><td>Numto                </td><td>Numto                </td><td>63.6667</td><td>  71.3333</td><td>Russia   </td><td>RU</td><td>RUS</td><td>Khanty-Mansiyskiy Avtonomnyy Okrug-Yugra</td><td>NA</td><td>10</td><td>1643985006</td></tr>\n",
              "\t<tr><td>Olenëk               </td><td>Olenek               </td><td>68.5250</td><td> 112.4500</td><td>Russia   </td><td>RU</td><td>RUS</td><td>Sakha (Yakutiya)                        </td><td>NA</td><td>10</td><td>1643535703</td></tr>\n",
              "\t<tr><td>Nord                 </td><td>Nord                 </td><td>81.7166</td><td> -17.8000</td><td>Greenland</td><td>GL</td><td>GRL</td><td>Sermersooq                              </td><td>NA</td><td>10</td><td>1304217709</td></tr>\n",
              "\t<tr><td>Timmiarmiut          </td><td>Timmiarmiut          </td><td>62.5333</td><td> -42.2167</td><td>Greenland</td><td>GL</td><td>GRL</td><td>Kujalleq                                </td><td>NA</td><td>10</td><td>1304206491</td></tr>\n",
              "\t<tr><td>Cheremoshna          </td><td>Cheremoshna          </td><td>51.3894</td><td>  30.0989</td><td>Ukraine  </td><td>UA</td><td>UKR</td><td>Kyyivs’ka Oblast’                       </td><td>NA</td><td> 0</td><td>1804043438</td></tr>\n",
              "\t<tr><td>Ambarchik            </td><td>Ambarchik            </td><td>69.6510</td><td> 162.3336</td><td>Russia   </td><td>RU</td><td>RUS</td><td>Sakha (Yakutiya)                        </td><td>NA</td><td> 0</td><td>1643739159</td></tr>\n",
              "\t<tr><td>Nordvik              </td><td>Nordvik              </td><td>74.0165</td><td> 111.5100</td><td>Russia   </td><td>RU</td><td>RUS</td><td>Krasnoyarskiy Kray                      </td><td>NA</td><td> 0</td><td>1643587468</td></tr>\n",
              "</tbody>\n",
              "</table>\n",
              "</li>\n",
              "</ol>\n"
            ],
            "text/markdown": "1. \nA spec_tbl_df: 480 × 10\n\n| COUNTRY &lt;chr&gt; | CITY &lt;chr&gt; | NAME &lt;chr&gt; | SYSTEM &lt;chr&gt; | OPERATOR &lt;chr&gt; | LAUNCHED &lt;chr&gt; | DISCONTINUED &lt;chr&gt; | STATIONS &lt;chr&gt; | BICYCLES &lt;chr&gt; | DAILY_RIDERSHIP &lt;chr&gt; |\n|---|---|---|---|---|---|---|---|---|---|\n| Albania    | Tirana                | Ecovolis             | NA               | NA                             | March 2011                              | NA                   | 8        | 200      | NA       |\n| Argentina  | Mendoza               | Metrobici            | NA               | NA                             | 2014                                    | NA                   | 2        | 40       | NA       |\n| Argentina  | San Lorenzo, Santa Fe | Biciudad             | Biciudad         | NA                             | 27 November 2016                        | NA                   | 8        | 80       | NA       |\n| Argentina  | Buenos Aires          | Ecobici              | Serttel Brasil   | Bike In Baires Consortium.[10] | 2010                                    | NA                   | 400      | 4000     | 21917    |\n| Argentina  | Rosario               | Mi Bici Tu Bici[11]  | NA               | NA                             | 2 December 2015                         | NA                   | 47       | 480      | NA       |\n| Australia  | Melbourne[12]         | Melbourne Bike Share | PBSC &amp; 8D        | Motivate                       | June 2010                               | 30 November 2019[13] | 53       | 676      | NA       |\n| Australia  | Brisbane[14][15]      | CityCycle            | 3 Gen. Cyclocity | JCDecaux                       | September 2010                          | NA                   | 150      | 2000     | NA       |\n| Australia  | Melbourne             | oBike                | 4 Gen. oBike     | NA                             | July 2017                               | July 2018            | dockless | 1250     | NA       |\n| Australia  | Sydney                | oBike                | 4 Gen. oBike     | NA                             | July 2017                               | July 2018            | dockless | 1250     | NA       |\n| Australia  | Sydney                | Ofo                  | 4 Gen. Ofo       | NA                             | October 2017                            | NA                   | dockless | 600      | NA       |\n| Australia  | Sydney                | Reddy Go             | Reddy Go         | NA                             | July 2017                               | NA                   | NA       | 2000     | NA       |\n| Austria    | Vienna                | Citybike Wien [16]   | 3 Gen. Cyclocity | JCDecaux Gewista               | June 2003                               | NA                   | 121      | 1500     | 2800[17] |\n| Austria    | Burgenland            | LEIHRADL nextbike    | 3 Gen. nextbike  | NA                             | 2009                                    | NA                   | 40       | NA       | NA       |\n| Austria    | Lower Austria[18]     | LEIHRADL nextbike    | 3 Gen. nextbike  | NA                             | 2009                                    | NA                   | 295      | 1300     | NA       |\n| Austria    | Salzburg              | nextbike             | 3 Gen. nextbike  | NA                             | 2011                                    | NA                   | NA       | NA       | NA       |\n| Austria    | Vienna                | Viennabike           | 2 Gen.           | Association and city council   | April 2002                              | November 2002        | 200      | 1500     | NA       |\n| Austria    | Vorarlberg            | NA                   | 3 Gen. nextbike  | NA                             | 2009                                    | NA                   | 14       | 70       | NA       |\n| Bangladesh | Dhaka                 | JoBike               | JoBike           | NA                             | 2018                                    | NA                   | 05       | 300      | NA       |\n| Belgium    | Namur[19]             | Libiavelo            | 3 Gen. Cyclocity | JCDecaux                       | 21 April 2012                           | NA                   | 24       | 200      | NA       |\n| Belgium    | Antwerp               | Velo                 | 3 Gen. Clear CC  | NA                             | 9 June 2011                             | NA                   | 302      | 3600     | 7010[20] |\n| Belgium    | Brussels[21]          | Villo!               | 3 Gen. Cyclocity | JCDecaux                       | 19 May 2009 (earlier system since 2006) | NA                   | 346      | 4115[22] | NA       |\n| Brazil     | Salvador[23]          | Bike Salvador        | tembici          | NA                             | 2013                                    | NA                   | 23       | NA       | NA       |\n| Brazil     | Belo Horizonte[24]    | Bikebh               | Mobilicidade     | NA                             | 2014                                    | NA                   | 40       | 400      | NA       |\n| Brazil     | Fortaleza             | Bicicletar           | Mobilicidade     | NA                             | 15 December 2014                        | NA                   | 80       | 800      | NA       |\n| Brazil     | João Pessoa[25]       | SAMBA                | Mobilicidade     | NA                             | NA                                      | NA                   | 3        | 20       | NA       |\n| Brazil     | (Pedro de) Toledo[26] | Toopedalando         | Toopedalando     | NA                             | 2011                                    | NA                   | 6        | 60       | NA       |\n| Brazil     | Rio de Janeiro[27]    | Bike Rio             | tembici          | NA                             | 2011                                    | NA                   | 60       | 300      | NA       |\n| Brazil     | São Paulo[28]         | Bikesampa            | tembici          | NA                             | 2012                                    | NA                   | 241      | 600      | NA       |\n| Brazil     | Sorocaba[29]          | Integrabike          | tembici          | NA                             | 2012                                    | NA                   | 15       | 120      | NA       |\n| Bulgaria   | Burgas                | VeloBurgas           | Mobilicidade     | NA                             | 2012                                    | NA                   | 10       | 120      | NA       |\n| ⋮ | ⋮ | ⋮ | ⋮ | ⋮ | ⋮ | ⋮ | ⋮ | ⋮ | ⋮ |\n| United States | Fullerton, California                                      | OCTA BikeShare              | Bike Nation                         | NA                          | 6 January 2014   | NA            | 10      | 75   | NA          |\n| United States | Hoboken, New Jersey[288]                                   | Hudson Bike Share           | 3 Gen. nextbike                     | NA                          | September 2015   | NA            | 29      | 250  | NA          |\n| United States | Houston, Texas[289][290]                                   | Houston B-cycle             | 3 Gen. B-Cycle                      | NA                          | 2012             | NA            | 51[291] | 400  | NA          |\n| United States | Jersey City[292]                                           | Citi Bike                   | 8D                                  | Motivate                    | September 2015   | NA            | 50      | 500  | NA          |\n| United States | Kailua, Hawaii[293][294]                                   | Hawaii B-cycle              | 3 Gen. B-Cycle                      | NA                          | 2011             | NA            | 2       | 12   | NA          |\n| United States | Kansas City, Missouri[295]                                 | Kansas City B-cycle         | 3 Gen. B-Cycle                      | NA                          | 2012             | NA            | 30      | 300  | NA          |\n| United States | Kona District, Hawaii                                      | NA                          | PBSC                                | NA                          | 2016             | NA            | 3       | 30   | NA          |\n| United States | Lansing, MI                                                | Capital Community Bikeshare | A2B Bikeshare                       | NA                          | 2014             | NA            | 8       | 20   | Closed[296] |\n| United States | Lincoln, Nebraska[297]                                     | BikeLNK                     | 3 Gen. B-Cycle                      | NA                          | 2018             | NA            | 19      | 100  | NA          |\n| United States | Los Angeles                                                | Metro Bike Share            | 3 Gen. B-Cycle                      | NA                          | 7 July 2016      | NA            | 65      | 1000 | NA          |\n| United States | Madison, Wisconsin[298]                                    | Madison B-Cycle             | 3 Gen. B-Cycle                      | NA                          | 2011             | NA            | 39      | 350  | NA          |\n| United States | Milwaukee, Wisconsin[299][300]                             | Bublr Bikes                 | 3 Gen. B-Cycle                      | NA                          | 2014             | NA            | 87      | 400+ | NA          |\n| United States | Minneapolis, Minnesota and Saint Paul, Minnesota[301][302] | Nice Ride                   | PBSC &amp; 8D                           | NA                          | 2010             | NA            | 171     | 1833 | NA          |\n| United States | Oklahoma City, Oklahoma[303]                               | Spokies                     | Spokies                             | NA                          | 2012             | NA            | 7       | 100  | NA          |\n| United States | Omaha, Nebraska[304]                                       | Omaha B-Cycle               | 3 Gen. B-Cycle                      | NA                          | 2011             | NA            | 5       | 35   | NA          |\n| United States | Philadelphia, Pennsylvania[305][306]                       | Indego                      | 3 Gen. B-Cycle                      | NA                          | 23 April 2015    | NA            | 105     | 1000 | NA          |\n| United States | Phoenix, Arizona                                           | Grid Bike Share             | 3 Gen. CycleHop and Social Bicycles | NA                          | 25 November 2014 | NA            | 40      | 500  | NA          |\n| United States | Pittsburgh, Pennsylvania                                   | Healthy Ride PGH            | 3 Gen. nextbike                     | NA                          | 2015             | NA            | 50      | 500  | NA          |\n| United States | Portland, Oregon                                           | Biketown                    | NA                                  | NA                          | 19 July 2016     | NA            | 100     | 1000 | NA          |\n| United States | Portland, Oregon                                           | Yellow Bike Project         | 1 Gen. WhiteBikes                   | Yellow Bike Project         | 1994[307]        | 1997[308]     | NA      | 1000 | NA          |\n| United States | Salt Lake City, Utah[309]                                  | SLC Bike Share              | 3 Gen. B-Cycle                      | NA                          | 2013             | NA            | 12      | 100  | NA          |\n| United States | San Antonio, Texas[310]                                    | San Antonio B-Cycle         | 3 Gen. B-Cycle                      | NA                          | 2011             | NA            | 68      | 600  | NA          |\n| United States | San Diego[311]                                             | DecoBike                    | DecoBike                            | JCDecaux                    | February 2015    | NA            | 180     | 1800 | NA          |\n| United States | San Francisco Bay Area                                     | NA                          | NA                                  | NA                          | 2013             | NA            | NA      | NA   | NA          |\n| United States | San Francisco Bay Area[312]                                | Baywheels                   | 8D                                  | Motivate                    | June 2017        | NA            | 550     | 7000 | NA          |\n| United States | Santa Monica, California[313]                              | Breeze Bike Share           | 3 Gen. CycleHop and Social Bicycles | NA                          | 13 August 2015   | NA            | 80      | 500  | NA          |\n| United States | Savannah, Georgia[314]                                     | CAT Bike                    | 3 Gen. B-Cycle                      | NA                          | 24 January 2014  | NA            | 2       | 16   | NA          |\n| United States | Seattle, Washington[315]                                   | Pronto Cycle Share          | 8D                                  | Motivate                    | 13 October 2014  | 31 March 2017 | 50      | 500  | NA          |\n| United States | Spartanburg, South Carolina[316]                           | Spartanburg B-Cycle         | 3 Gen. B-Cycle                      | NA                          | 2011             | NA            | 5       | 40   | NA          |\n| United States | St. Paul                                                   | Yellow Bike Project         | 1 Gen. w/ BikeCard                  | volunteers and city council | 1997             | NA            | NA      | NA   | NA          |\n\n\n2. \nA spec_tbl_df: 8760 × 14\n\n| DATE &lt;chr&gt; | RENTED_BIKE_COUNT &lt;dbl&gt; | HOUR &lt;dbl&gt; | TEMPERATURE &lt;dbl&gt; | HUMIDITY &lt;dbl&gt; | WIND_SPEED &lt;dbl&gt; | VISIBILITY &lt;dbl&gt; | DEW_POINT_TEMPERATURE &lt;dbl&gt; | SOLAR_RADIATION &lt;dbl&gt; | RAINFALL &lt;dbl&gt; | SNOWFALL &lt;dbl&gt; | SEASONS &lt;chr&gt; | HOLIDAY &lt;chr&gt; | FUNCTIONING_DAY &lt;chr&gt; |\n|---|---|---|---|---|---|---|---|---|---|---|---|---|---|\n| 01/12/2017 | 254 |  0 | -5.2 | 37 | 2.2 | 2000 | -17.6 | 0.00 | 0 | 0 | Winter | No Holiday | Yes |\n| 01/12/2017 | 204 |  1 | -5.5 | 38 | 0.8 | 2000 | -17.6 | 0.00 | 0 | 0 | Winter | No Holiday | Yes |\n| 01/12/2017 | 173 |  2 | -6.0 | 39 | 1.0 | 2000 | -17.7 | 0.00 | 0 | 0 | Winter | No Holiday | Yes |\n| 01/12/2017 | 107 |  3 | -6.2 | 40 | 0.9 | 2000 | -17.6 | 0.00 | 0 | 0 | Winter | No Holiday | Yes |\n| 01/12/2017 |  78 |  4 | -6.0 | 36 | 2.3 | 2000 | -18.6 | 0.00 | 0 | 0 | Winter | No Holiday | Yes |\n| 01/12/2017 | 100 |  5 | -6.4 | 37 | 1.5 | 2000 | -18.7 | 0.00 | 0 | 0 | Winter | No Holiday | Yes |\n| 01/12/2017 | 181 |  6 | -6.6 | 35 | 1.3 | 2000 | -19.5 | 0.00 | 0 | 0 | Winter | No Holiday | Yes |\n| 01/12/2017 | 460 |  7 | -7.4 | 38 | 0.9 | 2000 | -19.3 | 0.00 | 0 | 0 | Winter | No Holiday | Yes |\n| 01/12/2017 | 930 |  8 | -7.6 | 37 | 1.1 | 2000 | -19.8 | 0.01 | 0 | 0 | Winter | No Holiday | Yes |\n| 01/12/2017 | 490 |  9 | -6.5 | 27 | 0.5 | 1928 | -22.4 | 0.23 | 0 | 0 | Winter | No Holiday | Yes |\n| 01/12/2017 | 339 | 10 | -3.5 | 24 | 1.2 | 1996 | -21.2 | 0.65 | 0 | 0 | Winter | No Holiday | Yes |\n| 01/12/2017 | 360 | 11 | -0.5 | 21 | 1.3 | 1936 | -20.2 | 0.94 | 0 | 0 | Winter | No Holiday | Yes |\n| 01/12/2017 | 449 | 12 |  1.7 | 23 | 1.4 | 2000 | -17.2 | 1.11 | 0 | 0 | Winter | No Holiday | Yes |\n| 01/12/2017 | 451 | 13 |  2.4 | 25 | 1.6 | 2000 | -15.6 | 1.16 | 0 | 0 | Winter | No Holiday | Yes |\n| 01/12/2017 | 447 | 14 |  3.0 | 26 | 2.0 | 2000 | -14.6 | 1.01 | 0 | 0 | Winter | No Holiday | Yes |\n| 01/12/2017 | 463 | 15 |  2.1 | 36 | 3.2 | 2000 | -11.4 | 0.54 | 0 | 0 | Winter | No Holiday | Yes |\n| 01/12/2017 | 484 | 16 |  1.2 | 54 | 4.2 |  793 |  -7.0 | 0.24 | 0 | 0 | Winter | No Holiday | Yes |\n| 01/12/2017 | 555 | 17 |  0.8 | 58 | 1.6 | 2000 |  -6.5 | 0.08 | 0 | 0 | Winter | No Holiday | Yes |\n| 01/12/2017 | 862 | 18 |  0.6 | 66 | 1.4 | 2000 |  -5.0 | 0.00 | 0 | 0 | Winter | No Holiday | Yes |\n| 01/12/2017 | 600 | 19 |  0.0 | 77 | 1.7 | 2000 |  -3.5 | 0.00 | 0 | 0 | Winter | No Holiday | Yes |\n| 01/12/2017 | 426 | 20 | -0.3 | 79 | 1.5 | 1913 |  -3.5 | 0.00 | 0 | 0 | Winter | No Holiday | Yes |\n| 01/12/2017 | 405 | 21 | -0.8 | 81 | 0.8 | 1687 |  -3.6 | 0.00 | 0 | 0 | Winter | No Holiday | Yes |\n| 01/12/2017 | 398 | 22 | -0.9 | 83 | 1.5 | 1380 |  -3.4 | 0.00 | 0 | 0 | Winter | No Holiday | Yes |\n| 01/12/2017 | 323 | 23 | -1.3 | 84 | 1.0 | 1265 |  -3.6 | 0.00 | 0 | 0 | Winter | No Holiday | Yes |\n| 02/12/2017 | 328 |  0 | -1.8 | 87 | 1.1 |  994 |  -3.6 | 0.00 | 0 | 0 | Winter | No Holiday | Yes |\n| 02/12/2017 | 308 |  1 | -2.2 | 86 | 0.6 |  990 |  -4.2 | 0.00 | 0 | 0 | Winter | No Holiday | Yes |\n| 02/12/2017 | 262 |  2 | -2.9 | 86 | 1.5 | 1256 |  -4.9 | 0.00 | 0 | 0 | Winter | No Holiday | Yes |\n| 02/12/2017 | 167 |  3 | -3.5 | 81 | 2.2 | 1221 |  -6.2 | 0.00 | 0 | 0 | Winter | No Holiday | Yes |\n| 02/12/2017 |  89 |  4 | -3.8 | 79 | 2.0 | 1167 |  -6.9 | 0.00 | 0 | 0 | Winter | No Holiday | Yes |\n| 02/12/2017 |  79 |  5 | -4.0 | 79 | 1.5 | 1202 |  -7.1 | 0.00 | 0 | 0 | Winter | No Holiday | Yes |\n| ⋮ | ⋮ | ⋮ | ⋮ | ⋮ | ⋮ | ⋮ | ⋮ | ⋮ | ⋮ | ⋮ | ⋮ | ⋮ | ⋮ |\n| 29/11/2018 | 1577 | 18 |  0.0 | 46 | 0.9 | 1566 |  -4.8 | 0.00 | 0 | 0 | Autumn | No Holiday | Yes |\n| 29/11/2018 | 1026 | 19 |  5.2 | 48 | 1.9 | 1590 |  -4.9 | 0.00 | 0 | 0 | Autumn | No Holiday | Yes |\n| 29/11/2018 |  818 | 20 |  4.1 | 54 | 1.3 | 1434 |  -4.3 | 0.00 | 0 | 0 | Autumn | No Holiday | Yes |\n| 29/11/2018 |  792 | 21 |  3.8 | 55 | 2.1 | 1231 |  -4.4 | 0.00 | 0 | 0 | Autumn | No Holiday | Yes |\n| 29/11/2018 |  726 | 22 |  3.0 | 59 | 1.1 | 1218 |  -4.2 | 0.00 | 0 | 0 | Autumn | No Holiday | Yes |\n| 29/11/2018 |  559 | 23 |  2.6 | 56 | 1.9 | 1394 |  -5.3 | 0.00 | 0 | 0 | Autumn | No Holiday | Yes |\n| 30/11/2018 |  474 |  0 |  1.8 | 62 | 1.6 | 1411 |  -4.7 | 0.00 | 0 | 0 | Autumn | No Holiday | Yes |\n| 30/11/2018 |  456 |  1 |  1.3 | 63 | 2.0 | 1379 |  -4.9 | 0.00 | 0 | 0 | Autumn | No Holiday | Yes |\n| 30/11/2018 |  300 |  2 |  0.6 | 66 | 0.5 | 1368 |  -5.0 | 0.00 | 0 | 0 | Autumn | No Holiday | Yes |\n| 30/11/2018 |  213 |  3 | -0.1 | 69 | 0.9 | 1338 |  -5.1 | 0.00 | 0 | 0 | Autumn | No Holiday | Yes |\n| 30/11/2018 |  116 |  4 | -0.5 | 71 | 0.4 | 1345 |  -5.1 | 0.00 | 0 | 0 | Autumn | No Holiday | Yes |\n| 30/11/2018 |  149 |  5 | -0.7 | 66 | 0.5 | 1336 |  -6.2 | 0.00 | 0 | 0 | Autumn | No Holiday | Yes |\n| 30/11/2018 |  293 |  6 | -0.8 | 68 | 0.8 | 1322 |  -5.9 | 0.00 | 0 | 0 | Autumn | No Holiday | Yes |\n| 30/11/2018 |  750 |  7 | -1.2 | 70 | 0.8 | 1351 |  -5.9 | 0.00 | 0 | 0 | Autumn | No Holiday | Yes |\n| 30/11/2018 | 1527 |  8 | -1.5 | 68 | 1.1 | 1286 |  -6.6 | 0.02 | 0 | 0 | Autumn | No Holiday | Yes |\n| 30/11/2018 |  809 |  9 | -0.4 | 57 | 0.6 | 1270 |  -7.8 | 0.45 | 0 | 0 | Autumn | No Holiday | Yes |\n| 30/11/2018 |  554 | 10 |  1.9 | 51 | 0.8 | 1029 |  -7.1 | 1.01 | 0 | 0 | Autumn | No Holiday | Yes |\n| 30/11/2018 |  642 | 11 |  5.3 | 43 | 1.8 | 1177 |  -6.2 | 1.38 | 0 | 0 | Autumn | No Holiday | Yes |\n| 30/11/2018 |  720 | 12 |  6.6 | 35 | 1.3 | 1409 |  -7.8 | 1.70 | 0 | 0 | Autumn | No Holiday | Yes |\n| 30/11/2018 |  740 | 13 |  7.1 | 24 | 2.8 | 1838 | -12.1 | 1.83 | 0 | 0 | Autumn | No Holiday | Yes |\n| 30/11/2018 |  761 | 14 |  7.8 | 20 | 2.2 | 2000 | -13.8 | 1.67 | 0 | 0 | Autumn | No Holiday | Yes |\n| 30/11/2018 |  768 | 15 |  7.0 | 20 | 3.3 | 1994 | -14.4 | 1.21 | 0 | 0 | Autumn | No Holiday | Yes |\n| 30/11/2018 |  837 | 16 |  7.2 | 23 | 1.5 | 1945 | -12.6 | 0.72 | 0 | 0 | Autumn | No Holiday | Yes |\n| 30/11/2018 | 1047 | 17 |  6.0 | 29 | 2.1 | 1877 | -10.7 | 0.23 | 0 | 0 | Autumn | No Holiday | Yes |\n| 30/11/2018 | 1384 | 18 |  4.7 | 34 | 1.9 | 1661 |  -9.8 | 0.00 | 0 | 0 | Autumn | No Holiday | Yes |\n| 30/11/2018 | 1003 | 19 |  4.2 | 34 | 2.6 | 1894 | -10.3 | 0.00 | 0 | 0 | Autumn | No Holiday | Yes |\n| 30/11/2018 |  764 | 20 |  3.4 | 37 | 2.3 | 2000 |  -9.9 | 0.00 | 0 | 0 | Autumn | No Holiday | Yes |\n| 30/11/2018 |  694 | 21 |  2.6 | 39 | 0.3 | 1968 |  -9.9 | 0.00 | 0 | 0 | Autumn | No Holiday | Yes |\n| 30/11/2018 |  712 | 22 |  2.1 | 41 | 1.0 | 1859 |  -9.8 | 0.00 | 0 | 0 | Autumn | No Holiday | Yes |\n| 30/11/2018 |  584 | 23 |  1.9 | 43 | 1.3 | 1909 |  -9.3 | 0.00 | 0 | 0 | Autumn | No Holiday | Yes |\n\n\n3. \nA spec_tbl_df: 160 × 12\n\n| CITY &lt;chr&gt; | WEATHER &lt;chr&gt; | VISIBILITY &lt;dbl&gt; | TEMP &lt;dbl&gt; | TEMP_MIN &lt;dbl&gt; | TEMP_MAX &lt;dbl&gt; | PRESSURE &lt;dbl&gt; | HUMIDITY &lt;dbl&gt; | WIND_SPEED &lt;dbl&gt; | WIND_DEG &lt;dbl&gt; | SEASON &lt;chr&gt; | FORECAST_DATETIME &lt;dttm&gt; |\n|---|---|---|---|---|---|---|---|---|---|---|---|\n| Seoul | Clear  | 10000 | 12.32 | 10.91 | 12.32 | 1015 | 50 | 2.18 | 248 | Spring | 2021-04-16 12:00:00 |\n| Seoul | Clear  | 10000 | 11.48 |  9.81 | 11.48 | 1016 | 48 | 1.25 | 142 | Spring | 2021-04-16 15:00:00 |\n| Seoul | Clouds | 10000 |  9.99 |  8.82 |  9.99 | 1015 | 46 | 0.94 | 130 | Spring | 2021-04-16 18:00:00 |\n| Seoul | Clouds | 10000 |  7.87 |  7.87 |  7.87 | 1014 | 46 | 0.83 |  31 | Spring | 2021-04-16 21:00:00 |\n| Seoul | Clouds | 10000 | 10.09 | 10.09 | 10.09 | 1014 | 37 | 1.96 | 309 | Spring | 2021-04-17 00:00:00 |\n| Seoul | Rain   | 10000 |  9.74 |  9.74 |  9.74 | 1014 | 48 | 3.24 | 267 | Spring | 2021-04-17 03:00:00 |\n| Seoul | Clouds | 10000 | 11.39 | 11.39 | 11.39 | 1012 | 44 | 5.65 | 275 | Spring | 2021-04-17 06:00:00 |\n| Seoul | Rain   | 10000 |  9.75 |  9.75 |  9.75 | 1012 | 57 | 5.63 | 267 | Spring | 2021-04-17 09:00:00 |\n| Seoul | Rain   | 10000 |  9.11 |  9.11 |  9.11 | 1013 | 51 | 4.91 | 280 | Spring | 2021-04-17 12:00:00 |\n| Seoul | Clear  | 10000 |  8.33 |  8.33 |  8.33 | 1013 | 62 | 4.49 | 284 | Spring | 2021-04-17 15:00:00 |\n| Seoul | Clear  | 10000 |  7.57 |  7.57 |  7.57 | 1013 | 69 | 4.72 | 290 | Spring | 2021-04-17 18:00:00 |\n| Seoul | Clear  | 10000 |  7.13 |  7.13 |  7.13 | 1014 | 65 | 5.06 | 301 | Spring | 2021-04-17 21:00:00 |\n| Seoul | Clear  | 10000 | 10.49 | 10.49 | 10.49 | 1015 | 45 | 6.89 | 318 | Spring | 2021-04-18 00:00:00 |\n| Seoul | Clear  | 10000 | 15.05 | 15.05 | 15.05 | 1014 | 30 | 5.92 | 309 | Spring | 2021-04-18 03:00:00 |\n| Seoul | Clear  | 10000 | 17.37 | 17.37 | 17.37 | 1012 | 24 | 5.84 | 295 | Spring | 2021-04-18 06:00:00 |\n| Seoul | Clear  | 10000 | 16.14 | 16.14 | 16.14 | 1013 | 30 | 5.61 | 291 | Spring | 2021-04-18 09:00:00 |\n| Seoul | Clear  | 10000 | 13.27 | 13.27 | 13.27 | 1015 | 42 | 3.78 | 286 | Spring | 2021-04-18 12:00:00 |\n| Seoul | Clear  | 10000 | 11.56 | 11.56 | 11.56 | 1016 | 46 | 1.76 | 253 | Spring | 2021-04-18 15:00:00 |\n| Seoul | Clear  | 10000 | 10.01 | 10.01 | 10.01 | 1016 | 52 | 1.90 | 210 | Spring | 2021-04-18 18:00:00 |\n| Seoul | Clear  | 10000 |  8.74 |  8.74 |  8.74 | 1016 | 62 | 1.78 | 195 | Spring | 2021-04-18 21:00:00 |\n| Seoul | Clear  | 10000 | 12.37 | 12.37 | 12.37 | 1017 | 40 | 2.20 | 215 | Spring | 2021-04-19 00:00:00 |\n| Seoul | Clear  | 10000 | 17.40 | 17.40 | 17.40 | 1016 | 23 | 3.91 | 248 | Spring | 2021-04-19 03:00:00 |\n| Seoul | Clouds | 10000 | 18.72 | 18.72 | 18.72 | 1014 | 20 | 4.71 | 255 | Spring | 2021-04-19 06:00:00 |\n| Seoul | Clouds | 10000 | 16.95 | 16.95 | 16.95 | 1014 | 28 | 3.75 | 250 | Spring | 2021-04-19 09:00:00 |\n| Seoul | Clouds | 10000 | 13.74 | 13.74 | 13.74 | 1016 | 48 | 2.15 | 235 | Spring | 2021-04-19 12:00:00 |\n| Seoul | Clear  | 10000 | 12.35 | 12.35 | 12.35 | 1018 | 59 | 1.62 | 206 | Spring | 2021-04-19 15:00:00 |\n| Seoul | Clear  | 10000 | 11.26 | 11.26 | 11.26 | 1018 | 63 | 1.43 | 196 | Spring | 2021-04-19 18:00:00 |\n| Seoul | Clear  | 10000 | 10.40 | 10.40 | 10.40 | 1019 | 64 | 1.27 | 168 | Spring | 2021-04-19 21:00:00 |\n| Seoul | Clear  | 10000 | 14.50 | 14.50 | 14.50 | 1020 | 44 | 1.52 | 187 | Spring | 2021-04-20 00:00:00 |\n| Seoul | Clouds | 10000 | 19.78 | 19.78 | 19.78 | 1020 | 28 | 1.90 | 248 | Spring | 2021-04-20 03:00:00 |\n| ⋮ | ⋮ | ⋮ | ⋮ | ⋮ | ⋮ | ⋮ | ⋮ | ⋮ | ⋮ | ⋮ | ⋮ |\n| Suzhou | Clouds | 10000 | 10.49 | 10.49 | 10.49 | 1024 | 52 | 1.42 | 193 | Spring | 2021-04-17 18:00:00 |\n| Suzhou | Clouds | 10000 |  9.61 |  9.61 |  9.61 | 1023 | 61 | 1.44 | 202 | Spring | 2021-04-17 21:00:00 |\n| Suzhou | Clouds | 10000 | 13.69 | 13.69 | 13.69 | 1024 | 55 | 1.38 | 222 | Spring | 2021-04-18 00:00:00 |\n| Suzhou | Clouds | 10000 | 18.19 | 18.19 | 18.19 | 1023 | 30 | 0.95 | 167 | Spring | 2021-04-18 03:00:00 |\n| Suzhou | Clouds | 10000 | 19.42 | 19.42 | 19.42 | 1020 | 27 | 0.34 | 215 | Spring | 2021-04-18 06:00:00 |\n| Suzhou | Clouds | 10000 | 17.81 | 17.81 | 17.81 | 1019 | 37 | 0.43 | 249 | Spring | 2021-04-18 09:00:00 |\n| Suzhou | Clouds | 10000 | 14.54 | 14.54 | 14.54 | 1021 | 48 | 2.60 | 148 | Spring | 2021-04-18 12:00:00 |\n| Suzhou | Clouds | 10000 | 13.12 | 13.12 | 13.12 | 1020 | 46 | 2.82 | 148 | Spring | 2021-04-18 15:00:00 |\n| Suzhou | Clouds | 10000 | 11.56 | 11.56 | 11.56 | 1019 | 50 | 2.84 | 150 | Spring | 2021-04-18 18:00:00 |\n| Suzhou | Clouds | 10000 | 10.34 | 10.34 | 10.34 | 1019 | 59 | 2.10 | 126 | Spring | 2021-04-18 21:00:00 |\n| Suzhou | Clouds | 10000 | 15.17 | 15.17 | 15.17 | 1019 | 41 | 2.61 | 133 | Spring | 2021-04-19 00:00:00 |\n| Suzhou | Clear  | 10000 | 19.98 | 19.98 | 19.98 | 1019 | 28 | 2.36 | 140 | Spring | 2021-04-19 03:00:00 |\n| Suzhou | Clear  | 10000 | 21.85 | 21.85 | 21.85 | 1017 | 27 | 1.80 | 144 | Spring | 2021-04-19 06:00:00 |\n| Suzhou | Clear  | 10000 | 19.97 | 19.97 | 19.97 | 1016 | 37 | 3.73 | 133 | Spring | 2021-04-19 09:00:00 |\n| Suzhou | Clear  | 10000 | 13.22 | 13.22 | 13.22 | 1018 | 56 | 3.71 | 134 | Spring | 2021-04-19 12:00:00 |\n| Suzhou | Clear  | 10000 | 11.66 | 11.66 | 11.66 | 1018 | 65 | 3.39 | 120 | Spring | 2021-04-19 15:00:00 |\n| Suzhou | Clear  | 10000 | 10.67 | 10.67 | 10.67 | 1018 | 69 | 3.13 | 108 | Spring | 2021-04-19 18:00:00 |\n| Suzhou | Clear  | 10000 |  9.90 |  9.90 |  9.90 | 1018 | 73 | 3.20 | 118 | Spring | 2021-04-19 21:00:00 |\n| Suzhou | Clouds | 10000 | 15.28 | 15.28 | 15.28 | 1019 | 51 | 4.97 | 122 | Spring | 2021-04-20 00:00:00 |\n| Suzhou | Clouds | 10000 | 20.53 | 20.53 | 20.53 | 1019 | 30 | 5.86 | 126 | Spring | 2021-04-20 03:00:00 |\n| Suzhou | Clouds | 10000 | 21.66 | 21.66 | 21.66 | 1018 | 26 | 6.58 | 128 | Spring | 2021-04-20 06:00:00 |\n| Suzhou | Clear  | 10000 | 18.17 | 18.17 | 18.17 | 1018 | 33 | 6.11 | 123 | Spring | 2021-04-20 09:00:00 |\n| Suzhou | Clear  | 10000 | 13.30 | 13.30 | 13.30 | 1020 | 48 | 5.67 | 118 | Spring | 2021-04-20 12:00:00 |\n| Suzhou | Clouds | 10000 | 12.17 | 12.17 | 12.17 | 1020 | 62 | 5.42 | 118 | Spring | 2021-04-20 15:00:00 |\n| Suzhou | Clouds | 10000 | 11.55 | 11.55 | 11.55 | 1019 | 68 | 5.47 | 117 | Spring | 2021-04-20 18:00:00 |\n| Suzhou | Clouds | 10000 | 11.53 | 11.53 | 11.53 | 1018 | 76 | 5.75 | 121 | Spring | 2021-04-20 21:00:00 |\n| Suzhou | Clouds | 10000 | 16.21 | 16.21 | 16.21 | 1019 | 63 | 7.15 | 127 | Spring | 2021-04-21 00:00:00 |\n| Suzhou | Clear  | 10000 | 21.09 | 21.09 | 21.09 | 1019 | 42 | 8.12 | 133 | Spring | 2021-04-21 03:00:00 |\n| Suzhou | Clouds | 10000 | 22.23 | 22.23 | 22.23 | 1016 | 43 | 8.18 | 134 | Spring | 2021-04-21 06:00:00 |\n| Suzhou | Clouds | 10000 | 19.83 | 19.83 | 19.83 | 1015 | 58 | 7.25 | 127 | Spring | 2021-04-21 09:00:00 |\n\n\n4. \nA spec_tbl_df: 26569 × 11\n\n| CITY &lt;chr&gt; | CITY_ASCII &lt;chr&gt; | LAT &lt;dbl&gt; | LNG &lt;dbl&gt; | COUNTRY &lt;chr&gt; | ISO2 &lt;chr&gt; | ISO3 &lt;chr&gt; | ADMIN_NAME &lt;chr&gt; | CAPITAL &lt;chr&gt; | POPULATION &lt;dbl&gt; | ID &lt;dbl&gt; |\n|---|---|---|---|---|---|---|---|---|---|---|\n| Tokyo            | Tokyo            |  35.6897 |  139.6922 | Japan            | JP | JPN | Tōkyō                            | primary | 37977000 | 1392685764 |\n| Jakarta          | Jakarta          |  -6.2146 |  106.8451 | Indonesia        | ID | IDN | Jakarta                          | primary | 34540000 | 1360771077 |\n| Delhi            | Delhi            |  28.6600 |   77.2300 | India            | IN | IND | Delhi                            | admin   | 29617000 | 1356872604 |\n| Mumbai           | Mumbai           |  18.9667 |   72.8333 | India            | IN | IND | Mahārāshtra                      | admin   | 23355000 | 1356226629 |\n| Manila           | Manila           |  14.5958 |  120.9772 | Philippines      | PH | PHL | Manila                           | primary | 23088000 | 1608618140 |\n| Shanghai         | Shanghai         |  31.1667 |  121.4667 | China            | CN | CHN | Shanghai                         | admin   | 22120000 | 1156073548 |\n| São Paulo        | Sao Paulo        | -23.5504 |  -46.6339 | Brazil           | BR | BRA | São Paulo                        | admin   | 22046000 | 1076532519 |\n| Seoul            | Seoul            |  37.5833 |  127.0000 | Korea, South     | KR | KOR | Seoul                            | primary | 21794000 | 1410836482 |\n| Mexico City      | Mexico City      |  19.4333 |  -99.1333 | Mexico           | MX | MEX | Ciudad de México                 | primary | 20996000 | 1484247881 |\n| Guangzhou        | Guangzhou        |  23.1288 |  113.2590 | China            | CN | CHN | Guangdong                        | admin   | 20902000 | 1156237133 |\n| Beijing          | Beijing          |  39.9050 |  116.3914 | China            | CN | CHN | Beijing                          | primary | 19433000 | 1156228865 |\n| Cairo            | Cairo            |  30.0561 |   31.2394 | Egypt            | EG | EGY | Al Qāhirah                       | primary | 19372000 | 1818253931 |\n| New York         | New York         |  40.6943 |  -73.9249 | United States    | US | USA | New York                         | NA      | 18713220 | 1840034016 |\n| Kolkāta          | Kolkata          |  22.5411 |   88.3378 | India            | IN | IND | West Bengal                      | admin   | 17560000 | 1356060520 |\n| Moscow           | Moscow           |  55.7558 |   37.6178 | Russia           | RU | RUS | Moskva                           | primary | 17125000 | 1643318494 |\n| Bangkok          | Bangkok          |  13.7500 |  100.5167 | Thailand         | TH | THA | Krung Thep Maha Nakhon           | primary | 17066000 | 1764068610 |\n| Buenos Aires     | Buenos Aires     | -34.5997 |  -58.3819 | Argentina        | AR | ARG | Buenos Aires, Ciudad Autónoma de | primary | 16157000 | 1032717330 |\n| Shenzhen         | Shenzhen         |  22.5350 |  114.0540 | China            | CN | CHN | Guangdong                        | minor   | 15929000 | 1156158707 |\n| Dhaka            | Dhaka            |  23.7161 |   90.3961 | Bangladesh       | BD | BGD | Dhaka                            | primary | 15443000 | 1050529279 |\n| Lagos            | Lagos            |   6.4500 |    3.4000 | Nigeria          | NG | NGA | Lagos                            | minor   | 15279000 | 1566593751 |\n| Istanbul         | Istanbul         |  41.0100 |   28.9603 | Turkey           | TR | TUR | İstanbul                         | admin   | 15154000 | 1792756324 |\n| Ōsaka            | Osaka            |  34.6936 |  135.5019 | Japan            | JP | JPN | Ōsaka                            | admin   | 14977000 | 1392419823 |\n| Karachi          | Karachi          |  24.8600 |   67.0100 | Pakistan         | PK | PAK | Sindh                            | admin   | 14835000 | 1586129469 |\n| Bangalore        | Bangalore        |  12.9699 |   77.5980 | India            | IN | IND | Karnātaka                        | admin   | 13707000 | 1356410365 |\n| Tehran           | Tehran           |  35.7000 |   51.4167 | Iran             | IR | IRN | Tehrān                           | primary | 13633000 | 1364305026 |\n| Kinshasa         | Kinshasa         |  -4.3317 |   15.3139 | Congo (Kinshasa) | CD | COD | Kinshasa                         | primary | 13528000 | 1180000363 |\n| Ho Chi Minh City | Ho Chi Minh City |  10.8167 |  106.6333 | Vietnam          | VN | VNM | Hồ Chí Minh                      | admin   | 13312000 | 1704774326 |\n| Los Angeles      | Los Angeles      |  34.1139 | -118.4068 | United States    | US | USA | California                       | NA      | 12750807 | 1840020491 |\n| Rio de Janeiro   | Rio de Janeiro   | -22.9083 |  -43.1964 | Brazil           | BR | BRA | Rio de Janeiro                   | admin   | 12272000 | 1076887657 |\n| Nanyang          | Nanyang          |  32.9987 |  112.5292 | China            | CN | CHN | Henan                            | NA      | 12010000 | 1156192287 |\n| ⋮ | ⋮ | ⋮ | ⋮ | ⋮ | ⋮ | ⋮ | ⋮ | ⋮ | ⋮ | ⋮ |\n| Omchak                | Omchak                | 61.6333 |  147.9167 | Russia    | RU | RUS | Magadanskaya Oblast’                     | NA | 10 | 1643827519 |\n| Shalaurova            | Shalaurova            | 73.2204 |  143.1833 | Russia    | RU | RUS | Sakha (Yakutiya)                         | NA | 10 | 1643617349 |\n| Khorgo                | Khorgo                | 73.4833 |  113.6300 | Russia    | RU | RUS | Sakha (Yakutiya)                         | NA | 10 | 1643550363 |\n| Komsa                 | Komsa                 | 61.8680 |   89.2577 | Russia    | RU | RUS | Krasnoyarskiy Kray                       | NA | 10 | 1643255641 |\n| Pakhachi              | Pakhachi              | 60.5816 |  169.0500 | Russia    | RU | RUS | Kamchatskiy Kray                         | NA | 10 | 1643406349 |\n| Indiga                | Indiga                | 67.6898 |   49.0166 | Russia    | RU | RUS | Nenetskiy Avtonomnyy Okrug               | NA | 10 | 1643522900 |\n| Sagastyr              | Sagastyr              | 73.3779 |  126.5924 | Russia    | RU | RUS | Sakha (Yakutiya)                         | NA | 10 | 1643535665 |\n| Chagda                | Chagda                | 60.1000 |  133.9000 | Russia    | RU | RUS | Sakha (Yakutiya)                         | NA | 10 | 1643773533 |\n| Il’pyrskiy            | Il'pyrskiy            | 59.9674 |  164.1720 | Russia    | RU | RUS | Kamchatskiy Kray                         | NA | 10 | 1643660854 |\n| Tunguskhaya           | Tunguskhaya           | 64.9004 |  125.2500 | Russia    | RU | RUS | Sakha (Yakutiya)                         | NA | 10 | 1643610062 |\n| Podkamennaya Tunguska | Podkamennaya Tunguska | 61.5995 |   90.1236 | Russia    | RU | RUS | Krasnoyarskiy Kray                       | NA | 10 | 1643764711 |\n| Siglan                | Siglan                | 59.0337 |  152.4166 | Russia    | RU | RUS | Magadanskaya Oblast’                     | NA | 10 | 1643408923 |\n| Utkholok              | Utkholok              | 57.5504 |  157.2333 | Russia    | RU | RUS | Kamchatskiy Kray                         | NA | 10 | 1643251905 |\n| Varnek                | Varnek                | 69.7301 |   60.0636 | Russia    | RU | RUS | Nenetskiy Avtonomnyy Okrug               | NA | 10 | 1643378778 |\n| Trofimovsk            | Trofimovsk            | 72.5997 |  127.0337 | Russia    | RU | RUS | Sakha (Yakutiya)                         | NA | 10 | 1643214114 |\n| Matochkin Shar        | Matochkin Shar        | 73.2700 |   56.4497 | Russia    | RU | RUS | Arkhangel’skaya Oblast’                  | NA | 10 | 1643843865 |\n| Menkerya              | Menkerya              | 67.9886 |  123.3505 | Russia    | RU | RUS | Sakha (Yakutiya)                         | NA | 10 | 1643637503 |\n| Khakhar               | Khakhar               | 57.6666 |  135.4300 | Russia    | RU | RUS | Khabarovskiy Kray                        | NA | 10 | 1643315253 |\n| Zvëzdnyy              | Zvezdnyy              | 70.9566 | -179.5900 | Russia    | RU | RUS | Chukotskiy Avtonomnyy Okrug              | NA | 10 | 1643877771 |\n| Zemlya Bunge          | Zemlya Bunge          | 74.8983 |  142.1050 | Russia    | RU | RUS | Sakha (Yakutiya)                         | NA | 10 | 1643720805 |\n| Starorybnoye          | Starorybnoye          | 72.7666 |  104.8000 | Russia    | RU | RUS | Krasnoyarskiy Kray                       | NA | 10 | 1643724242 |\n| Agapa                 | Agapa                 | 71.4504 |   89.2500 | Russia    | RU | RUS | Krasnoyarskiy Kray                       | NA | 10 | 1643009087 |\n| Tukchi                | Tukchi                | 57.3670 |  139.5000 | Russia    | RU | RUS | Khabarovskiy Kray                        | NA | 10 | 1643472801 |\n| Numto                 | Numto                 | 63.6667 |   71.3333 | Russia    | RU | RUS | Khanty-Mansiyskiy Avtonomnyy Okrug-Yugra | NA | 10 | 1643985006 |\n| Olenëk                | Olenek                | 68.5250 |  112.4500 | Russia    | RU | RUS | Sakha (Yakutiya)                         | NA | 10 | 1643535703 |\n| Nord                  | Nord                  | 81.7166 |  -17.8000 | Greenland | GL | GRL | Sermersooq                               | NA | 10 | 1304217709 |\n| Timmiarmiut           | Timmiarmiut           | 62.5333 |  -42.2167 | Greenland | GL | GRL | Kujalleq                                 | NA | 10 | 1304206491 |\n| Cheremoshna           | Cheremoshna           | 51.3894 |   30.0989 | Ukraine   | UA | UKR | Kyyivs’ka Oblast’                        | NA |  0 | 1804043438 |\n| Ambarchik             | Ambarchik             | 69.6510 |  162.3336 | Russia    | RU | RUS | Sakha (Yakutiya)                         | NA |  0 | 1643739159 |\n| Nordvik               | Nordvik               | 74.0165 |  111.5100 | Russia    | RU | RUS | Krasnoyarskiy Kray                       | NA |  0 | 1643587468 |\n\n\n\n\n",
            "text/latex": "\\begin{enumerate}\n\\item A spec\\_tbl\\_df: 480 × 10\n\\begin{tabular}{llllllllll}\n COUNTRY & CITY & NAME & SYSTEM & OPERATOR & LAUNCHED & DISCONTINUED & STATIONS & BICYCLES & DAILY\\_RIDERSHIP\\\\\n <chr> & <chr> & <chr> & <chr> & <chr> & <chr> & <chr> & <chr> & <chr> & <chr>\\\\\n\\hline\n\t Albania    & Tirana                & Ecovolis             & NA               & NA                             & March 2011                              & NA                   & 8        & 200      & NA      \\\\\n\t Argentina  & Mendoza               & Metrobici            & NA               & NA                             & 2014                                    & NA                   & 2        & 40       & NA      \\\\\n\t Argentina  & San Lorenzo, Santa Fe & Biciudad             & Biciudad         & NA                             & 27 November 2016                        & NA                   & 8        & 80       & NA      \\\\\n\t Argentina  & Buenos Aires          & Ecobici              & Serttel Brasil   & Bike In Baires Consortium.{[}10{]} & 2010                                    & NA                   & 400      & 4000     & 21917   \\\\\n\t Argentina  & Rosario               & Mi Bici Tu Bici{[}11{]}  & NA               & NA                             & 2 December 2015                         & NA                   & 47       & 480      & NA      \\\\\n\t Australia  & Melbourne{[}12{]}         & Melbourne Bike Share & PBSC \\& 8D        & Motivate                       & June 2010                               & 30 November 2019{[}13{]} & 53       & 676      & NA      \\\\\n\t Australia  & Brisbane{[}14{]}{[}15{]}      & CityCycle            & 3 Gen. Cyclocity & JCDecaux                       & September 2010                          & NA                   & 150      & 2000     & NA      \\\\\n\t Australia  & Melbourne             & oBike                & 4 Gen. oBike     & NA                             & July 2017                               & July 2018            & dockless & 1250     & NA      \\\\\n\t Australia  & Sydney                & oBike                & 4 Gen. oBike     & NA                             & July 2017                               & July 2018            & dockless & 1250     & NA      \\\\\n\t Australia  & Sydney                & Ofo                  & 4 Gen. Ofo       & NA                             & October 2017                            & NA                   & dockless & 600      & NA      \\\\\n\t Australia  & Sydney                & Reddy Go             & Reddy Go         & NA                             & July 2017                               & NA                   & NA       & 2000     & NA      \\\\\n\t Austria    & Vienna                & Citybike Wien {[}16{]}   & 3 Gen. Cyclocity & JCDecaux Gewista               & June 2003                               & NA                   & 121      & 1500     & 2800{[}17{]}\\\\\n\t Austria    & Burgenland            & LEIHRADL nextbike    & 3 Gen. nextbike  & NA                             & 2009                                    & NA                   & 40       & NA       & NA      \\\\\n\t Austria    & Lower Austria{[}18{]}     & LEIHRADL nextbike    & 3 Gen. nextbike  & NA                             & 2009                                    & NA                   & 295      & 1300     & NA      \\\\\n\t Austria    & Salzburg              & nextbike             & 3 Gen. nextbike  & NA                             & 2011                                    & NA                   & NA       & NA       & NA      \\\\\n\t Austria    & Vienna                & Viennabike           & 2 Gen.           & Association and city council   & April 2002                              & November 2002        & 200      & 1500     & NA      \\\\\n\t Austria    & Vorarlberg            & NA                   & 3 Gen. nextbike  & NA                             & 2009                                    & NA                   & 14       & 70       & NA      \\\\\n\t Bangladesh & Dhaka                 & JoBike               & JoBike           & NA                             & 2018                                    & NA                   & 05       & 300      & NA      \\\\\n\t Belgium    & Namur{[}19{]}             & Libiavelo            & 3 Gen. Cyclocity & JCDecaux                       & 21 April 2012                           & NA                   & 24       & 200      & NA      \\\\\n\t Belgium    & Antwerp               & Velo                 & 3 Gen. Clear CC  & NA                             & 9 June 2011                             & NA                   & 302      & 3600     & 7010{[}20{]}\\\\\n\t Belgium    & Brussels{[}21{]}          & Villo!               & 3 Gen. Cyclocity & JCDecaux                       & 19 May 2009 (earlier system since 2006) & NA                   & 346      & 4115{[}22{]} & NA      \\\\\n\t Brazil     & Salvador{[}23{]}          & Bike Salvador        & tembici          & NA                             & 2013                                    & NA                   & 23       & NA       & NA      \\\\\n\t Brazil     & Belo Horizonte{[}24{]}    & Bikebh               & Mobilicidade     & NA                             & 2014                                    & NA                   & 40       & 400      & NA      \\\\\n\t Brazil     & Fortaleza             & Bicicletar           & Mobilicidade     & NA                             & 15 December 2014                        & NA                   & 80       & 800      & NA      \\\\\n\t Brazil     & João Pessoa{[}25{]}       & SAMBA                & Mobilicidade     & NA                             & NA                                      & NA                   & 3        & 20       & NA      \\\\\n\t Brazil     & (Pedro de) Toledo{[}26{]} & Toopedalando         & Toopedalando     & NA                             & 2011                                    & NA                   & 6        & 60       & NA      \\\\\n\t Brazil     & Rio de Janeiro{[}27{]}    & Bike Rio             & tembici          & NA                             & 2011                                    & NA                   & 60       & 300      & NA      \\\\\n\t Brazil     & São Paulo{[}28{]}         & Bikesampa            & tembici          & NA                             & 2012                                    & NA                   & 241      & 600      & NA      \\\\\n\t Brazil     & Sorocaba{[}29{]}          & Integrabike          & tembici          & NA                             & 2012                                    & NA                   & 15       & 120      & NA      \\\\\n\t Bulgaria   & Burgas                & VeloBurgas           & Mobilicidade     & NA                             & 2012                                    & NA                   & 10       & 120      & NA      \\\\\n\t ⋮ & ⋮ & ⋮ & ⋮ & ⋮ & ⋮ & ⋮ & ⋮ & ⋮ & ⋮\\\\\n\t United States & Fullerton, California                                      & OCTA BikeShare              & Bike Nation                         & NA                          & 6 January 2014   & NA            & 10      & 75   & NA         \\\\\n\t United States & Hoboken, New Jersey{[}288{]}                                   & Hudson Bike Share           & 3 Gen. nextbike                     & NA                          & September 2015   & NA            & 29      & 250  & NA         \\\\\n\t United States & Houston, Texas{[}289{]}{[}290{]}                                   & Houston B-cycle             & 3 Gen. B-Cycle                      & NA                          & 2012             & NA            & 51{[}291{]} & 400  & NA         \\\\\n\t United States & Jersey City{[}292{]}                                           & Citi Bike                   & 8D                                  & Motivate                    & September 2015   & NA            & 50      & 500  & NA         \\\\\n\t United States & Kailua, Hawaii{[}293{]}{[}294{]}                                   & Hawaii B-cycle              & 3 Gen. B-Cycle                      & NA                          & 2011             & NA            & 2       & 12   & NA         \\\\\n\t United States & Kansas City, Missouri{[}295{]}                                 & Kansas City B-cycle         & 3 Gen. B-Cycle                      & NA                          & 2012             & NA            & 30      & 300  & NA         \\\\\n\t United States & Kona District, Hawaii                                      & NA                          & PBSC                                & NA                          & 2016             & NA            & 3       & 30   & NA         \\\\\n\t United States & Lansing, MI                                                & Capital Community Bikeshare & A2B Bikeshare                       & NA                          & 2014             & NA            & 8       & 20   & Closed{[}296{]}\\\\\n\t United States & Lincoln, Nebraska{[}297{]}                                     & BikeLNK                     & 3 Gen. B-Cycle                      & NA                          & 2018             & NA            & 19      & 100  & NA         \\\\\n\t United States & Los Angeles                                                & Metro Bike Share            & 3 Gen. B-Cycle                      & NA                          & 7 July 2016      & NA            & 65      & 1000 & NA         \\\\\n\t United States & Madison, Wisconsin{[}298{]}                                    & Madison B-Cycle             & 3 Gen. B-Cycle                      & NA                          & 2011             & NA            & 39      & 350  & NA         \\\\\n\t United States & Milwaukee, Wisconsin{[}299{]}{[}300{]}                             & Bublr Bikes                 & 3 Gen. B-Cycle                      & NA                          & 2014             & NA            & 87      & 400+ & NA         \\\\\n\t United States & Minneapolis, Minnesota and Saint Paul, Minnesota{[}301{]}{[}302{]} & Nice Ride                   & PBSC \\& 8D                           & NA                          & 2010             & NA            & 171     & 1833 & NA         \\\\\n\t United States & Oklahoma City, Oklahoma{[}303{]}                               & Spokies                     & Spokies                             & NA                          & 2012             & NA            & 7       & 100  & NA         \\\\\n\t United States & Omaha, Nebraska{[}304{]}                                       & Omaha B-Cycle               & 3 Gen. B-Cycle                      & NA                          & 2011             & NA            & 5       & 35   & NA         \\\\\n\t United States & Philadelphia, Pennsylvania{[}305{]}{[}306{]}                       & Indego                      & 3 Gen. B-Cycle                      & NA                          & 23 April 2015    & NA            & 105     & 1000 & NA         \\\\\n\t United States & Phoenix, Arizona                                           & Grid Bike Share             & 3 Gen. CycleHop and Social Bicycles & NA                          & 25 November 2014 & NA            & 40      & 500  & NA         \\\\\n\t United States & Pittsburgh, Pennsylvania                                   & Healthy Ride PGH            & 3 Gen. nextbike                     & NA                          & 2015             & NA            & 50      & 500  & NA         \\\\\n\t United States & Portland, Oregon                                           & Biketown                    & NA                                  & NA                          & 19 July 2016     & NA            & 100     & 1000 & NA         \\\\\n\t United States & Portland, Oregon                                           & Yellow Bike Project         & 1 Gen. WhiteBikes                   & Yellow Bike Project         & 1994{[}307{]}        & 1997{[}308{]}     & NA      & 1000 & NA         \\\\\n\t United States & Salt Lake City, Utah{[}309{]}                                  & SLC Bike Share              & 3 Gen. B-Cycle                      & NA                          & 2013             & NA            & 12      & 100  & NA         \\\\\n\t United States & San Antonio, Texas{[}310{]}                                    & San Antonio B-Cycle         & 3 Gen. B-Cycle                      & NA                          & 2011             & NA            & 68      & 600  & NA         \\\\\n\t United States & San Diego{[}311{]}                                             & DecoBike                    & DecoBike                            & JCDecaux                    & February 2015    & NA            & 180     & 1800 & NA         \\\\\n\t United States & San Francisco Bay Area                                     & NA                          & NA                                  & NA                          & 2013             & NA            & NA      & NA   & NA         \\\\\n\t United States & San Francisco Bay Area{[}312{]}                                & Baywheels                   & 8D                                  & Motivate                    & June 2017        & NA            & 550     & 7000 & NA         \\\\\n\t United States & Santa Monica, California{[}313{]}                              & Breeze Bike Share           & 3 Gen. CycleHop and Social Bicycles & NA                          & 13 August 2015   & NA            & 80      & 500  & NA         \\\\\n\t United States & Savannah, Georgia{[}314{]}                                     & CAT Bike                    & 3 Gen. B-Cycle                      & NA                          & 24 January 2014  & NA            & 2       & 16   & NA         \\\\\n\t United States & Seattle, Washington{[}315{]}                                   & Pronto Cycle Share          & 8D                                  & Motivate                    & 13 October 2014  & 31 March 2017 & 50      & 500  & NA         \\\\\n\t United States & Spartanburg, South Carolina{[}316{]}                           & Spartanburg B-Cycle         & 3 Gen. B-Cycle                      & NA                          & 2011             & NA            & 5       & 40   & NA         \\\\\n\t United States & St. Paul                                                   & Yellow Bike Project         & 1 Gen. w/ BikeCard                  & volunteers and city council & 1997             & NA            & NA      & NA   & NA         \\\\\n\\end{tabular}\n\n\\item A spec\\_tbl\\_df: 8760 × 14\n\\begin{tabular}{llllllllllllll}\n DATE & RENTED\\_BIKE\\_COUNT & HOUR & TEMPERATURE & HUMIDITY & WIND\\_SPEED & VISIBILITY & DEW\\_POINT\\_TEMPERATURE & SOLAR\\_RADIATION & RAINFALL & SNOWFALL & SEASONS & HOLIDAY & FUNCTIONING\\_DAY\\\\\n <chr> & <dbl> & <dbl> & <dbl> & <dbl> & <dbl> & <dbl> & <dbl> & <dbl> & <dbl> & <dbl> & <chr> & <chr> & <chr>\\\\\n\\hline\n\t 01/12/2017 & 254 &  0 & -5.2 & 37 & 2.2 & 2000 & -17.6 & 0.00 & 0 & 0 & Winter & No Holiday & Yes\\\\\n\t 01/12/2017 & 204 &  1 & -5.5 & 38 & 0.8 & 2000 & -17.6 & 0.00 & 0 & 0 & Winter & No Holiday & Yes\\\\\n\t 01/12/2017 & 173 &  2 & -6.0 & 39 & 1.0 & 2000 & -17.7 & 0.00 & 0 & 0 & Winter & No Holiday & Yes\\\\\n\t 01/12/2017 & 107 &  3 & -6.2 & 40 & 0.9 & 2000 & -17.6 & 0.00 & 0 & 0 & Winter & No Holiday & Yes\\\\\n\t 01/12/2017 &  78 &  4 & -6.0 & 36 & 2.3 & 2000 & -18.6 & 0.00 & 0 & 0 & Winter & No Holiday & Yes\\\\\n\t 01/12/2017 & 100 &  5 & -6.4 & 37 & 1.5 & 2000 & -18.7 & 0.00 & 0 & 0 & Winter & No Holiday & Yes\\\\\n\t 01/12/2017 & 181 &  6 & -6.6 & 35 & 1.3 & 2000 & -19.5 & 0.00 & 0 & 0 & Winter & No Holiday & Yes\\\\\n\t 01/12/2017 & 460 &  7 & -7.4 & 38 & 0.9 & 2000 & -19.3 & 0.00 & 0 & 0 & Winter & No Holiday & Yes\\\\\n\t 01/12/2017 & 930 &  8 & -7.6 & 37 & 1.1 & 2000 & -19.8 & 0.01 & 0 & 0 & Winter & No Holiday & Yes\\\\\n\t 01/12/2017 & 490 &  9 & -6.5 & 27 & 0.5 & 1928 & -22.4 & 0.23 & 0 & 0 & Winter & No Holiday & Yes\\\\\n\t 01/12/2017 & 339 & 10 & -3.5 & 24 & 1.2 & 1996 & -21.2 & 0.65 & 0 & 0 & Winter & No Holiday & Yes\\\\\n\t 01/12/2017 & 360 & 11 & -0.5 & 21 & 1.3 & 1936 & -20.2 & 0.94 & 0 & 0 & Winter & No Holiday & Yes\\\\\n\t 01/12/2017 & 449 & 12 &  1.7 & 23 & 1.4 & 2000 & -17.2 & 1.11 & 0 & 0 & Winter & No Holiday & Yes\\\\\n\t 01/12/2017 & 451 & 13 &  2.4 & 25 & 1.6 & 2000 & -15.6 & 1.16 & 0 & 0 & Winter & No Holiday & Yes\\\\\n\t 01/12/2017 & 447 & 14 &  3.0 & 26 & 2.0 & 2000 & -14.6 & 1.01 & 0 & 0 & Winter & No Holiday & Yes\\\\\n\t 01/12/2017 & 463 & 15 &  2.1 & 36 & 3.2 & 2000 & -11.4 & 0.54 & 0 & 0 & Winter & No Holiday & Yes\\\\\n\t 01/12/2017 & 484 & 16 &  1.2 & 54 & 4.2 &  793 &  -7.0 & 0.24 & 0 & 0 & Winter & No Holiday & Yes\\\\\n\t 01/12/2017 & 555 & 17 &  0.8 & 58 & 1.6 & 2000 &  -6.5 & 0.08 & 0 & 0 & Winter & No Holiday & Yes\\\\\n\t 01/12/2017 & 862 & 18 &  0.6 & 66 & 1.4 & 2000 &  -5.0 & 0.00 & 0 & 0 & Winter & No Holiday & Yes\\\\\n\t 01/12/2017 & 600 & 19 &  0.0 & 77 & 1.7 & 2000 &  -3.5 & 0.00 & 0 & 0 & Winter & No Holiday & Yes\\\\\n\t 01/12/2017 & 426 & 20 & -0.3 & 79 & 1.5 & 1913 &  -3.5 & 0.00 & 0 & 0 & Winter & No Holiday & Yes\\\\\n\t 01/12/2017 & 405 & 21 & -0.8 & 81 & 0.8 & 1687 &  -3.6 & 0.00 & 0 & 0 & Winter & No Holiday & Yes\\\\\n\t 01/12/2017 & 398 & 22 & -0.9 & 83 & 1.5 & 1380 &  -3.4 & 0.00 & 0 & 0 & Winter & No Holiday & Yes\\\\\n\t 01/12/2017 & 323 & 23 & -1.3 & 84 & 1.0 & 1265 &  -3.6 & 0.00 & 0 & 0 & Winter & No Holiday & Yes\\\\\n\t 02/12/2017 & 328 &  0 & -1.8 & 87 & 1.1 &  994 &  -3.6 & 0.00 & 0 & 0 & Winter & No Holiday & Yes\\\\\n\t 02/12/2017 & 308 &  1 & -2.2 & 86 & 0.6 &  990 &  -4.2 & 0.00 & 0 & 0 & Winter & No Holiday & Yes\\\\\n\t 02/12/2017 & 262 &  2 & -2.9 & 86 & 1.5 & 1256 &  -4.9 & 0.00 & 0 & 0 & Winter & No Holiday & Yes\\\\\n\t 02/12/2017 & 167 &  3 & -3.5 & 81 & 2.2 & 1221 &  -6.2 & 0.00 & 0 & 0 & Winter & No Holiday & Yes\\\\\n\t 02/12/2017 &  89 &  4 & -3.8 & 79 & 2.0 & 1167 &  -6.9 & 0.00 & 0 & 0 & Winter & No Holiday & Yes\\\\\n\t 02/12/2017 &  79 &  5 & -4.0 & 79 & 1.5 & 1202 &  -7.1 & 0.00 & 0 & 0 & Winter & No Holiday & Yes\\\\\n\t ⋮ & ⋮ & ⋮ & ⋮ & ⋮ & ⋮ & ⋮ & ⋮ & ⋮ & ⋮ & ⋮ & ⋮ & ⋮ & ⋮\\\\\n\t 29/11/2018 & 1577 & 18 &  0.0 & 46 & 0.9 & 1566 &  -4.8 & 0.00 & 0 & 0 & Autumn & No Holiday & Yes\\\\\n\t 29/11/2018 & 1026 & 19 &  5.2 & 48 & 1.9 & 1590 &  -4.9 & 0.00 & 0 & 0 & Autumn & No Holiday & Yes\\\\\n\t 29/11/2018 &  818 & 20 &  4.1 & 54 & 1.3 & 1434 &  -4.3 & 0.00 & 0 & 0 & Autumn & No Holiday & Yes\\\\\n\t 29/11/2018 &  792 & 21 &  3.8 & 55 & 2.1 & 1231 &  -4.4 & 0.00 & 0 & 0 & Autumn & No Holiday & Yes\\\\\n\t 29/11/2018 &  726 & 22 &  3.0 & 59 & 1.1 & 1218 &  -4.2 & 0.00 & 0 & 0 & Autumn & No Holiday & Yes\\\\\n\t 29/11/2018 &  559 & 23 &  2.6 & 56 & 1.9 & 1394 &  -5.3 & 0.00 & 0 & 0 & Autumn & No Holiday & Yes\\\\\n\t 30/11/2018 &  474 &  0 &  1.8 & 62 & 1.6 & 1411 &  -4.7 & 0.00 & 0 & 0 & Autumn & No Holiday & Yes\\\\\n\t 30/11/2018 &  456 &  1 &  1.3 & 63 & 2.0 & 1379 &  -4.9 & 0.00 & 0 & 0 & Autumn & No Holiday & Yes\\\\\n\t 30/11/2018 &  300 &  2 &  0.6 & 66 & 0.5 & 1368 &  -5.0 & 0.00 & 0 & 0 & Autumn & No Holiday & Yes\\\\\n\t 30/11/2018 &  213 &  3 & -0.1 & 69 & 0.9 & 1338 &  -5.1 & 0.00 & 0 & 0 & Autumn & No Holiday & Yes\\\\\n\t 30/11/2018 &  116 &  4 & -0.5 & 71 & 0.4 & 1345 &  -5.1 & 0.00 & 0 & 0 & Autumn & No Holiday & Yes\\\\\n\t 30/11/2018 &  149 &  5 & -0.7 & 66 & 0.5 & 1336 &  -6.2 & 0.00 & 0 & 0 & Autumn & No Holiday & Yes\\\\\n\t 30/11/2018 &  293 &  6 & -0.8 & 68 & 0.8 & 1322 &  -5.9 & 0.00 & 0 & 0 & Autumn & No Holiday & Yes\\\\\n\t 30/11/2018 &  750 &  7 & -1.2 & 70 & 0.8 & 1351 &  -5.9 & 0.00 & 0 & 0 & Autumn & No Holiday & Yes\\\\\n\t 30/11/2018 & 1527 &  8 & -1.5 & 68 & 1.1 & 1286 &  -6.6 & 0.02 & 0 & 0 & Autumn & No Holiday & Yes\\\\\n\t 30/11/2018 &  809 &  9 & -0.4 & 57 & 0.6 & 1270 &  -7.8 & 0.45 & 0 & 0 & Autumn & No Holiday & Yes\\\\\n\t 30/11/2018 &  554 & 10 &  1.9 & 51 & 0.8 & 1029 &  -7.1 & 1.01 & 0 & 0 & Autumn & No Holiday & Yes\\\\\n\t 30/11/2018 &  642 & 11 &  5.3 & 43 & 1.8 & 1177 &  -6.2 & 1.38 & 0 & 0 & Autumn & No Holiday & Yes\\\\\n\t 30/11/2018 &  720 & 12 &  6.6 & 35 & 1.3 & 1409 &  -7.8 & 1.70 & 0 & 0 & Autumn & No Holiday & Yes\\\\\n\t 30/11/2018 &  740 & 13 &  7.1 & 24 & 2.8 & 1838 & -12.1 & 1.83 & 0 & 0 & Autumn & No Holiday & Yes\\\\\n\t 30/11/2018 &  761 & 14 &  7.8 & 20 & 2.2 & 2000 & -13.8 & 1.67 & 0 & 0 & Autumn & No Holiday & Yes\\\\\n\t 30/11/2018 &  768 & 15 &  7.0 & 20 & 3.3 & 1994 & -14.4 & 1.21 & 0 & 0 & Autumn & No Holiday & Yes\\\\\n\t 30/11/2018 &  837 & 16 &  7.2 & 23 & 1.5 & 1945 & -12.6 & 0.72 & 0 & 0 & Autumn & No Holiday & Yes\\\\\n\t 30/11/2018 & 1047 & 17 &  6.0 & 29 & 2.1 & 1877 & -10.7 & 0.23 & 0 & 0 & Autumn & No Holiday & Yes\\\\\n\t 30/11/2018 & 1384 & 18 &  4.7 & 34 & 1.9 & 1661 &  -9.8 & 0.00 & 0 & 0 & Autumn & No Holiday & Yes\\\\\n\t 30/11/2018 & 1003 & 19 &  4.2 & 34 & 2.6 & 1894 & -10.3 & 0.00 & 0 & 0 & Autumn & No Holiday & Yes\\\\\n\t 30/11/2018 &  764 & 20 &  3.4 & 37 & 2.3 & 2000 &  -9.9 & 0.00 & 0 & 0 & Autumn & No Holiday & Yes\\\\\n\t 30/11/2018 &  694 & 21 &  2.6 & 39 & 0.3 & 1968 &  -9.9 & 0.00 & 0 & 0 & Autumn & No Holiday & Yes\\\\\n\t 30/11/2018 &  712 & 22 &  2.1 & 41 & 1.0 & 1859 &  -9.8 & 0.00 & 0 & 0 & Autumn & No Holiday & Yes\\\\\n\t 30/11/2018 &  584 & 23 &  1.9 & 43 & 1.3 & 1909 &  -9.3 & 0.00 & 0 & 0 & Autumn & No Holiday & Yes\\\\\n\\end{tabular}\n\n\\item A spec\\_tbl\\_df: 160 × 12\n\\begin{tabular}{llllllllllll}\n CITY & WEATHER & VISIBILITY & TEMP & TEMP\\_MIN & TEMP\\_MAX & PRESSURE & HUMIDITY & WIND\\_SPEED & WIND\\_DEG & SEASON & FORECAST\\_DATETIME\\\\\n <chr> & <chr> & <dbl> & <dbl> & <dbl> & <dbl> & <dbl> & <dbl> & <dbl> & <dbl> & <chr> & <dttm>\\\\\n\\hline\n\t Seoul & Clear  & 10000 & 12.32 & 10.91 & 12.32 & 1015 & 50 & 2.18 & 248 & Spring & 2021-04-16 12:00:00\\\\\n\t Seoul & Clear  & 10000 & 11.48 &  9.81 & 11.48 & 1016 & 48 & 1.25 & 142 & Spring & 2021-04-16 15:00:00\\\\\n\t Seoul & Clouds & 10000 &  9.99 &  8.82 &  9.99 & 1015 & 46 & 0.94 & 130 & Spring & 2021-04-16 18:00:00\\\\\n\t Seoul & Clouds & 10000 &  7.87 &  7.87 &  7.87 & 1014 & 46 & 0.83 &  31 & Spring & 2021-04-16 21:00:00\\\\\n\t Seoul & Clouds & 10000 & 10.09 & 10.09 & 10.09 & 1014 & 37 & 1.96 & 309 & Spring & 2021-04-17 00:00:00\\\\\n\t Seoul & Rain   & 10000 &  9.74 &  9.74 &  9.74 & 1014 & 48 & 3.24 & 267 & Spring & 2021-04-17 03:00:00\\\\\n\t Seoul & Clouds & 10000 & 11.39 & 11.39 & 11.39 & 1012 & 44 & 5.65 & 275 & Spring & 2021-04-17 06:00:00\\\\\n\t Seoul & Rain   & 10000 &  9.75 &  9.75 &  9.75 & 1012 & 57 & 5.63 & 267 & Spring & 2021-04-17 09:00:00\\\\\n\t Seoul & Rain   & 10000 &  9.11 &  9.11 &  9.11 & 1013 & 51 & 4.91 & 280 & Spring & 2021-04-17 12:00:00\\\\\n\t Seoul & Clear  & 10000 &  8.33 &  8.33 &  8.33 & 1013 & 62 & 4.49 & 284 & Spring & 2021-04-17 15:00:00\\\\\n\t Seoul & Clear  & 10000 &  7.57 &  7.57 &  7.57 & 1013 & 69 & 4.72 & 290 & Spring & 2021-04-17 18:00:00\\\\\n\t Seoul & Clear  & 10000 &  7.13 &  7.13 &  7.13 & 1014 & 65 & 5.06 & 301 & Spring & 2021-04-17 21:00:00\\\\\n\t Seoul & Clear  & 10000 & 10.49 & 10.49 & 10.49 & 1015 & 45 & 6.89 & 318 & Spring & 2021-04-18 00:00:00\\\\\n\t Seoul & Clear  & 10000 & 15.05 & 15.05 & 15.05 & 1014 & 30 & 5.92 & 309 & Spring & 2021-04-18 03:00:00\\\\\n\t Seoul & Clear  & 10000 & 17.37 & 17.37 & 17.37 & 1012 & 24 & 5.84 & 295 & Spring & 2021-04-18 06:00:00\\\\\n\t Seoul & Clear  & 10000 & 16.14 & 16.14 & 16.14 & 1013 & 30 & 5.61 & 291 & Spring & 2021-04-18 09:00:00\\\\\n\t Seoul & Clear  & 10000 & 13.27 & 13.27 & 13.27 & 1015 & 42 & 3.78 & 286 & Spring & 2021-04-18 12:00:00\\\\\n\t Seoul & Clear  & 10000 & 11.56 & 11.56 & 11.56 & 1016 & 46 & 1.76 & 253 & Spring & 2021-04-18 15:00:00\\\\\n\t Seoul & Clear  & 10000 & 10.01 & 10.01 & 10.01 & 1016 & 52 & 1.90 & 210 & Spring & 2021-04-18 18:00:00\\\\\n\t Seoul & Clear  & 10000 &  8.74 &  8.74 &  8.74 & 1016 & 62 & 1.78 & 195 & Spring & 2021-04-18 21:00:00\\\\\n\t Seoul & Clear  & 10000 & 12.37 & 12.37 & 12.37 & 1017 & 40 & 2.20 & 215 & Spring & 2021-04-19 00:00:00\\\\\n\t Seoul & Clear  & 10000 & 17.40 & 17.40 & 17.40 & 1016 & 23 & 3.91 & 248 & Spring & 2021-04-19 03:00:00\\\\\n\t Seoul & Clouds & 10000 & 18.72 & 18.72 & 18.72 & 1014 & 20 & 4.71 & 255 & Spring & 2021-04-19 06:00:00\\\\\n\t Seoul & Clouds & 10000 & 16.95 & 16.95 & 16.95 & 1014 & 28 & 3.75 & 250 & Spring & 2021-04-19 09:00:00\\\\\n\t Seoul & Clouds & 10000 & 13.74 & 13.74 & 13.74 & 1016 & 48 & 2.15 & 235 & Spring & 2021-04-19 12:00:00\\\\\n\t Seoul & Clear  & 10000 & 12.35 & 12.35 & 12.35 & 1018 & 59 & 1.62 & 206 & Spring & 2021-04-19 15:00:00\\\\\n\t Seoul & Clear  & 10000 & 11.26 & 11.26 & 11.26 & 1018 & 63 & 1.43 & 196 & Spring & 2021-04-19 18:00:00\\\\\n\t Seoul & Clear  & 10000 & 10.40 & 10.40 & 10.40 & 1019 & 64 & 1.27 & 168 & Spring & 2021-04-19 21:00:00\\\\\n\t Seoul & Clear  & 10000 & 14.50 & 14.50 & 14.50 & 1020 & 44 & 1.52 & 187 & Spring & 2021-04-20 00:00:00\\\\\n\t Seoul & Clouds & 10000 & 19.78 & 19.78 & 19.78 & 1020 & 28 & 1.90 & 248 & Spring & 2021-04-20 03:00:00\\\\\n\t ⋮ & ⋮ & ⋮ & ⋮ & ⋮ & ⋮ & ⋮ & ⋮ & ⋮ & ⋮ & ⋮ & ⋮\\\\\n\t Suzhou & Clouds & 10000 & 10.49 & 10.49 & 10.49 & 1024 & 52 & 1.42 & 193 & Spring & 2021-04-17 18:00:00\\\\\n\t Suzhou & Clouds & 10000 &  9.61 &  9.61 &  9.61 & 1023 & 61 & 1.44 & 202 & Spring & 2021-04-17 21:00:00\\\\\n\t Suzhou & Clouds & 10000 & 13.69 & 13.69 & 13.69 & 1024 & 55 & 1.38 & 222 & Spring & 2021-04-18 00:00:00\\\\\n\t Suzhou & Clouds & 10000 & 18.19 & 18.19 & 18.19 & 1023 & 30 & 0.95 & 167 & Spring & 2021-04-18 03:00:00\\\\\n\t Suzhou & Clouds & 10000 & 19.42 & 19.42 & 19.42 & 1020 & 27 & 0.34 & 215 & Spring & 2021-04-18 06:00:00\\\\\n\t Suzhou & Clouds & 10000 & 17.81 & 17.81 & 17.81 & 1019 & 37 & 0.43 & 249 & Spring & 2021-04-18 09:00:00\\\\\n\t Suzhou & Clouds & 10000 & 14.54 & 14.54 & 14.54 & 1021 & 48 & 2.60 & 148 & Spring & 2021-04-18 12:00:00\\\\\n\t Suzhou & Clouds & 10000 & 13.12 & 13.12 & 13.12 & 1020 & 46 & 2.82 & 148 & Spring & 2021-04-18 15:00:00\\\\\n\t Suzhou & Clouds & 10000 & 11.56 & 11.56 & 11.56 & 1019 & 50 & 2.84 & 150 & Spring & 2021-04-18 18:00:00\\\\\n\t Suzhou & Clouds & 10000 & 10.34 & 10.34 & 10.34 & 1019 & 59 & 2.10 & 126 & Spring & 2021-04-18 21:00:00\\\\\n\t Suzhou & Clouds & 10000 & 15.17 & 15.17 & 15.17 & 1019 & 41 & 2.61 & 133 & Spring & 2021-04-19 00:00:00\\\\\n\t Suzhou & Clear  & 10000 & 19.98 & 19.98 & 19.98 & 1019 & 28 & 2.36 & 140 & Spring & 2021-04-19 03:00:00\\\\\n\t Suzhou & Clear  & 10000 & 21.85 & 21.85 & 21.85 & 1017 & 27 & 1.80 & 144 & Spring & 2021-04-19 06:00:00\\\\\n\t Suzhou & Clear  & 10000 & 19.97 & 19.97 & 19.97 & 1016 & 37 & 3.73 & 133 & Spring & 2021-04-19 09:00:00\\\\\n\t Suzhou & Clear  & 10000 & 13.22 & 13.22 & 13.22 & 1018 & 56 & 3.71 & 134 & Spring & 2021-04-19 12:00:00\\\\\n\t Suzhou & Clear  & 10000 & 11.66 & 11.66 & 11.66 & 1018 & 65 & 3.39 & 120 & Spring & 2021-04-19 15:00:00\\\\\n\t Suzhou & Clear  & 10000 & 10.67 & 10.67 & 10.67 & 1018 & 69 & 3.13 & 108 & Spring & 2021-04-19 18:00:00\\\\\n\t Suzhou & Clear  & 10000 &  9.90 &  9.90 &  9.90 & 1018 & 73 & 3.20 & 118 & Spring & 2021-04-19 21:00:00\\\\\n\t Suzhou & Clouds & 10000 & 15.28 & 15.28 & 15.28 & 1019 & 51 & 4.97 & 122 & Spring & 2021-04-20 00:00:00\\\\\n\t Suzhou & Clouds & 10000 & 20.53 & 20.53 & 20.53 & 1019 & 30 & 5.86 & 126 & Spring & 2021-04-20 03:00:00\\\\\n\t Suzhou & Clouds & 10000 & 21.66 & 21.66 & 21.66 & 1018 & 26 & 6.58 & 128 & Spring & 2021-04-20 06:00:00\\\\\n\t Suzhou & Clear  & 10000 & 18.17 & 18.17 & 18.17 & 1018 & 33 & 6.11 & 123 & Spring & 2021-04-20 09:00:00\\\\\n\t Suzhou & Clear  & 10000 & 13.30 & 13.30 & 13.30 & 1020 & 48 & 5.67 & 118 & Spring & 2021-04-20 12:00:00\\\\\n\t Suzhou & Clouds & 10000 & 12.17 & 12.17 & 12.17 & 1020 & 62 & 5.42 & 118 & Spring & 2021-04-20 15:00:00\\\\\n\t Suzhou & Clouds & 10000 & 11.55 & 11.55 & 11.55 & 1019 & 68 & 5.47 & 117 & Spring & 2021-04-20 18:00:00\\\\\n\t Suzhou & Clouds & 10000 & 11.53 & 11.53 & 11.53 & 1018 & 76 & 5.75 & 121 & Spring & 2021-04-20 21:00:00\\\\\n\t Suzhou & Clouds & 10000 & 16.21 & 16.21 & 16.21 & 1019 & 63 & 7.15 & 127 & Spring & 2021-04-21 00:00:00\\\\\n\t Suzhou & Clear  & 10000 & 21.09 & 21.09 & 21.09 & 1019 & 42 & 8.12 & 133 & Spring & 2021-04-21 03:00:00\\\\\n\t Suzhou & Clouds & 10000 & 22.23 & 22.23 & 22.23 & 1016 & 43 & 8.18 & 134 & Spring & 2021-04-21 06:00:00\\\\\n\t Suzhou & Clouds & 10000 & 19.83 & 19.83 & 19.83 & 1015 & 58 & 7.25 & 127 & Spring & 2021-04-21 09:00:00\\\\\n\\end{tabular}\n\n\\item A spec\\_tbl\\_df: 26569 × 11\n\\begin{tabular}{lllllllllll}\n CITY & CITY\\_ASCII & LAT & LNG & COUNTRY & ISO2 & ISO3 & ADMIN\\_NAME & CAPITAL & POPULATION & ID\\\\\n <chr> & <chr> & <dbl> & <dbl> & <chr> & <chr> & <chr> & <chr> & <chr> & <dbl> & <dbl>\\\\\n\\hline\n\t Tokyo            & Tokyo            &  35.6897 &  139.6922 & Japan            & JP & JPN & Tōkyō                            & primary & 37977000 & 1392685764\\\\\n\t Jakarta          & Jakarta          &  -6.2146 &  106.8451 & Indonesia        & ID & IDN & Jakarta                          & primary & 34540000 & 1360771077\\\\\n\t Delhi            & Delhi            &  28.6600 &   77.2300 & India            & IN & IND & Delhi                            & admin   & 29617000 & 1356872604\\\\\n\t Mumbai           & Mumbai           &  18.9667 &   72.8333 & India            & IN & IND & Mahārāshtra                      & admin   & 23355000 & 1356226629\\\\\n\t Manila           & Manila           &  14.5958 &  120.9772 & Philippines      & PH & PHL & Manila                           & primary & 23088000 & 1608618140\\\\\n\t Shanghai         & Shanghai         &  31.1667 &  121.4667 & China            & CN & CHN & Shanghai                         & admin   & 22120000 & 1156073548\\\\\n\t São Paulo        & Sao Paulo        & -23.5504 &  -46.6339 & Brazil           & BR & BRA & São Paulo                        & admin   & 22046000 & 1076532519\\\\\n\t Seoul            & Seoul            &  37.5833 &  127.0000 & Korea, South     & KR & KOR & Seoul                            & primary & 21794000 & 1410836482\\\\\n\t Mexico City      & Mexico City      &  19.4333 &  -99.1333 & Mexico           & MX & MEX & Ciudad de México                 & primary & 20996000 & 1484247881\\\\\n\t Guangzhou        & Guangzhou        &  23.1288 &  113.2590 & China            & CN & CHN & Guangdong                        & admin   & 20902000 & 1156237133\\\\\n\t Beijing          & Beijing          &  39.9050 &  116.3914 & China            & CN & CHN & Beijing                          & primary & 19433000 & 1156228865\\\\\n\t Cairo            & Cairo            &  30.0561 &   31.2394 & Egypt            & EG & EGY & Al Qāhirah                       & primary & 19372000 & 1818253931\\\\\n\t New York         & New York         &  40.6943 &  -73.9249 & United States    & US & USA & New York                         & NA      & 18713220 & 1840034016\\\\\n\t Kolkāta          & Kolkata          &  22.5411 &   88.3378 & India            & IN & IND & West Bengal                      & admin   & 17560000 & 1356060520\\\\\n\t Moscow           & Moscow           &  55.7558 &   37.6178 & Russia           & RU & RUS & Moskva                           & primary & 17125000 & 1643318494\\\\\n\t Bangkok          & Bangkok          &  13.7500 &  100.5167 & Thailand         & TH & THA & Krung Thep Maha Nakhon           & primary & 17066000 & 1764068610\\\\\n\t Buenos Aires     & Buenos Aires     & -34.5997 &  -58.3819 & Argentina        & AR & ARG & Buenos Aires, Ciudad Autónoma de & primary & 16157000 & 1032717330\\\\\n\t Shenzhen         & Shenzhen         &  22.5350 &  114.0540 & China            & CN & CHN & Guangdong                        & minor   & 15929000 & 1156158707\\\\\n\t Dhaka            & Dhaka            &  23.7161 &   90.3961 & Bangladesh       & BD & BGD & Dhaka                            & primary & 15443000 & 1050529279\\\\\n\t Lagos            & Lagos            &   6.4500 &    3.4000 & Nigeria          & NG & NGA & Lagos                            & minor   & 15279000 & 1566593751\\\\\n\t Istanbul         & Istanbul         &  41.0100 &   28.9603 & Turkey           & TR & TUR & İstanbul                         & admin   & 15154000 & 1792756324\\\\\n\t Ōsaka            & Osaka            &  34.6936 &  135.5019 & Japan            & JP & JPN & Ōsaka                            & admin   & 14977000 & 1392419823\\\\\n\t Karachi          & Karachi          &  24.8600 &   67.0100 & Pakistan         & PK & PAK & Sindh                            & admin   & 14835000 & 1586129469\\\\\n\t Bangalore        & Bangalore        &  12.9699 &   77.5980 & India            & IN & IND & Karnātaka                        & admin   & 13707000 & 1356410365\\\\\n\t Tehran           & Tehran           &  35.7000 &   51.4167 & Iran             & IR & IRN & Tehrān                           & primary & 13633000 & 1364305026\\\\\n\t Kinshasa         & Kinshasa         &  -4.3317 &   15.3139 & Congo (Kinshasa) & CD & COD & Kinshasa                         & primary & 13528000 & 1180000363\\\\\n\t Ho Chi Minh City & Ho Chi Minh City &  10.8167 &  106.6333 & Vietnam          & VN & VNM & Hồ Chí Minh                      & admin   & 13312000 & 1704774326\\\\\n\t Los Angeles      & Los Angeles      &  34.1139 & -118.4068 & United States    & US & USA & California                       & NA      & 12750807 & 1840020491\\\\\n\t Rio de Janeiro   & Rio de Janeiro   & -22.9083 &  -43.1964 & Brazil           & BR & BRA & Rio de Janeiro                   & admin   & 12272000 & 1076887657\\\\\n\t Nanyang          & Nanyang          &  32.9987 &  112.5292 & China            & CN & CHN & Henan                            & NA      & 12010000 & 1156192287\\\\\n\t ⋮ & ⋮ & ⋮ & ⋮ & ⋮ & ⋮ & ⋮ & ⋮ & ⋮ & ⋮ & ⋮\\\\\n\t Omchak                & Omchak                & 61.6333 &  147.9167 & Russia    & RU & RUS & Magadanskaya Oblast’                     & NA & 10 & 1643827519\\\\\n\t Shalaurova            & Shalaurova            & 73.2204 &  143.1833 & Russia    & RU & RUS & Sakha (Yakutiya)                         & NA & 10 & 1643617349\\\\\n\t Khorgo                & Khorgo                & 73.4833 &  113.6300 & Russia    & RU & RUS & Sakha (Yakutiya)                         & NA & 10 & 1643550363\\\\\n\t Komsa                 & Komsa                 & 61.8680 &   89.2577 & Russia    & RU & RUS & Krasnoyarskiy Kray                       & NA & 10 & 1643255641\\\\\n\t Pakhachi              & Pakhachi              & 60.5816 &  169.0500 & Russia    & RU & RUS & Kamchatskiy Kray                         & NA & 10 & 1643406349\\\\\n\t Indiga                & Indiga                & 67.6898 &   49.0166 & Russia    & RU & RUS & Nenetskiy Avtonomnyy Okrug               & NA & 10 & 1643522900\\\\\n\t Sagastyr              & Sagastyr              & 73.3779 &  126.5924 & Russia    & RU & RUS & Sakha (Yakutiya)                         & NA & 10 & 1643535665\\\\\n\t Chagda                & Chagda                & 60.1000 &  133.9000 & Russia    & RU & RUS & Sakha (Yakutiya)                         & NA & 10 & 1643773533\\\\\n\t Il’pyrskiy            & Il'pyrskiy            & 59.9674 &  164.1720 & Russia    & RU & RUS & Kamchatskiy Kray                         & NA & 10 & 1643660854\\\\\n\t Tunguskhaya           & Tunguskhaya           & 64.9004 &  125.2500 & Russia    & RU & RUS & Sakha (Yakutiya)                         & NA & 10 & 1643610062\\\\\n\t Podkamennaya Tunguska & Podkamennaya Tunguska & 61.5995 &   90.1236 & Russia    & RU & RUS & Krasnoyarskiy Kray                       & NA & 10 & 1643764711\\\\\n\t Siglan                & Siglan                & 59.0337 &  152.4166 & Russia    & RU & RUS & Magadanskaya Oblast’                     & NA & 10 & 1643408923\\\\\n\t Utkholok              & Utkholok              & 57.5504 &  157.2333 & Russia    & RU & RUS & Kamchatskiy Kray                         & NA & 10 & 1643251905\\\\\n\t Varnek                & Varnek                & 69.7301 &   60.0636 & Russia    & RU & RUS & Nenetskiy Avtonomnyy Okrug               & NA & 10 & 1643378778\\\\\n\t Trofimovsk            & Trofimovsk            & 72.5997 &  127.0337 & Russia    & RU & RUS & Sakha (Yakutiya)                         & NA & 10 & 1643214114\\\\\n\t Matochkin Shar        & Matochkin Shar        & 73.2700 &   56.4497 & Russia    & RU & RUS & Arkhangel’skaya Oblast’                  & NA & 10 & 1643843865\\\\\n\t Menkerya              & Menkerya              & 67.9886 &  123.3505 & Russia    & RU & RUS & Sakha (Yakutiya)                         & NA & 10 & 1643637503\\\\\n\t Khakhar               & Khakhar               & 57.6666 &  135.4300 & Russia    & RU & RUS & Khabarovskiy Kray                        & NA & 10 & 1643315253\\\\\n\t Zvëzdnyy              & Zvezdnyy              & 70.9566 & -179.5900 & Russia    & RU & RUS & Chukotskiy Avtonomnyy Okrug              & NA & 10 & 1643877771\\\\\n\t Zemlya Bunge          & Zemlya Bunge          & 74.8983 &  142.1050 & Russia    & RU & RUS & Sakha (Yakutiya)                         & NA & 10 & 1643720805\\\\\n\t Starorybnoye          & Starorybnoye          & 72.7666 &  104.8000 & Russia    & RU & RUS & Krasnoyarskiy Kray                       & NA & 10 & 1643724242\\\\\n\t Agapa                 & Agapa                 & 71.4504 &   89.2500 & Russia    & RU & RUS & Krasnoyarskiy Kray                       & NA & 10 & 1643009087\\\\\n\t Tukchi                & Tukchi                & 57.3670 &  139.5000 & Russia    & RU & RUS & Khabarovskiy Kray                        & NA & 10 & 1643472801\\\\\n\t Numto                 & Numto                 & 63.6667 &   71.3333 & Russia    & RU & RUS & Khanty-Mansiyskiy Avtonomnyy Okrug-Yugra & NA & 10 & 1643985006\\\\\n\t Olenëk                & Olenek                & 68.5250 &  112.4500 & Russia    & RU & RUS & Sakha (Yakutiya)                         & NA & 10 & 1643535703\\\\\n\t Nord                  & Nord                  & 81.7166 &  -17.8000 & Greenland & GL & GRL & Sermersooq                               & NA & 10 & 1304217709\\\\\n\t Timmiarmiut           & Timmiarmiut           & 62.5333 &  -42.2167 & Greenland & GL & GRL & Kujalleq                                 & NA & 10 & 1304206491\\\\\n\t Cheremoshna           & Cheremoshna           & 51.3894 &   30.0989 & Ukraine   & UA & UKR & Kyyivs’ka Oblast’                        & NA &  0 & 1804043438\\\\\n\t Ambarchik             & Ambarchik             & 69.6510 &  162.3336 & Russia    & RU & RUS & Sakha (Yakutiya)                         & NA &  0 & 1643739159\\\\\n\t Nordvik               & Nordvik               & 74.0165 &  111.5100 & Russia    & RU & RUS & Krasnoyarskiy Kray                       & NA &  0 & 1643587468\\\\\n\\end{tabular}\n\n\\end{enumerate}\n",
            "text/plain": [
              "[[1]]\n",
              "\u001b[90m# A tibble: 480 × 10\u001b[39m\n",
              "   COUNTRY   CITY  NAME  SYSTEM OPERATOR LAUNCHED DISCONTINUED STATIONS BICYCLES\n",
              "   \u001b[3m\u001b[90m<chr>\u001b[39m\u001b[23m     \u001b[3m\u001b[90m<chr>\u001b[39m\u001b[23m \u001b[3m\u001b[90m<chr>\u001b[39m\u001b[23m \u001b[3m\u001b[90m<chr>\u001b[39m\u001b[23m  \u001b[3m\u001b[90m<chr>\u001b[39m\u001b[23m    \u001b[3m\u001b[90m<chr>\u001b[39m\u001b[23m    \u001b[3m\u001b[90m<chr>\u001b[39m\u001b[23m        \u001b[3m\u001b[90m<chr>\u001b[39m\u001b[23m    \u001b[3m\u001b[90m<chr>\u001b[39m\u001b[23m   \n",
              "\u001b[90m 1\u001b[39m Albania   Tira… Ecov… \u001b[31mNA\u001b[39m     \u001b[31mNA\u001b[39m       March 2… \u001b[31mNA\u001b[39m           8        200     \n",
              "\u001b[90m 2\u001b[39m Argentina Mend… Metr… \u001b[31mNA\u001b[39m     \u001b[31mNA\u001b[39m       2014     \u001b[31mNA\u001b[39m           2        40      \n",
              "\u001b[90m 3\u001b[39m Argentina San … Bici… Biciu… \u001b[31mNA\u001b[39m       27 Nove… \u001b[31mNA\u001b[39m           8        80      \n",
              "\u001b[90m 4\u001b[39m Argentina Buen… Ecob… Sertt… Bike In… 2010     \u001b[31mNA\u001b[39m           400      4000    \n",
              "\u001b[90m 5\u001b[39m Argentina Rosa… Mi B… \u001b[31mNA\u001b[39m     \u001b[31mNA\u001b[39m       2 Decem… \u001b[31mNA\u001b[39m           47       480     \n",
              "\u001b[90m 6\u001b[39m Australia Melb… Melb… PBSC … Motivate June 20… 30 November… 53       676     \n",
              "\u001b[90m 7\u001b[39m Australia Bris… City… 3 Gen… JCDecaux Septemb… \u001b[31mNA\u001b[39m           150      2000    \n",
              "\u001b[90m 8\u001b[39m Australia Melb… oBike 4 Gen… \u001b[31mNA\u001b[39m       July 20… July 2018    dockless 1250    \n",
              "\u001b[90m 9\u001b[39m Australia Sydn… oBike 4 Gen… \u001b[31mNA\u001b[39m       July 20… July 2018    dockless 1250    \n",
              "\u001b[90m10\u001b[39m Australia Sydn… Ofo   4 Gen… \u001b[31mNA\u001b[39m       October… \u001b[31mNA\u001b[39m           dockless 600     \n",
              "\u001b[90m# ℹ 470 more rows\u001b[39m\n",
              "\u001b[90m# ℹ 1 more variable: DAILY_RIDERSHIP <chr>\u001b[39m\n",
              "\n",
              "[[2]]\n",
              "\u001b[90m# A tibble: 8,760 × 14\u001b[39m\n",
              "   DATE       RENTED_BIKE_COUNT  HOUR TEMPERATURE HUMIDITY WIND_SPEED VISIBILITY\n",
              "   \u001b[3m\u001b[90m<chr>\u001b[39m\u001b[23m                  \u001b[3m\u001b[90m<dbl>\u001b[39m\u001b[23m \u001b[3m\u001b[90m<dbl>\u001b[39m\u001b[23m       \u001b[3m\u001b[90m<dbl>\u001b[39m\u001b[23m    \u001b[3m\u001b[90m<dbl>\u001b[39m\u001b[23m      \u001b[3m\u001b[90m<dbl>\u001b[39m\u001b[23m      \u001b[3m\u001b[90m<dbl>\u001b[39m\u001b[23m\n",
              "\u001b[90m 1\u001b[39m 01/12/2017               254     0        -\u001b[31m5\u001b[39m\u001b[31m.\u001b[39m\u001b[31m2\u001b[39m       37        2.2       \u001b[4m2\u001b[24m000\n",
              "\u001b[90m 2\u001b[39m 01/12/2017               204     1        -\u001b[31m5\u001b[39m\u001b[31m.\u001b[39m\u001b[31m5\u001b[39m       38        0.8       \u001b[4m2\u001b[24m000\n",
              "\u001b[90m 3\u001b[39m 01/12/2017               173     2        -\u001b[31m6\u001b[39m         39        1         \u001b[4m2\u001b[24m000\n",
              "\u001b[90m 4\u001b[39m 01/12/2017               107     3        -\u001b[31m6\u001b[39m\u001b[31m.\u001b[39m\u001b[31m2\u001b[39m       40        0.9       \u001b[4m2\u001b[24m000\n",
              "\u001b[90m 5\u001b[39m 01/12/2017                78     4        -\u001b[31m6\u001b[39m         36        2.3       \u001b[4m2\u001b[24m000\n",
              "\u001b[90m 6\u001b[39m 01/12/2017               100     5        -\u001b[31m6\u001b[39m\u001b[31m.\u001b[39m\u001b[31m4\u001b[39m       37        1.5       \u001b[4m2\u001b[24m000\n",
              "\u001b[90m 7\u001b[39m 01/12/2017               181     6        -\u001b[31m6\u001b[39m\u001b[31m.\u001b[39m\u001b[31m6\u001b[39m       35        1.3       \u001b[4m2\u001b[24m000\n",
              "\u001b[90m 8\u001b[39m 01/12/2017               460     7        -\u001b[31m7\u001b[39m\u001b[31m.\u001b[39m\u001b[31m4\u001b[39m       38        0.9       \u001b[4m2\u001b[24m000\n",
              "\u001b[90m 9\u001b[39m 01/12/2017               930     8        -\u001b[31m7\u001b[39m\u001b[31m.\u001b[39m\u001b[31m6\u001b[39m       37        1.1       \u001b[4m2\u001b[24m000\n",
              "\u001b[90m10\u001b[39m 01/12/2017               490     9        -\u001b[31m6\u001b[39m\u001b[31m.\u001b[39m\u001b[31m5\u001b[39m       27        0.5       \u001b[4m1\u001b[24m928\n",
              "\u001b[90m# ℹ 8,750 more rows\u001b[39m\n",
              "\u001b[90m# ℹ 7 more variables: DEW_POINT_TEMPERATURE <dbl>, SOLAR_RADIATION <dbl>,\u001b[39m\n",
              "\u001b[90m#   RAINFALL <dbl>, SNOWFALL <dbl>, SEASONS <chr>, HOLIDAY <chr>,\u001b[39m\n",
              "\u001b[90m#   FUNCTIONING_DAY <chr>\u001b[39m\n",
              "\n",
              "[[3]]\n",
              "\u001b[90m# A tibble: 160 × 12\u001b[39m\n",
              "   CITY  WEATHER VISIBILITY  TEMP TEMP_MIN TEMP_MAX PRESSURE HUMIDITY WIND_SPEED\n",
              "   \u001b[3m\u001b[90m<chr>\u001b[39m\u001b[23m \u001b[3m\u001b[90m<chr>\u001b[39m\u001b[23m        \u001b[3m\u001b[90m<dbl>\u001b[39m\u001b[23m \u001b[3m\u001b[90m<dbl>\u001b[39m\u001b[23m    \u001b[3m\u001b[90m<dbl>\u001b[39m\u001b[23m    \u001b[3m\u001b[90m<dbl>\u001b[39m\u001b[23m    \u001b[3m\u001b[90m<dbl>\u001b[39m\u001b[23m    \u001b[3m\u001b[90m<dbl>\u001b[39m\u001b[23m      \u001b[3m\u001b[90m<dbl>\u001b[39m\u001b[23m\n",
              "\u001b[90m 1\u001b[39m Seoul Clear        \u001b[4m1\u001b[24m\u001b[4m0\u001b[24m000 12.3     10.9     12.3      \u001b[4m1\u001b[24m015       50       2.18\n",
              "\u001b[90m 2\u001b[39m Seoul Clear        \u001b[4m1\u001b[24m\u001b[4m0\u001b[24m000 11.5      9.81    11.5      \u001b[4m1\u001b[24m016       48       1.25\n",
              "\u001b[90m 3\u001b[39m Seoul Clouds       \u001b[4m1\u001b[24m\u001b[4m0\u001b[24m000  9.99     8.82     9.99     \u001b[4m1\u001b[24m015       46       0.94\n",
              "\u001b[90m 4\u001b[39m Seoul Clouds       \u001b[4m1\u001b[24m\u001b[4m0\u001b[24m000  7.87     7.87     7.87     \u001b[4m1\u001b[24m014       46       0.83\n",
              "\u001b[90m 5\u001b[39m Seoul Clouds       \u001b[4m1\u001b[24m\u001b[4m0\u001b[24m000 10.1     10.1     10.1      \u001b[4m1\u001b[24m014       37       1.96\n",
              "\u001b[90m 6\u001b[39m Seoul Rain         \u001b[4m1\u001b[24m\u001b[4m0\u001b[24m000  9.74     9.74     9.74     \u001b[4m1\u001b[24m014       48       3.24\n",
              "\u001b[90m 7\u001b[39m Seoul Clouds       \u001b[4m1\u001b[24m\u001b[4m0\u001b[24m000 11.4     11.4     11.4      \u001b[4m1\u001b[24m012       44       5.65\n",
              "\u001b[90m 8\u001b[39m Seoul Rain         \u001b[4m1\u001b[24m\u001b[4m0\u001b[24m000  9.75     9.75     9.75     \u001b[4m1\u001b[24m012       57       5.63\n",
              "\u001b[90m 9\u001b[39m Seoul Rain         \u001b[4m1\u001b[24m\u001b[4m0\u001b[24m000  9.11     9.11     9.11     \u001b[4m1\u001b[24m013       51       4.91\n",
              "\u001b[90m10\u001b[39m Seoul Clear        \u001b[4m1\u001b[24m\u001b[4m0\u001b[24m000  8.33     8.33     8.33     \u001b[4m1\u001b[24m013       62       4.49\n",
              "\u001b[90m# ℹ 150 more rows\u001b[39m\n",
              "\u001b[90m# ℹ 3 more variables: WIND_DEG <dbl>, SEASON <chr>, FORECAST_DATETIME <dttm>\u001b[39m\n",
              "\n",
              "[[4]]\n",
              "\u001b[90m# A tibble: 26,569 × 11\u001b[39m\n",
              "   CITY        CITY_ASCII     LAT   LNG COUNTRY   ISO2  ISO3  ADMIN_NAME CAPITAL\n",
              "   \u001b[3m\u001b[90m<chr>\u001b[39m\u001b[23m       \u001b[3m\u001b[90m<chr>\u001b[39m\u001b[23m        \u001b[3m\u001b[90m<dbl>\u001b[39m\u001b[23m \u001b[3m\u001b[90m<dbl>\u001b[39m\u001b[23m \u001b[3m\u001b[90m<chr>\u001b[39m\u001b[23m     \u001b[3m\u001b[90m<chr>\u001b[39m\u001b[23m \u001b[3m\u001b[90m<chr>\u001b[39m\u001b[23m \u001b[3m\u001b[90m<chr>\u001b[39m\u001b[23m      \u001b[3m\u001b[90m<chr>\u001b[39m\u001b[23m  \n",
              "\u001b[90m 1\u001b[39m Tokyo       Tokyo        35.7  140.  Japan     JP    JPN   Tōkyō      primary\n",
              "\u001b[90m 2\u001b[39m Jakarta     Jakarta      -\u001b[31m6\u001b[39m\u001b[31m.\u001b[39m\u001b[31m21\u001b[39m 107.  Indonesia ID    IDN   Jakarta    primary\n",
              "\u001b[90m 3\u001b[39m Delhi       Delhi        28.7   77.2 India     IN    IND   Delhi      admin  \n",
              "\u001b[90m 4\u001b[39m Mumbai      Mumbai       19.0   72.8 India     IN    IND   Mahārāsht… admin  \n",
              "\u001b[90m 5\u001b[39m Manila      Manila       14.6  121.  Philippi… PH    PHL   Manila     primary\n",
              "\u001b[90m 6\u001b[39m Shanghai    Shanghai     31.2  121.  China     CN    CHN   Shanghai   admin  \n",
              "\u001b[90m 7\u001b[39m São Paulo   Sao Paulo   -\u001b[31m23\u001b[39m\u001b[31m.\u001b[39m\u001b[31m6\u001b[39m  -\u001b[31m46\u001b[39m\u001b[31m.\u001b[39m\u001b[31m6\u001b[39m Brazil    BR    BRA   São Paulo  admin  \n",
              "\u001b[90m 8\u001b[39m Seoul       Seoul        37.6  127   Korea, S… KR    KOR   Seoul      primary\n",
              "\u001b[90m 9\u001b[39m Mexico City Mexico City  19.4  -\u001b[31m99\u001b[39m\u001b[31m.\u001b[39m\u001b[31m1\u001b[39m Mexico    MX    MEX   Ciudad de… primary\n",
              "\u001b[90m10\u001b[39m Guangzhou   Guangzhou    23.1  113.  China     CN    CHN   Guangdong  admin  \n",
              "\u001b[90m# ℹ 26,559 more rows\u001b[39m\n",
              "\u001b[90m# ℹ 2 more variables: POPULATION <dbl>, ID <dbl>\u001b[39m\n"
            ]
          },
          "metadata": {}
        },
        {
          "output_type": "stream",
          "name": "stderr",
          "text": [
            "\u001b[1mRows: \u001b[22m\u001b[34m480\u001b[39m \u001b[1mColumns: \u001b[22m\u001b[34m10\u001b[39m\n",
            "\u001b[36m──\u001b[39m \u001b[1mColumn specification\u001b[22m \u001b[36m────────────────────────────────────────────────────────\u001b[39m\n",
            "\u001b[1mDelimiter:\u001b[22m \",\"\n",
            "\u001b[31mchr\u001b[39m (10): COUNTRY, CITY, NAME, SYSTEM, OPERATOR, LAUNCHED, DISCONTINUED, STA...\n",
            "\n",
            "\u001b[36mℹ\u001b[39m Use `spec()` to retrieve the full column specification for this data.\n",
            "\u001b[36mℹ\u001b[39m Specify the column types or set `show_col_types = FALSE` to quiet this message.\n"
          ]
        },
        {
          "output_type": "stream",
          "name": "stdout",
          "text": [
            "\n",
            "Dataset: /content/raw_bike_sharing_systems.csv \n",
            " [1] \"COUNTRY\"         \"CITY\"            \"NAME\"            \"SYSTEM\"         \n",
            " [5] \"OPERATOR\"        \"LAUNCHED\"        \"DISCONTINUED\"    \"STATIONS\"       \n",
            " [9] \"BICYCLES\"        \"DAILY_RIDERSHIP\"\n"
          ]
        },
        {
          "output_type": "stream",
          "name": "stderr",
          "text": [
            "\u001b[1mRows: \u001b[22m\u001b[34m8760\u001b[39m \u001b[1mColumns: \u001b[22m\u001b[34m14\u001b[39m\n",
            "\u001b[36m──\u001b[39m \u001b[1mColumn specification\u001b[22m \u001b[36m────────────────────────────────────────────────────────\u001b[39m\n",
            "\u001b[1mDelimiter:\u001b[22m \",\"\n",
            "\u001b[31mchr\u001b[39m  (4): DATE, SEASONS, HOLIDAY, FUNCTIONING_DAY\n",
            "\u001b[32mdbl\u001b[39m (10): RENTED_BIKE_COUNT, HOUR, TEMPERATURE, HUMIDITY, WIND_SPEED, VISIBI...\n",
            "\n",
            "\u001b[36mℹ\u001b[39m Use `spec()` to retrieve the full column specification for this data.\n",
            "\u001b[36mℹ\u001b[39m Specify the column types or set `show_col_types = FALSE` to quiet this message.\n"
          ]
        },
        {
          "output_type": "stream",
          "name": "stdout",
          "text": [
            "\n",
            "Dataset: /content/raw_seoul_bike_sharing.csv \n",
            " [1] \"DATE\"                  \"RENTED_BIKE_COUNT\"     \"HOUR\"                 \n",
            " [4] \"TEMPERATURE\"           \"HUMIDITY\"              \"WIND_SPEED\"           \n",
            " [7] \"VISIBILITY\"            \"DEW_POINT_TEMPERATURE\" \"SOLAR_RADIATION\"      \n",
            "[10] \"RAINFALL\"              \"SNOWFALL\"              \"SEASONS\"              \n",
            "[13] \"HOLIDAY\"               \"FUNCTIONING_DAY\"      \n"
          ]
        },
        {
          "output_type": "stream",
          "name": "stderr",
          "text": [
            "\u001b[1mRows: \u001b[22m\u001b[34m160\u001b[39m \u001b[1mColumns: \u001b[22m\u001b[34m12\u001b[39m\n",
            "\u001b[36m──\u001b[39m \u001b[1mColumn specification\u001b[22m \u001b[36m────────────────────────────────────────────────────────\u001b[39m\n",
            "\u001b[1mDelimiter:\u001b[22m \",\"\n",
            "\u001b[31mchr\u001b[39m  (3): CITY, WEATHER, SEASON\n",
            "\u001b[32mdbl\u001b[39m  (8): VISIBILITY, TEMP, TEMP_MIN, TEMP_MAX, PRESSURE, HUMIDITY, WIND_SPE...\n",
            "\u001b[34mdttm\u001b[39m (1): FORECAST_DATETIME\n",
            "\n",
            "\u001b[36mℹ\u001b[39m Use `spec()` to retrieve the full column specification for this data.\n",
            "\u001b[36mℹ\u001b[39m Specify the column types or set `show_col_types = FALSE` to quiet this message.\n"
          ]
        },
        {
          "output_type": "stream",
          "name": "stdout",
          "text": [
            "\n",
            "Dataset: /content/raw_cities_weather_forecast.csv \n",
            " [1] \"CITY\"              \"WEATHER\"           \"VISIBILITY\"       \n",
            " [4] \"TEMP\"              \"TEMP_MIN\"          \"TEMP_MAX\"         \n",
            " [7] \"PRESSURE\"          \"HUMIDITY\"          \"WIND_SPEED\"       \n",
            "[10] \"WIND_DEG\"          \"SEASON\"            \"FORECAST_DATETIME\"\n"
          ]
        },
        {
          "output_type": "stream",
          "name": "stderr",
          "text": [
            "\u001b[1mRows: \u001b[22m\u001b[34m26569\u001b[39m \u001b[1mColumns: \u001b[22m\u001b[34m11\u001b[39m\n",
            "\u001b[36m──\u001b[39m \u001b[1mColumn specification\u001b[22m \u001b[36m────────────────────────────────────────────────────────\u001b[39m\n",
            "\u001b[1mDelimiter:\u001b[22m \",\"\n",
            "\u001b[31mchr\u001b[39m (7): CITY, CITY_ASCII, COUNTRY, ISO2, ISO3, ADMIN_NAME, CAPITAL\n",
            "\u001b[32mdbl\u001b[39m (4): LAT, LNG, POPULATION, ID\n",
            "\n",
            "\u001b[36mℹ\u001b[39m Use `spec()` to retrieve the full column specification for this data.\n",
            "\u001b[36mℹ\u001b[39m Specify the column types or set `show_col_types = FALSE` to quiet this message.\n"
          ]
        },
        {
          "output_type": "stream",
          "name": "stdout",
          "text": [
            "\n",
            "Dataset: /content/raw_worldcities.csv \n",
            " [1] \"CITY\"       \"CITY_ASCII\" \"LAT\"        \"LNG\"        \"COUNTRY\"   \n",
            " [6] \"ISO2\"       \"ISO3\"       \"ADMIN_NAME\" \"CAPITAL\"    \"POPULATION\"\n",
            "[11] \"ID\"        \n"
          ]
        }
      ]
    },
    {
      "cell_type": "code",
      "source": [
        "bike_sharing_df <- read_csv(\"raw_bike_sharing_systems.csv\")"
      ],
      "metadata": {
        "colab": {
          "base_uri": "https://localhost:8080/"
        },
        "id": "s7ZR7kwvgcmH",
        "outputId": "096a89c2-f73c-4190-b6fd-15966f564b2c"
      },
      "execution_count": null,
      "outputs": [
        {
          "output_type": "stream",
          "name": "stderr",
          "text": [
            "\u001b[1mRows: \u001b[22m\u001b[34m480\u001b[39m \u001b[1mColumns: \u001b[22m\u001b[34m10\u001b[39m\n",
            "\u001b[36m──\u001b[39m \u001b[1mColumn specification\u001b[22m \u001b[36m────────────────────────────────────────────────────────\u001b[39m\n",
            "\u001b[1mDelimiter:\u001b[22m \",\"\n",
            "\u001b[31mchr\u001b[39m (10): COUNTRY, CITY, NAME, SYSTEM, OPERATOR, LAUNCHED, DISCONTINUED, STA...\n",
            "\n",
            "\u001b[36mℹ\u001b[39m Use `spec()` to retrieve the full column specification for this data.\n",
            "\u001b[36mℹ\u001b[39m Specify the column types or set `show_col_types = FALSE` to quiet this message.\n"
          ]
        }
      ]
    },
    {
      "cell_type": "code",
      "source": [
        "head(bike_sharing_df)"
      ],
      "metadata": {
        "colab": {
          "base_uri": "https://localhost:8080/",
          "height": 355
        },
        "id": "gYrueZ8bghGs",
        "outputId": "44c7bd43-f597-4fe1-b72d-4b12092b0b16"
      },
      "execution_count": null,
      "outputs": [
        {
          "output_type": "display_data",
          "data": {
            "text/html": [
              "<table class=\"dataframe\">\n",
              "<caption>A tibble: 6 × 10</caption>\n",
              "<thead>\n",
              "\t<tr><th scope=col>COUNTRY</th><th scope=col>CITY</th><th scope=col>NAME</th><th scope=col>SYSTEM</th><th scope=col>OPERATOR</th><th scope=col>LAUNCHED</th><th scope=col>DISCONTINUED</th><th scope=col>STATIONS</th><th scope=col>BICYCLES</th><th scope=col>DAILY_RIDERSHIP</th></tr>\n",
              "\t<tr><th scope=col>&lt;chr&gt;</th><th scope=col>&lt;chr&gt;</th><th scope=col>&lt;chr&gt;</th><th scope=col>&lt;chr&gt;</th><th scope=col>&lt;chr&gt;</th><th scope=col>&lt;chr&gt;</th><th scope=col>&lt;chr&gt;</th><th scope=col>&lt;chr&gt;</th><th scope=col>&lt;chr&gt;</th><th scope=col>&lt;chr&gt;</th></tr>\n",
              "</thead>\n",
              "<tbody>\n",
              "\t<tr><td>Albania  </td><td>Tirana               </td><td>Ecovolis            </td><td>NA            </td><td>NA                            </td><td>March 2011      </td><td>NA                  </td><td>8  </td><td>200 </td><td>NA   </td></tr>\n",
              "\t<tr><td>Argentina</td><td>Mendoza              </td><td>Metrobici           </td><td>NA            </td><td>NA                            </td><td>2014            </td><td>NA                  </td><td>2  </td><td>40  </td><td>NA   </td></tr>\n",
              "\t<tr><td>Argentina</td><td>San Lorenzo, Santa Fe</td><td>Biciudad            </td><td>Biciudad      </td><td>NA                            </td><td>27 November 2016</td><td>NA                  </td><td>8  </td><td>80  </td><td>NA   </td></tr>\n",
              "\t<tr><td>Argentina</td><td>Buenos Aires         </td><td>Ecobici             </td><td>Serttel Brasil</td><td>Bike In Baires Consortium.[10]</td><td>2010            </td><td>NA                  </td><td>400</td><td>4000</td><td>21917</td></tr>\n",
              "\t<tr><td>Argentina</td><td>Rosario              </td><td>Mi Bici Tu Bici[11] </td><td>NA            </td><td>NA                            </td><td>2 December 2015 </td><td>NA                  </td><td>47 </td><td>480 </td><td>NA   </td></tr>\n",
              "\t<tr><td>Australia</td><td><span style=white-space:pre-wrap>Melbourne[12]        </span></td><td>Melbourne Bike Share</td><td><span style=white-space:pre-wrap>PBSC &amp; 8D     </span></td><td><span style=white-space:pre-wrap>Motivate                      </span></td><td><span style=white-space:pre-wrap>June 2010       </span></td><td>30 November 2019[13]</td><td>53 </td><td>676 </td><td><span style=white-space:pre-wrap>NA   </span></td></tr>\n",
              "</tbody>\n",
              "</table>\n"
            ],
            "text/markdown": "\nA tibble: 6 × 10\n\n| COUNTRY &lt;chr&gt; | CITY &lt;chr&gt; | NAME &lt;chr&gt; | SYSTEM &lt;chr&gt; | OPERATOR &lt;chr&gt; | LAUNCHED &lt;chr&gt; | DISCONTINUED &lt;chr&gt; | STATIONS &lt;chr&gt; | BICYCLES &lt;chr&gt; | DAILY_RIDERSHIP &lt;chr&gt; |\n|---|---|---|---|---|---|---|---|---|---|\n| Albania   | Tirana                | Ecovolis             | NA             | NA                             | March 2011       | NA                   | 8   | 200  | NA    |\n| Argentina | Mendoza               | Metrobici            | NA             | NA                             | 2014             | NA                   | 2   | 40   | NA    |\n| Argentina | San Lorenzo, Santa Fe | Biciudad             | Biciudad       | NA                             | 27 November 2016 | NA                   | 8   | 80   | NA    |\n| Argentina | Buenos Aires          | Ecobici              | Serttel Brasil | Bike In Baires Consortium.[10] | 2010             | NA                   | 400 | 4000 | 21917 |\n| Argentina | Rosario               | Mi Bici Tu Bici[11]  | NA             | NA                             | 2 December 2015  | NA                   | 47  | 480  | NA    |\n| Australia | Melbourne[12]         | Melbourne Bike Share | PBSC &amp; 8D      | Motivate                       | June 2010        | 30 November 2019[13] | 53  | 676  | NA    |\n\n",
            "text/latex": "A tibble: 6 × 10\n\\begin{tabular}{llllllllll}\n COUNTRY & CITY & NAME & SYSTEM & OPERATOR & LAUNCHED & DISCONTINUED & STATIONS & BICYCLES & DAILY\\_RIDERSHIP\\\\\n <chr> & <chr> & <chr> & <chr> & <chr> & <chr> & <chr> & <chr> & <chr> & <chr>\\\\\n\\hline\n\t Albania   & Tirana                & Ecovolis             & NA             & NA                             & March 2011       & NA                   & 8   & 200  & NA   \\\\\n\t Argentina & Mendoza               & Metrobici            & NA             & NA                             & 2014             & NA                   & 2   & 40   & NA   \\\\\n\t Argentina & San Lorenzo, Santa Fe & Biciudad             & Biciudad       & NA                             & 27 November 2016 & NA                   & 8   & 80   & NA   \\\\\n\t Argentina & Buenos Aires          & Ecobici              & Serttel Brasil & Bike In Baires Consortium.{[}10{]} & 2010             & NA                   & 400 & 4000 & 21917\\\\\n\t Argentina & Rosario               & Mi Bici Tu Bici{[}11{]}  & NA             & NA                             & 2 December 2015  & NA                   & 47  & 480  & NA   \\\\\n\t Australia & Melbourne{[}12{]}         & Melbourne Bike Share & PBSC \\& 8D      & Motivate                       & June 2010        & 30 November 2019{[}13{]} & 53  & 676  & NA   \\\\\n\\end{tabular}\n",
            "text/plain": [
              "  COUNTRY   CITY                  NAME                 SYSTEM        \n",
              "1 Albania   Tirana                Ecovolis             NA            \n",
              "2 Argentina Mendoza               Metrobici            NA            \n",
              "3 Argentina San Lorenzo, Santa Fe Biciudad             Biciudad      \n",
              "4 Argentina Buenos Aires          Ecobici              Serttel Brasil\n",
              "5 Argentina Rosario               Mi Bici Tu Bici[11]  NA            \n",
              "6 Australia Melbourne[12]         Melbourne Bike Share PBSC & 8D     \n",
              "  OPERATOR                       LAUNCHED         DISCONTINUED         STATIONS\n",
              "1 NA                             March 2011       NA                   8       \n",
              "2 NA                             2014             NA                   2       \n",
              "3 NA                             27 November 2016 NA                   8       \n",
              "4 Bike In Baires Consortium.[10] 2010             NA                   400     \n",
              "5 NA                             2 December 2015  NA                   47      \n",
              "6 Motivate                       June 2010        30 November 2019[13] 53      \n",
              "  BICYCLES DAILY_RIDERSHIP\n",
              "1 200      NA             \n",
              "2 40       NA             \n",
              "3 80       NA             \n",
              "4 4000     21917          \n",
              "5 480      NA             \n",
              "6 676      NA             "
            ]
          },
          "metadata": {}
        }
      ]
    },
    {
      "cell_type": "code",
      "source": [
        "sub_bike_sharing_df <- bike_sharing_df %>% select(COUNTRY, CITY, SYSTEM, BICYCLES)"
      ],
      "metadata": {
        "id": "X-ydgoVvgilj"
      },
      "execution_count": null,
      "outputs": []
    },
    {
      "cell_type": "code",
      "source": [
        "sub_bike_sharing_df %>%\n",
        "    summarize_all(class) %>%\n",
        "    gather(variable, class)"
      ],
      "metadata": {
        "colab": {
          "base_uri": "https://localhost:8080/",
          "height": 223
        },
        "id": "EUVow4sTgkc5",
        "outputId": "928d2703-1b20-499e-a261-dc4c7f3dd3ca"
      },
      "execution_count": null,
      "outputs": [
        {
          "output_type": "display_data",
          "data": {
            "text/html": [
              "<table class=\"dataframe\">\n",
              "<caption>A tibble: 4 × 2</caption>\n",
              "<thead>\n",
              "\t<tr><th scope=col>variable</th><th scope=col>class</th></tr>\n",
              "\t<tr><th scope=col>&lt;chr&gt;</th><th scope=col>&lt;chr&gt;</th></tr>\n",
              "</thead>\n",
              "<tbody>\n",
              "\t<tr><td>COUNTRY </td><td>character</td></tr>\n",
              "\t<tr><td>CITY    </td><td>character</td></tr>\n",
              "\t<tr><td>SYSTEM  </td><td>character</td></tr>\n",
              "\t<tr><td>BICYCLES</td><td>character</td></tr>\n",
              "</tbody>\n",
              "</table>\n"
            ],
            "text/markdown": "\nA tibble: 4 × 2\n\n| variable &lt;chr&gt; | class &lt;chr&gt; |\n|---|---|\n| COUNTRY  | character |\n| CITY     | character |\n| SYSTEM   | character |\n| BICYCLES | character |\n\n",
            "text/latex": "A tibble: 4 × 2\n\\begin{tabular}{ll}\n variable & class\\\\\n <chr> & <chr>\\\\\n\\hline\n\t COUNTRY  & character\\\\\n\t CITY     & character\\\\\n\t SYSTEM   & character\\\\\n\t BICYCLES & character\\\\\n\\end{tabular}\n",
            "text/plain": [
              "  variable class    \n",
              "1 COUNTRY  character\n",
              "2 CITY     character\n",
              "3 SYSTEM   character\n",
              "4 BICYCLES character"
            ]
          },
          "metadata": {}
        }
      ]
    },
    {
      "cell_type": "code",
      "source": [
        "find_character <- function(strings) grepl(\"[^0-9]\", strings)"
      ],
      "metadata": {
        "id": "zluHvzTRgmPF"
      },
      "execution_count": null,
      "outputs": []
    },
    {
      "cell_type": "code",
      "source": [
        "sub_bike_sharing_df %>%\n",
        "    select(BICYCLES) %>%\n",
        "    filter(find_character(BICYCLES)) %>%\n",
        "    slice(0:10)"
      ],
      "metadata": {
        "colab": {
          "base_uri": "https://localhost:8080/",
          "height": 411
        },
        "id": "gcVx68EUgouN",
        "outputId": "e8b56336-942a-487e-ba18-664ee3c83d7e"
      },
      "execution_count": null,
      "outputs": [
        {
          "output_type": "display_data",
          "data": {
            "text/html": [
              "<table class=\"dataframe\">\n",
              "<caption>A tibble: 10 × 1</caption>\n",
              "<thead>\n",
              "\t<tr><th scope=col>BICYCLES</th></tr>\n",
              "\t<tr><th scope=col>&lt;chr&gt;</th></tr>\n",
              "</thead>\n",
              "<tbody>\n",
              "\t<tr><td>4115[22]                  </td></tr>\n",
              "\t<tr><td>310[59]                   </td></tr>\n",
              "\t<tr><td>500[72]                   </td></tr>\n",
              "\t<tr><td>[75]                      </td></tr>\n",
              "\t<tr><td>180[76]                   </td></tr>\n",
              "\t<tr><td>600[77]                   </td></tr>\n",
              "\t<tr><td>[78]                      </td></tr>\n",
              "\t<tr><td>initially 800 (later 2500)</td></tr>\n",
              "\t<tr><td>100 (220)                 </td></tr>\n",
              "\t<tr><td>370[114]                  </td></tr>\n",
              "</tbody>\n",
              "</table>\n"
            ],
            "text/markdown": "\nA tibble: 10 × 1\n\n| BICYCLES &lt;chr&gt; |\n|---|\n| 4115[22]                   |\n| 310[59]                    |\n| 500[72]                    |\n| [75]                       |\n| 180[76]                    |\n| 600[77]                    |\n| [78]                       |\n| initially 800 (later 2500) |\n| 100 (220)                  |\n| 370[114]                   |\n\n",
            "text/latex": "A tibble: 10 × 1\n\\begin{tabular}{l}\n BICYCLES\\\\\n <chr>\\\\\n\\hline\n\t 4115{[}22{]}                  \\\\\n\t 310{[}59{]}                   \\\\\n\t 500{[}72{]}                   \\\\\n\t {[}75{]}                      \\\\\n\t 180{[}76{]}                   \\\\\n\t 600{[}77{]}                   \\\\\n\t {[}78{]}                      \\\\\n\t initially 800 (later 2500)\\\\\n\t 100 (220)                 \\\\\n\t 370{[}114{]}                  \\\\\n\\end{tabular}\n",
            "text/plain": [
              "   BICYCLES                  \n",
              "1  4115[22]                  \n",
              "2  310[59]                   \n",
              "3  500[72]                   \n",
              "4  [75]                      \n",
              "5  180[76]                   \n",
              "6  600[77]                   \n",
              "7  [78]                      \n",
              "8  initially 800 (later 2500)\n",
              "9  100 (220)                 \n",
              "10 370[114]                  "
            ]
          },
          "metadata": {}
        }
      ]
    },
    {
      "cell_type": "code",
      "source": [
        "ref_pattern <- \"\\\\[[A-z0-9]+\\\\]\"\n",
        "find_reference_pattern <- function(strings) grepl(ref_pattern, strings)"
      ],
      "metadata": {
        "id": "i_lEsMzbgqqK"
      },
      "execution_count": null,
      "outputs": []
    },
    {
      "cell_type": "code",
      "source": [
        "sub_bike_sharing_df %>%\n",
        "    select(COUNTRY) %>%\n",
        "    filter(find_reference_pattern(COUNTRY)) %>%\n",
        "    slice(0:10)"
      ],
      "metadata": {
        "colab": {
          "base_uri": "https://localhost:8080/",
          "height": 115
        },
        "id": "-SXONBlWgytg",
        "outputId": "2c1815c5-268d-4e8b-8cdd-c969841a8142"
      },
      "execution_count": null,
      "outputs": [
        {
          "output_type": "display_data",
          "data": {
            "text/html": [
              "<table class=\"dataframe\">\n",
              "<caption>A tibble: 0 × 1</caption>\n",
              "<thead>\n",
              "\t<tr><th scope=col>COUNTRY</th></tr>\n",
              "\t<tr><th scope=col>&lt;chr&gt;</th></tr>\n",
              "</thead>\n",
              "<tbody>\n",
              "</tbody>\n",
              "</table>\n"
            ],
            "text/markdown": "\nA tibble: 0 × 1\n\n| COUNTRY &lt;chr&gt; |\n|---|\n\n",
            "text/latex": "A tibble: 0 × 1\n\\begin{tabular}{l}\n COUNTRY\\\\\n <chr>\\\\\n\\hline\n\\end{tabular}\n",
            "text/plain": [
              "     COUNTRY"
            ]
          },
          "metadata": {}
        }
      ]
    },
    {
      "cell_type": "code",
      "source": [
        "extract_num <- function(columns) {\n",
        "  digitals_pattern <- \"\\\\d+\"  # Pattern matching one or more digits\n",
        "\n",
        "  # Find the first match using str_extract and convert to numeric\n",
        "  columns <- str_extract(columns, digitals_pattern)\n",
        "  columns <- as.numeric(columns)\n",
        "\n",
        "  return(columns)\n",
        "}"
      ],
      "metadata": {
        "id": "o_JtczjCg0hU"
      },
      "execution_count": null,
      "outputs": []
    },
    {
      "cell_type": "code",
      "source": [
        "# Define a pattern matching a reference link such as [1]\n",
        "ref_pattern <- \"\\\\[\\\\d+\\\\]\"\n",
        "\n",
        "# Function to remove reference links using stringr::str_replace_all\n",
        "remove_ref <- function(strings) {\n",
        "  result <- str_replace_all(strings, ref_pattern, \"\")\n",
        "  return(result)\n",
        "}\n"
      ],
      "metadata": {
        "id": "axK1_ykYhOi5"
      },
      "execution_count": null,
      "outputs": []
    },
    {
      "cell_type": "code",
      "source": [
        "# Apply the remove_ref function to CITY and SYSTEM columns using dplyr::mutate\n",
        "sub_bike_sharing_df <- sub_bike_sharing_df %>%\n",
        "  mutate(CITY = remove_ref(CITY),\n",
        "         SYSTEM = remove_ref(SYSTEM))\n"
      ],
      "metadata": {
        "id": "Pt9C-Rn5i3Ea"
      },
      "execution_count": null,
      "outputs": []
    },
    {
      "cell_type": "code",
      "source": [
        "# Check whether all reference links are removed\n",
        "result <- sub_bike_sharing_df %>%\n",
        "  select(CITY, SYSTEM, BICYCLES) %>%\n",
        "  filter(find_reference_pattern(CITY) | find_reference_pattern(SYSTEM) | find_reference_pattern(BICYCLES))\n",
        "\n",
        "# Print the result\n",
        "print(result)\n"
      ],
      "metadata": {
        "colab": {
          "base_uri": "https://localhost:8080/"
        },
        "id": "s8d-VLfUi5Tb",
        "outputId": "ffacffe9-d280-4a35-d4b1-d1e5ad6d34ff"
      },
      "execution_count": null,
      "outputs": [
        {
          "output_type": "stream",
          "name": "stdout",
          "text": [
            "\u001b[90m# A tibble: 25 × 3\u001b[39m\n",
            "   CITY                                                          SYSTEM BICYCLES\n",
            "   \u001b[3m\u001b[90m<chr>\u001b[39m\u001b[23m                                                         \u001b[3m\u001b[90m<chr>\u001b[39m\u001b[23m  \u001b[3m\u001b[90m<chr>\u001b[39m\u001b[23m   \n",
            "\u001b[90m 1\u001b[39m Brussels                                                      3 Gen… 4115[22]\n",
            "\u001b[90m 2\u001b[39m Limassol (& Agios Dometios, Aglandjia, Dali, Engomi, Latsia,… 3 Gen… 310[59] \n",
            "\u001b[90m 3\u001b[39m Prague                                                        \u001b[31mNA\u001b[39m     500[72] \n",
            "\u001b[90m 4\u001b[39m Prague 7                                                      4 Gen… [75]    \n",
            "\u001b[90m 5\u001b[39m Prostějov                                                     3 Gen… 180[76] \n",
            "\u001b[90m 6\u001b[39m Ostrava                                                       3 Gen… 600[77] \n",
            "\u001b[90m 7\u001b[39m Farsø                                                         2 Gen  [78]    \n",
            "\u001b[90m 8\u001b[39m Batumi                                                        3 Gen… 370[114]\n",
            "\u001b[90m 9\u001b[39m Darmstadt                                                     3 & 4… 350 [12…\n",
            "\u001b[90m10\u001b[39m Corfu                                                         3 Gen… 100[58] \n",
            "\u001b[90m# ℹ 15 more rows\u001b[39m\n"
          ]
        }
      ]
    },
    {
      "cell_type": "code",
      "source": [
        "# Define a pattern matching a reference link such as [1]\n",
        "ref_pattern <- \"\\\\[\\\\d+\\\\]\"\n",
        "\n",
        "# Function to remove reference links using stringr::str_replace_all\n",
        "remove_ref <- function(strings) {\n",
        "  result <- str_replace_all(strings, ref_pattern, \"\")\n",
        "  return(result)\n",
        "}\n"
      ],
      "metadata": {
        "id": "yPkO8AU2i86M"
      },
      "execution_count": null,
      "outputs": []
    },
    {
      "cell_type": "code",
      "source": [
        "# Apply the remove_ref function to CITY and SYSTEM columns using dplyr::mutate\n",
        "sub_bike_sharing_df <- sub_bike_sharing_df %>%\n",
        "  mutate(CITY = remove_ref(CITY),\n",
        "         SYSTEM = remove_ref(SYSTEM))\n"
      ],
      "metadata": {
        "id": "oiSr8BfUjKL-"
      },
      "execution_count": null,
      "outputs": []
    },
    {
      "cell_type": "code",
      "source": [
        "# Check whether all reference links are removed\n",
        "result <- sub_bike_sharing_df %>%\n",
        "  select(CITY, SYSTEM, BICYCLES) %>%\n",
        "  filter(find_reference_pattern(CITY) | find_reference_pattern(SYSTEM) | find_reference_pattern(BICYCLES))\n",
        "\n",
        "# Print the result\n",
        "print(result)\n"
      ],
      "metadata": {
        "colab": {
          "base_uri": "https://localhost:8080/"
        },
        "id": "Nzhm8AbHjMN3",
        "outputId": "1cdb4c2f-0a61-4de0-d6ad-ae65a3c58cef"
      },
      "execution_count": null,
      "outputs": [
        {
          "output_type": "stream",
          "name": "stdout",
          "text": [
            "\u001b[90m# A tibble: 25 × 3\u001b[39m\n",
            "   CITY                                                          SYSTEM BICYCLES\n",
            "   \u001b[3m\u001b[90m<chr>\u001b[39m\u001b[23m                                                         \u001b[3m\u001b[90m<chr>\u001b[39m\u001b[23m  \u001b[3m\u001b[90m<chr>\u001b[39m\u001b[23m   \n",
            "\u001b[90m 1\u001b[39m Brussels                                                      3 Gen… 4115[22]\n",
            "\u001b[90m 2\u001b[39m Limassol (& Agios Dometios, Aglandjia, Dali, Engomi, Latsia,… 3 Gen… 310[59] \n",
            "\u001b[90m 3\u001b[39m Prague                                                        \u001b[31mNA\u001b[39m     500[72] \n",
            "\u001b[90m 4\u001b[39m Prague 7                                                      4 Gen… [75]    \n",
            "\u001b[90m 5\u001b[39m Prostějov                                                     3 Gen… 180[76] \n",
            "\u001b[90m 6\u001b[39m Ostrava                                                       3 Gen… 600[77] \n",
            "\u001b[90m 7\u001b[39m Farsø                                                         2 Gen  [78]    \n",
            "\u001b[90m 8\u001b[39m Batumi                                                        3 Gen… 370[114]\n",
            "\u001b[90m 9\u001b[39m Darmstadt                                                     3 & 4… 350 [12…\n",
            "\u001b[90m10\u001b[39m Corfu                                                         3 Gen… 100[58] \n",
            "\u001b[90m# ℹ 15 more rows\u001b[39m\n"
          ]
        }
      ]
    },
    {
      "cell_type": "code",
      "source": [
        "# Define a digital pattern to extract the first numeric substring\n",
        "digitals_pattern <- \"\\\\d+\"\n",
        "\n",
        "# Function to extract numeric value using stringr::str_extract and convert to numeric\n",
        "extract_num <- function(columns) {\n",
        "  result <- str_extract(columns, digitals_pattern)\n",
        "  result <- as.numeric(result)\n",
        "  return(result)\n",
        "}\n"
      ],
      "metadata": {
        "id": "-CylzjecjNkH"
      },
      "execution_count": null,
      "outputs": []
    },
    {
      "cell_type": "code",
      "source": [
        "# Apply the extract_num function to the BICYCLES column using dplyr::mutate\n",
        "sub_bike_sharing_df <- sub_bike_sharing_df %>%\n",
        "  mutate(BICYCLES = extract_num(BICYCLES))\n"
      ],
      "metadata": {
        "id": "1QZKWxqOjTjl"
      },
      "execution_count": null,
      "outputs": []
    },
    {
      "cell_type": "code",
      "source": [
        "# Check descriptive statistics of the numeric BICYCLES column\n",
        "summary(sub_bike_sharing_df$BICYCLES)\n"
      ],
      "metadata": {
        "colab": {
          "base_uri": "https://localhost:8080/",
          "height": 52
        },
        "id": "mUmBO2AJjVdy",
        "outputId": "7e344b79-d9d0-4fbc-89d1-fbec0841b800"
      },
      "execution_count": null,
      "outputs": [
        {
          "output_type": "display_data",
          "data": {
            "text/plain": [
              "   Min. 1st Qu.  Median    Mean 3rd Qu.    Max.    NA's \n",
              "      5     100     343    2012    1400   78000      76 "
            ]
          },
          "metadata": {}
        }
      ]
    },
    {
      "cell_type": "code",
      "source": [
        "# Write cleaned bike-sharing systems dataset to a CSV file named bike_sharing_systems.csv\n",
        "write_csv(sub_bike_sharing_df, \"bike_sharing_systems.csv\", col_names = TRUE)\n"
      ],
      "metadata": {
        "id": "LMYLC4jLjYZR"
      },
      "execution_count": null,
      "outputs": []
    },
    {
      "cell_type": "code",
      "source": [],
      "metadata": {
        "id": "Hqi9xUJGjb5C"
      },
      "execution_count": null,
      "outputs": []
    }
  ]
}