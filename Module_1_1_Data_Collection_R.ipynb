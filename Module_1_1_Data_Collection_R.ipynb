{
  "nbformat": 4,
  "nbformat_minor": 0,
  "metadata": {
    "colab": {
      "provenance": []
    },
    "kernelspec": {
      "name": "ir",
      "display_name": "R"
    },
    "language_info": {
      "name": "R"
    }
  },
  "cells": [
    {
      "cell_type": "code",
      "execution_count": null,
      "metadata": {
        "colab": {
          "base_uri": "https://localhost:8080/"
        },
        "id": "Yhvj6uo38t0_",
        "outputId": "61e90086-53f4-4625-9a5e-3def3af902c1"
      },
      "outputs": [
        {
          "output_type": "stream",
          "name": "stderr",
          "text": [
            "Loading required package: rvest\n",
            "\n"
          ]
        }
      ],
      "source": [
        "# Check if need to install rvest library\n",
        "if(!require(\"rvest\")) install.packages(\"rvest\")\n",
        "\n",
        "# Load the library\n",
        "library(rvest)\n"
      ]
    },
    {
      "cell_type": "code",
      "source": [
        "# Define the URL\n",
        "url <- \"https://en.wikipedia.org/wiki/List_of_bicycle-sharing_systems\"\n",
        "\n",
        "# Get the root HTML node by calling the `read_html()` method with URL\n",
        "root_node <- read_html(url)\n"
      ],
      "metadata": {
        "id": "RsUJxL7O83GU"
      },
      "execution_count": null,
      "outputs": []
    },
    {
      "cell_type": "code",
      "source": [
        "# Get all child <table> nodes\n",
        "table_nodes <- html_nodes(root_node, \"table\")\n",
        "\n",
        "# Inspect the tables to find the right one (in this case, it's the first one)\n",
        "# Print a preview of the first table to confirm\n",
        "table_nodes[[1]]\n"
      ],
      "metadata": {
        "colab": {
          "base_uri": "https://localhost:8080/",
          "height": 69
        },
        "id": "Cc53OQXt8-Iz",
        "outputId": "65239dce-e12f-49ea-e456-4153142c37f0"
      },
      "execution_count": null,
      "outputs": [
        {
          "output_type": "display_data",
          "data": {
            "text/plain": [
              "{html_node}\n",
              "<table class=\"wikitable sortable sticky-header\" style=\"background:#f8f9faff;\">\n",
              "[1] <tbody>\\n<tr>\\n<th>Country</th>\\n<th>City / Region</th>\\n<th>Name</th>\\n< ..."
            ]
          },
          "metadata": {}
        }
      ]
    },
    {
      "cell_type": "code",
      "source": [
        "# Convert the bike-sharing system table into a dataframe\n",
        "bike_sharing_df <- html_table(table_nodes[[1]], fill = TRUE)\n"
      ],
      "metadata": {
        "id": "7KJVON2d8_1h"
      },
      "execution_count": null,
      "outputs": []
    },
    {
      "cell_type": "code",
      "source": [
        "# Summarize the dataframe\n",
        "summary(bike_sharing_df)\n"
      ],
      "metadata": {
        "colab": {
          "base_uri": "https://localhost:8080/",
          "height": 156
        },
        "id": "gIpe7oIA9Bn3",
        "outputId": "f005b45d-03cc-4fc9-cb4d-81a24ce341f2"
      },
      "execution_count": null,
      "outputs": [
        {
          "output_type": "display_data",
          "data": {
            "text/plain": [
              "   Country          City / Region          Name              System         \n",
              " Length:760         Length:760         Length:760         Length:760        \n",
              " Class :character   Class :character   Class :character   Class :character  \n",
              " Mode  :character   Mode  :character   Mode  :character   Mode  :character  \n",
              "   Operator           Launched         Discontinued      \n",
              " Length:760         Length:760         Length:760        \n",
              " Class :character   Class :character   Class :character  \n",
              " Mode  :character   Mode  :character   Mode  :character  "
            ]
          },
          "metadata": {}
        }
      ]
    },
    {
      "cell_type": "code",
      "source": [
        "# Export the dataframe into a csv file\n",
        "write.csv(bike_sharing_df, \"raw_bike_sharing_systems.csv\", row.names = FALSE)\n"
      ],
      "metadata": {
        "id": "HmR7ImGt9D9f"
      },
      "execution_count": null,
      "outputs": []
    }
  ]
}