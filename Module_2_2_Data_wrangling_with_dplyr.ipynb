{
  "nbformat": 4,
  "nbformat_minor": 0,
  "metadata": {
    "colab": {
      "provenance": [],
      "authorship_tag": "ABX9TyMEngcXbdQpFF36UuJ5TS8R",
      "include_colab_link": true
    },
    "kernelspec": {
      "name": "ir",
      "display_name": "R"
    },
    "language_info": {
      "name": "R"
    }
  },
  "cells": [
    {
      "cell_type": "markdown",
      "metadata": {
        "id": "view-in-github",
        "colab_type": "text"
      },
      "source": [
        "<a href=\"https://colab.research.google.com/github/aarav2703/Bike-sharing-R/blob/main/Module_2_2_Data_wrangling_with_dplyr.ipynb\" target=\"_parent\"><img src=\"https://colab.research.google.com/assets/colab-badge.svg\" alt=\"Open In Colab\"/></a>"
      ]
    },
    {
      "cell_type": "code",
      "execution_count": null,
      "metadata": {
        "colab": {
          "base_uri": "https://localhost:8080/",
          "height": 728
        },
        "id": "1jbK8L30FcG5",
        "outputId": "ee38eadc-9b83-4f68-8384-21b7cfafdf94"
      },
      "outputs": [
        {
          "output_type": "stream",
          "name": "stderr",
          "text": [
            "\u001b[1mRows: \u001b[22m\u001b[34m8760\u001b[39m \u001b[1mColumns: \u001b[22m\u001b[34m14\u001b[39m\n",
            "\u001b[36m──\u001b[39m \u001b[1mColumn specification\u001b[22m \u001b[36m────────────────────────────────────────────────────────\u001b[39m\n",
            "\u001b[1mDelimiter:\u001b[22m \",\"\n",
            "\u001b[31mchr\u001b[39m  (4): Date, SEASONS, HOLIDAY, FUNCTIONING_DAY\n",
            "\u001b[32mdbl\u001b[39m (10): RENTED_BIKE_COUNT, Hour, TEMPERATURE, HUMIDITY, WIND_SPEED, Visibi...\n",
            "\n",
            "\u001b[36mℹ\u001b[39m Use `spec()` to retrieve the full column specification for this data.\n",
            "\u001b[36mℹ\u001b[39m Specify the column types or set `show_col_types = FALSE` to quiet this message.\n"
          ]
        },
        {
          "output_type": "display_data",
          "data": {
            "text/plain": [
              "     Date           RENTED_BIKE_COUNT      Hour        TEMPERATURE    \n",
              " Length:8760        Min.   :   2.0    Min.   : 0.00   Min.   :-17.80  \n",
              " Class :character   1st Qu.: 214.0    1st Qu.: 5.75   1st Qu.:  3.40  \n",
              " Mode  :character   Median : 542.0    Median :11.50   Median : 13.70  \n",
              "                    Mean   : 729.2    Mean   :11.50   Mean   : 12.87  \n",
              "                    3rd Qu.:1084.0    3rd Qu.:17.25   3rd Qu.: 22.50  \n",
              "                    Max.   :3556.0    Max.   :23.00   Max.   : 39.40  \n",
              "                    NA's   :295                       NA's   :11      \n",
              "    HUMIDITY       WIND_SPEED      Visibility   DEW_POINT_TEMPERATURE\n",
              " Min.   : 0.00   Min.   :0.000   Min.   :  27   Min.   :-30.600      \n",
              " 1st Qu.:42.00   1st Qu.:0.900   1st Qu.: 940   1st Qu.: -4.700      \n",
              " Median :57.00   Median :1.500   Median :1698   Median :  5.100      \n",
              " Mean   :58.23   Mean   :1.725   Mean   :1437   Mean   :  4.074      \n",
              " 3rd Qu.:74.00   3rd Qu.:2.300   3rd Qu.:2000   3rd Qu.: 14.800      \n",
              " Max.   :98.00   Max.   :7.400   Max.   :2000   Max.   : 27.200      \n",
              "                                                                     \n",
              " SOLAR_RADIATION     RAINFALL          Snowfall         SEASONS         \n",
              " Min.   :0.0000   Min.   : 0.0000   Min.   :0.00000   Length:8760       \n",
              " 1st Qu.:0.0000   1st Qu.: 0.0000   1st Qu.:0.00000   Class :character  \n",
              " Median :0.0100   Median : 0.0000   Median :0.00000   Mode  :character  \n",
              " Mean   :0.5691   Mean   : 0.1487   Mean   :0.07507                     \n",
              " 3rd Qu.:0.9300   3rd Qu.: 0.0000   3rd Qu.:0.00000                     \n",
              " Max.   :3.5200   Max.   :35.0000   Max.   :8.80000                     \n",
              "                                                                        \n",
              "   HOLIDAY          FUNCTIONING_DAY   \n",
              " Length:8760        Length:8760       \n",
              " Class :character   Class :character  \n",
              " Mode  :character   Mode  :character  \n",
              "                                      \n",
              "                                      \n",
              "                                      \n",
              "                                      "
            ]
          },
          "metadata": {}
        },
        {
          "output_type": "display_data",
          "data": {
            "text/html": [
              "<style>\n",
              ".list-inline {list-style: none; margin:0; padding: 0}\n",
              ".list-inline>li {display: inline-block}\n",
              ".list-inline>li:not(:last-child)::after {content: \"\\00b7\"; padding: 0 .5ex}\n",
              "</style>\n",
              "<ol class=list-inline><li>8760</li><li>14</li></ol>\n"
            ],
            "text/markdown": "1. 8760\n2. 14\n\n\n",
            "text/latex": "\\begin{enumerate*}\n\\item 8760\n\\item 14\n\\end{enumerate*}\n",
            "text/plain": [
              "[1] 8760   14"
            ]
          },
          "metadata": {}
        }
      ],
      "source": [
        "# Load necessary libraries\n",
        "library(tidyverse)\n",
        "\n",
        "# Read the dataset from the URL\n",
        "url <- \"https://cf-courses-data.s3.us.cloud-object-storage.appdomain.cloud/IBMDeveloperSkillsNetwork-RP0321EN-SkillsNetwork/labs/datasets/raw_seoul_bike_sharing.csv\"\n",
        "bike_sharing_df <- read_csv(url)\n",
        "\n",
        "# Print the summary of the dataset\n",
        "summary(bike_sharing_df)\n",
        "\n",
        "# Print the dimensions of the dataset\n",
        "dim(bike_sharing_df)\n"
      ]
    },
    {
      "cell_type": "code",
      "source": [
        "# Drop rows with missing values in the RENTED_BIKE_COUNT column\n",
        "bike_sharing_df <- bike_sharing_df %>%\n",
        "  drop_na(RENTED_BIKE_COUNT)\n",
        "\n",
        "# Calculate the summer average temperature\n",
        "summer_avg_temp <- bike_sharing_df %>%\n",
        "  filter(SEASONS == \"Summer\") %>%\n",
        "  summarize(mean_temp = mean(TEMPERATURE, na.rm = TRUE)) %>%\n",
        "  pull(mean_temp)\n",
        "\n",
        "# Impute missing values for the TEMPERATURE column using the summer average temperature\n",
        "bike_sharing_df <- bike_sharing_df %>%\n",
        "  mutate(TEMPERATURE = ifelse(is.na(TEMPERATURE) & SEASONS == \"Summer\", summer_avg_temp, TEMPERATURE))\n",
        "\n",
        "# Print the summary of the dataset again to ensure there are no missing values\n",
        "summary(bike_sharing_df)\n",
        "\n",
        "# Save the cleaned dataset\n",
        "write_csv(bike_sharing_df, \"seoul_bike_sharing.csv\")\n"
      ],
      "metadata": {
        "colab": {
          "base_uri": "https://localhost:8080/",
          "height": 503
        },
        "id": "fZyN7gr3GRhf",
        "outputId": "7c4b99d5-d3be-4c9d-848c-13de15bb25df"
      },
      "execution_count": null,
      "outputs": [
        {
          "output_type": "display_data",
          "data": {
            "text/plain": [
              "     Date           RENTED_BIKE_COUNT      Hour        TEMPERATURE    \n",
              " Length:8465        Min.   :   2.0    Min.   : 0.00   Min.   :-17.80  \n",
              " Class :character   1st Qu.: 214.0    1st Qu.: 6.00   1st Qu.:  3.00  \n",
              " Mode  :character   Median : 542.0    Median :12.00   Median : 13.50  \n",
              "                    Mean   : 729.2    Mean   :11.51   Mean   : 12.77  \n",
              "                    3rd Qu.:1084.0    3rd Qu.:18.00   3rd Qu.: 22.70  \n",
              "                    Max.   :3556.0    Max.   :23.00   Max.   : 39.40  \n",
              "    HUMIDITY       WIND_SPEED      Visibility   DEW_POINT_TEMPERATURE\n",
              " Min.   : 0.00   Min.   :0.000   Min.   :  27   Min.   :-30.600      \n",
              " 1st Qu.:42.00   1st Qu.:0.900   1st Qu.: 935   1st Qu.: -5.100      \n",
              " Median :57.00   Median :1.500   Median :1690   Median :  4.700      \n",
              " Mean   :58.15   Mean   :1.726   Mean   :1434   Mean   :  3.945      \n",
              " 3rd Qu.:74.00   3rd Qu.:2.300   3rd Qu.:2000   3rd Qu.: 15.200      \n",
              " Max.   :98.00   Max.   :7.400   Max.   :2000   Max.   : 27.200      \n",
              " SOLAR_RADIATION     RAINFALL          Snowfall         SEASONS         \n",
              " Min.   :0.0000   Min.   : 0.0000   Min.   :0.00000   Length:8465       \n",
              " 1st Qu.:0.0000   1st Qu.: 0.0000   1st Qu.:0.00000   Class :character  \n",
              " Median :0.0100   Median : 0.0000   Median :0.00000   Mode  :character  \n",
              " Mean   :0.5679   Mean   : 0.1491   Mean   :0.07769                     \n",
              " 3rd Qu.:0.9300   3rd Qu.: 0.0000   3rd Qu.:0.00000                     \n",
              " Max.   :3.5200   Max.   :35.0000   Max.   :8.80000                     \n",
              "   HOLIDAY          FUNCTIONING_DAY   \n",
              " Length:8465        Length:8465       \n",
              " Class :character   Class :character  \n",
              " Mode  :character   Mode  :character  \n",
              "                                      \n",
              "                                      \n",
              "                                      "
            ]
          },
          "metadata": {}
        }
      ]
    },
    {
      "cell_type": "code",
      "source": [
        "# Convert HOUR column from numeric to character\n",
        "bike_sharing_df <- bike_sharing_df %>%\n",
        "  mutate(HOURS = as.character(Hour))\n",
        "\n",
        "# Create indicator variables for SEASONS, HOLIDAY, FUNCTIONING_DAY, and HOUR\n",
        "bike_sharing_df <- bike_sharing_df %>%\n",
        "  mutate_at(vars(SEASONS, HOLIDAY, FUNCTIONING_DAY, Hour), as.factor) %>%\n",
        "  mutate(HOLIDAY = ifelse(HOLIDAY == \"Holiday\", 1, 0),\n",
        "         FUNCTIONING_DAY = ifelse(FUNCTIONING_DAY == \"Fun\", 1, 0)) %>%\n",
        "  pivot_wider(names_from = SEASONS, values_from = SEASONS, values_fill = 0, values_fn = list(SEASONS = ~1)) %>%\n",
        "  pivot_wider(names_from = Hour, values_from = Hour, values_fill = 0, values_fn = list(Hour = ~1))\n",
        "\n",
        "# Save the dataset with indicator variables\n",
        "write_csv(bike_sharing_df, \"seoul_bike_sharing_converted.csv\")\n"
      ],
      "metadata": {
        "id": "aK4ATSLFHDKD"
      },
      "execution_count": null,
      "outputs": []
    },
    {
      "cell_type": "code",
      "source": [
        "# Min-max normalization function\n",
        "min_max_norm <- function(x) {\n",
        "  return((x - min(x)) / (max(x) - min(x)))\n",
        "}\n",
        "\n",
        "# Apply min-max normalization to the numeric columns\n",
        "bike_sharing_df <- bike_sharing_df %>%\n",
        "  mutate_at(vars(RENTED_BIKE_COUNT, TEMPERATURE, HUMIDITY, WIND_SPEED, Visibility,\n",
        "                 DEW_POINT_TEMPERATURE, SOLAR_RADIATION, RAINFALL, Snowfall), min_max_norm)\n",
        "\n",
        "# Save the normalized dataset\n",
        "write_csv(bike_sharing_df, \"seoul_bike_sharing_converted_normalized.csv\")\n"
      ],
      "metadata": {
        "id": "UbOUUr8KHE2T"
      },
      "execution_count": null,
      "outputs": []
    },
    {
      "cell_type": "code",
      "source": [
        "# Dataset list\n",
        "dataset_list <- c('seoul_bike_sharing.csv', 'seoul_bike_sharing_converted.csv', 'seoul_bike_sharing_converted_normalized.csv')\n",
        "\n",
        "for (dataset_name in dataset_list) {\n",
        "  # Read dataset\n",
        "  dataset <- read_csv(dataset_name)\n",
        "  # Standardize its columns\n",
        "  names(dataset) <- toupper(names(dataset))\n",
        "  names(dataset) <- str_replace_all(names(dataset), \" \", \"_\")\n",
        "  # Save the dataset back\n",
        "  write_csv(dataset, dataset_name)\n",
        "}\n"
      ],
      "metadata": {
        "colab": {
          "base_uri": "https://localhost:8080/"
        },
        "id": "bHuVk3zVHjrQ",
        "outputId": "26f7fa61-688e-40cb-ffca-225435b9d19c"
      },
      "execution_count": null,
      "outputs": [
        {
          "output_type": "stream",
          "name": "stderr",
          "text": [
            "\u001b[1mRows: \u001b[22m\u001b[34m8465\u001b[39m \u001b[1mColumns: \u001b[22m\u001b[34m14\u001b[39m\n",
            "\u001b[36m──\u001b[39m \u001b[1mColumn specification\u001b[22m \u001b[36m────────────────────────────────────────────────────────\u001b[39m\n",
            "\u001b[1mDelimiter:\u001b[22m \",\"\n",
            "\u001b[31mchr\u001b[39m  (4): Date, SEASONS, HOLIDAY, FUNCTIONING_DAY\n",
            "\u001b[32mdbl\u001b[39m (10): RENTED_BIKE_COUNT, Hour, TEMPERATURE, HUMIDITY, WIND_SPEED, Visibi...\n",
            "\n",
            "\u001b[36mℹ\u001b[39m Use `spec()` to retrieve the full column specification for this data.\n",
            "\u001b[36mℹ\u001b[39m Specify the column types or set `show_col_types = FALSE` to quiet this message.\n",
            "\u001b[1mRows: \u001b[22m\u001b[34m8465\u001b[39m \u001b[1mColumns: \u001b[22m\u001b[34m41\u001b[39m\n",
            "\u001b[36m──\u001b[39m \u001b[1mColumn specification\u001b[22m \u001b[36m────────────────────────────────────────────────────────\u001b[39m\n",
            "\u001b[1mDelimiter:\u001b[22m \",\"\n",
            "\u001b[31mchr\u001b[39m  (1): Date\n",
            "\u001b[32mdbl\u001b[39m (40): RENTED_BIKE_COUNT, TEMPERATURE, HUMIDITY, WIND_SPEED, Visibility, ...\n",
            "\n",
            "\u001b[36mℹ\u001b[39m Use `spec()` to retrieve the full column specification for this data.\n",
            "\u001b[36mℹ\u001b[39m Specify the column types or set `show_col_types = FALSE` to quiet this message.\n",
            "\u001b[1mRows: \u001b[22m\u001b[34m8465\u001b[39m \u001b[1mColumns: \u001b[22m\u001b[34m41\u001b[39m\n",
            "\u001b[36m──\u001b[39m \u001b[1mColumn specification\u001b[22m \u001b[36m────────────────────────────────────────────────────────\u001b[39m\n",
            "\u001b[1mDelimiter:\u001b[22m \",\"\n",
            "\u001b[31mchr\u001b[39m  (1): Date\n",
            "\u001b[32mdbl\u001b[39m (40): RENTED_BIKE_COUNT, TEMPERATURE, HUMIDITY, WIND_SPEED, Visibility, ...\n",
            "\n",
            "\u001b[36mℹ\u001b[39m Use `spec()` to retrieve the full column specification for this data.\n",
            "\u001b[36mℹ\u001b[39m Specify the column types or set `show_col_types = FALSE` to quiet this message.\n"
          ]
        }
      ]
    },
    {
      "cell_type": "code",
      "source": [],
      "metadata": {
        "id": "fCuJn4RyH2Nx"
      },
      "execution_count": null,
      "outputs": []
    }
  ]
}